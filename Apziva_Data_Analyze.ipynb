{
  "nbformat": 4,
  "nbformat_minor": 0,
  "metadata": {
    "colab": {
      "name": "Apziva_Data_Analyze.ipynb",
      "provenance": [],
      "mount_file_id": "1jw80nuQPt5ZJy3hxNiKU7wlQAEnIDvGq",
      "authorship_tag": "ABX9TyO9uhZYhV8whnHwTPhHUSs6",
      "include_colab_link": true
    },
    "kernelspec": {
      "name": "python3",
      "display_name": "Python 3"
    }
  },
  "cells": [
    {
      "cell_type": "markdown",
      "metadata": {
        "id": "view-in-github",
        "colab_type": "text"
      },
      "source": [
        "<a href=\"https://colab.research.google.com/github/kserdem/wiJa5VbZ8D4Mj1PX/blob/main/Apziva_Data_Analyze.ipynb\" target=\"_parent\"><img src=\"https://colab.research.google.com/assets/colab-badge.svg\" alt=\"Open In Colab\"/></a>"
      ]
    },
    {
      "cell_type": "code",
      "metadata": {
        "id": "ccXuGHxCRxaL"
      },
      "source": [
        ""
      ],
      "execution_count": null,
      "outputs": []
    },
    {
      "cell_type": "markdown",
      "metadata": {
        "id": "_hIqNKfsRySE"
      },
      "source": [
        "#REPORT\r\n",
        "\r\n",
        "Y = target attribute (Y) with values indicating 0 (unhappy) and 1 (happy) customers\r\n",
        "* X1 = my order was delivered on time\r\n",
        "* X2 = contents of my order was as I expected\r\n",
        "* X3 = I ordered everything I wanted to order\r\n",
        "* X4 = I paid a good price for my order\r\n",
        "* X5 = I am satisfied with my courier\r\n",
        "* X6 = the app makes ordering easy for me\r\n",
        "\r\n",
        "> The most important variables X1,X3,X5,X6 determined.(GBM Feature Important)\r\n",
        "\r\n",
        "> 9 different algorithms were used in the analysis.\r\n",
        "* Logistic Regression\r\n",
        "* GBM\r\n",
        "* Naive Bayes\r\n",
        "* Neural Networks\r\n",
        "* LGBM\r\n",
        "* XGB\r\n",
        "* Decision Tree\r\n",
        "* Random Forest\r\n",
        "* CatBoost\r\n",
        "\r\n",
        "\r\n",
        "> **THE BEST THREE MODEL**\r\n",
        "* FEATURES ARE X1,X3,X5,X6\r\n",
        "* CATBOOST -> Accuracy Score = 0.79\r\n",
        "* XGB -> Accuracy Score = 0.78\r\n",
        "* GBM and RANDOM FOREST -> Accuracy Score = 0.76\r\n",
        "\r\n",
        "\r\n",
        "\r\n",
        "\r\n",
        "\r\n"
      ]
    },
    {
      "cell_type": "code",
      "metadata": {
        "colab": {
          "base_uri": "https://localhost:8080/"
        },
        "id": "KIWzLhvtRSWZ",
        "outputId": "64f1d8f5-8e6b-4a79-925d-a1f16f8d35f4"
      },
      "source": [
        "import pandas as pd\r\n",
        "import numpy as np\r\n",
        "import seaborn as sns\r\n",
        "from sklearn.metrics import confusion_matrix, accuracy_score, classification_report\r\n",
        "from sklearn.metrics import roc_auc_score,roc_curve\r\n",
        "from sklearn.model_selection import train_test_split, GridSearchCV, cross_val_score\r\n",
        "import matplotlib.pyplot as plt\r\n",
        "import plotly.express as px\r\n",
        "from sklearn.ensemble import GradientBoostingClassifier\r\n",
        "from xgboost import XGBClassifier\r\n",
        "from lightgbm import LGBMClassifier\r\n",
        "from sklearn.neural_network import MLPClassifier\r\n",
        "\r\n",
        "import plotly.graph_objects as go\r\n",
        "import statsmodels.api as sm\r\n",
        "from sklearn.linear_model import LogisticRegression\r\n",
        "from sklearn.ensemble import RandomForestClassifier\r\n",
        "from sklearn.tree import DecisionTreeClassifier\r\n",
        "from sklearn import tree\r\n",
        "from sklearn.naive_bayes import GaussianNB\r\n",
        "from sklearn.neighbors import KNeighborsClassifier\r\n",
        "from sklearn.svm import SVC\r\n",
        "\r\n",
        "\r\n",
        "from warnings import filterwarnings\r\n",
        "filterwarnings('ignore')"
      ],
      "execution_count": 2,
      "outputs": [
        {
          "output_type": "stream",
          "text": [
            "/usr/local/lib/python3.6/dist-packages/statsmodels/tools/_testing.py:19: FutureWarning:\n",
            "\n",
            "pandas.util.testing is deprecated. Use the functions in the public API at pandas.testing instead.\n",
            "\n"
          ],
          "name": "stderr"
        }
      ]
    },
    {
      "cell_type": "code",
      "metadata": {
        "colab": {
          "base_uri": "https://localhost:8080/"
        },
        "id": "6GIKA57isFD1",
        "outputId": "01524ab3-25d4-471e-b88e-8dd4cb038824"
      },
      "source": [
        "!pip install catboost"
      ],
      "execution_count": 4,
      "outputs": [
        {
          "output_type": "stream",
          "text": [
            "Collecting catboost\n",
            "\u001b[?25l  Downloading https://files.pythonhosted.org/packages/20/37/bc4e0ddc30c07a96482abf1de7ed1ca54e59bba2026a33bca6d2ef286e5b/catboost-0.24.4-cp36-none-manylinux1_x86_64.whl (65.7MB)\n",
            "\u001b[K     |████████████████████████████████| 65.8MB 83kB/s \n",
            "\u001b[?25hRequirement already satisfied: six in /usr/local/lib/python3.6/dist-packages (from catboost) (1.15.0)\n",
            "Requirement already satisfied: plotly in /usr/local/lib/python3.6/dist-packages (from catboost) (4.4.1)\n",
            "Requirement already satisfied: numpy>=1.16.0 in /usr/local/lib/python3.6/dist-packages (from catboost) (1.19.5)\n",
            "Requirement already satisfied: graphviz in /usr/local/lib/python3.6/dist-packages (from catboost) (0.10.1)\n",
            "Requirement already satisfied: scipy in /usr/local/lib/python3.6/dist-packages (from catboost) (1.4.1)\n",
            "Requirement already satisfied: pandas>=0.24.0 in /usr/local/lib/python3.6/dist-packages (from catboost) (1.1.5)\n",
            "Requirement already satisfied: matplotlib in /usr/local/lib/python3.6/dist-packages (from catboost) (3.2.2)\n",
            "Requirement already satisfied: retrying>=1.3.3 in /usr/local/lib/python3.6/dist-packages (from plotly->catboost) (1.3.3)\n",
            "Requirement already satisfied: python-dateutil>=2.7.3 in /usr/local/lib/python3.6/dist-packages (from pandas>=0.24.0->catboost) (2.8.1)\n",
            "Requirement already satisfied: pytz>=2017.2 in /usr/local/lib/python3.6/dist-packages (from pandas>=0.24.0->catboost) (2018.9)\n",
            "Requirement already satisfied: pyparsing!=2.0.4,!=2.1.2,!=2.1.6,>=2.0.1 in /usr/local/lib/python3.6/dist-packages (from matplotlib->catboost) (2.4.7)\n",
            "Requirement already satisfied: kiwisolver>=1.0.1 in /usr/local/lib/python3.6/dist-packages (from matplotlib->catboost) (1.3.1)\n",
            "Requirement already satisfied: cycler>=0.10 in /usr/local/lib/python3.6/dist-packages (from matplotlib->catboost) (0.10.0)\n",
            "Installing collected packages: catboost\n",
            "Successfully installed catboost-0.24.4\n"
          ],
          "name": "stdout"
        }
      ]
    },
    {
      "cell_type": "code",
      "metadata": {
        "id": "ec3HgYuIr8fl"
      },
      "source": [
        "from catboost import CatBoostClassifier"
      ],
      "execution_count": 5,
      "outputs": []
    },
    {
      "cell_type": "code",
      "metadata": {
        "colab": {
          "base_uri": "https://localhost:8080/",
          "height": 197
        },
        "id": "G7eg51HBRZBC",
        "outputId": "f15ad61f-9001-4fcb-a4bd-3bdbb8b12ac9"
      },
      "source": [
        "path=\"/content/drive/MyDrive/Projeler/Apziva/\"\r\n",
        "First_data=pd.read_csv(path+\"ACME-HappinessSurvey2020.csv\")\r\n",
        "data=First_data.copy()\r\n",
        "data.head()"
      ],
      "execution_count": 6,
      "outputs": [
        {
          "output_type": "execute_result",
          "data": {
            "text/html": [
              "<div>\n",
              "<style scoped>\n",
              "    .dataframe tbody tr th:only-of-type {\n",
              "        vertical-align: middle;\n",
              "    }\n",
              "\n",
              "    .dataframe tbody tr th {\n",
              "        vertical-align: top;\n",
              "    }\n",
              "\n",
              "    .dataframe thead th {\n",
              "        text-align: right;\n",
              "    }\n",
              "</style>\n",
              "<table border=\"1\" class=\"dataframe\">\n",
              "  <thead>\n",
              "    <tr style=\"text-align: right;\">\n",
              "      <th></th>\n",
              "      <th>Y</th>\n",
              "      <th>X1</th>\n",
              "      <th>X2</th>\n",
              "      <th>X3</th>\n",
              "      <th>X4</th>\n",
              "      <th>X5</th>\n",
              "      <th>X6</th>\n",
              "    </tr>\n",
              "  </thead>\n",
              "  <tbody>\n",
              "    <tr>\n",
              "      <th>0</th>\n",
              "      <td>0</td>\n",
              "      <td>3</td>\n",
              "      <td>3</td>\n",
              "      <td>3</td>\n",
              "      <td>4</td>\n",
              "      <td>2</td>\n",
              "      <td>4</td>\n",
              "    </tr>\n",
              "    <tr>\n",
              "      <th>1</th>\n",
              "      <td>0</td>\n",
              "      <td>3</td>\n",
              "      <td>2</td>\n",
              "      <td>3</td>\n",
              "      <td>5</td>\n",
              "      <td>4</td>\n",
              "      <td>3</td>\n",
              "    </tr>\n",
              "    <tr>\n",
              "      <th>2</th>\n",
              "      <td>1</td>\n",
              "      <td>5</td>\n",
              "      <td>3</td>\n",
              "      <td>3</td>\n",
              "      <td>3</td>\n",
              "      <td>3</td>\n",
              "      <td>5</td>\n",
              "    </tr>\n",
              "    <tr>\n",
              "      <th>3</th>\n",
              "      <td>0</td>\n",
              "      <td>5</td>\n",
              "      <td>4</td>\n",
              "      <td>3</td>\n",
              "      <td>3</td>\n",
              "      <td>3</td>\n",
              "      <td>5</td>\n",
              "    </tr>\n",
              "    <tr>\n",
              "      <th>4</th>\n",
              "      <td>0</td>\n",
              "      <td>5</td>\n",
              "      <td>4</td>\n",
              "      <td>3</td>\n",
              "      <td>3</td>\n",
              "      <td>3</td>\n",
              "      <td>5</td>\n",
              "    </tr>\n",
              "  </tbody>\n",
              "</table>\n",
              "</div>"
            ],
            "text/plain": [
              "   Y  X1  X2  X3  X4  X5  X6\n",
              "0  0   3   3   3   4   2   4\n",
              "1  0   3   2   3   5   4   3\n",
              "2  1   5   3   3   3   3   5\n",
              "3  0   5   4   3   3   3   5\n",
              "4  0   5   4   3   3   3   5"
            ]
          },
          "metadata": {
            "tags": []
          },
          "execution_count": 6
        }
      ]
    },
    {
      "cell_type": "markdown",
      "metadata": {
        "id": "tTRkxUz75e7A"
      },
      "source": [
        "#DATA INFO"
      ]
    },
    {
      "cell_type": "code",
      "metadata": {
        "colab": {
          "base_uri": "https://localhost:8080/"
        },
        "id": "GFYVeTQERZFy",
        "outputId": "c70f640e-72cb-4755-fa3a-70ab49b6feab"
      },
      "source": [
        "data.info()"
      ],
      "execution_count": null,
      "outputs": [
        {
          "output_type": "stream",
          "text": [
            "<class 'pandas.core.frame.DataFrame'>\n",
            "RangeIndex: 126 entries, 0 to 125\n",
            "Data columns (total 7 columns):\n",
            " #   Column  Non-Null Count  Dtype\n",
            "---  ------  --------------  -----\n",
            " 0   Y       126 non-null    int64\n",
            " 1   X1      126 non-null    int64\n",
            " 2   X2      126 non-null    int64\n",
            " 3   X3      126 non-null    int64\n",
            " 4   X4      126 non-null    int64\n",
            " 5   X5      126 non-null    int64\n",
            " 6   X6      126 non-null    int64\n",
            "dtypes: int64(7)\n",
            "memory usage: 7.0 KB\n"
          ],
          "name": "stdout"
        }
      ]
    },
    {
      "cell_type": "code",
      "metadata": {
        "colab": {
          "base_uri": "https://localhost:8080/",
          "height": 495
        },
        "id": "x8ORy4YxRZH8",
        "outputId": "ba7efa84-9c47-4e69-a10b-58969f6fc35d"
      },
      "source": [
        "fig, ax = plt.subplots(1, 1, figsize = (18, 8))#subplot acılacak pencere sayısını gösterir\r\n",
        "data[\"Y\"].value_counts().plot.bar(color = \"blue\", ax = ax)"
      ],
      "execution_count": null,
      "outputs": [
        {
          "output_type": "execute_result",
          "data": {
            "text/plain": [
              "<matplotlib.axes._subplots.AxesSubplot at 0x7f6c68274160>"
            ]
          },
          "metadata": {
            "tags": []
          },
          "execution_count": 6
        },
        {
          "output_type": "display_data",
          "data": {
            "image/png": "[encoded data removed]",
            "text/plain": [
              "<Figure size 1296x576 with 1 Axes>"
            ]
          },
          "metadata": {
            "tags": [],
            "needs_background": "light"
          }
        }
      ]
    },
    {
      "cell_type": "code",
      "metadata": {
        "colab": {
          "base_uri": "https://localhost:8080/",
          "height": 278
        },
        "id": "JR2fTMHqRZJs",
        "outputId": "45ad9fa1-8751-471c-df9d-527066a772f8"
      },
      "source": [
        "data[\"X1\"].value_counts().plot.bar(color = \"blue\")"
      ],
      "execution_count": null,
      "outputs": [
        {
          "output_type": "execute_result",
          "data": {
            "text/plain": [
              "<matplotlib.axes._subplots.AxesSubplot at 0x7f6c67d68be0>"
            ]
          },
          "metadata": {
            "tags": []
          },
          "execution_count": 7
        },
        {
          "output_type": "display_data",
          "data": {
            "image/png": "[encoded data removed]",
            "text/plain": [
              "<Figure size 432x288 with 1 Axes>"
            ]
          },
          "metadata": {
            "tags": [],
            "needs_background": "light"
          }
        }
      ]
    },
    {
      "cell_type": "code",
      "metadata": {
        "colab": {
          "base_uri": "https://localhost:8080/",
          "height": 278
        },
        "id": "HRw3dOa2Te_L",
        "outputId": "c0c78cdb-8ae8-4d04-cab7-1bd438a22f32"
      },
      "source": [
        "data[\"X2\"].value_counts().plot.bar(color = \"blue\")"
      ],
      "execution_count": null,
      "outputs": [
        {
          "output_type": "execute_result",
          "data": {
            "text/plain": [
              "<matplotlib.axes._subplots.AxesSubplot at 0x7f6c67cd0a58>"
            ]
          },
          "metadata": {
            "tags": []
          },
          "execution_count": 8
        },
        {
          "output_type": "display_data",
          "data": {
            "image/png": "[encoded data removed]",
            "text/plain": [
              "<Figure size 432x288 with 1 Axes>"
            ]
          },
          "metadata": {
            "tags": [],
            "needs_background": "light"
          }
        }
      ]
    },
    {
      "cell_type": "code",
      "metadata": {
        "colab": {
          "base_uri": "https://localhost:8080/",
          "height": 278
        },
        "id": "mvEvaX7GTiUE",
        "outputId": "5134d4b0-4e7b-4b63-fc87-ec2918820d59"
      },
      "source": [
        "data[\"X3\"].value_counts().plot.bar(color = \"blue\")"
      ],
      "execution_count": null,
      "outputs": [
        {
          "output_type": "execute_result",
          "data": {
            "text/plain": [
              "<matplotlib.axes._subplots.AxesSubplot at 0x7f6c67c97320>"
            ]
          },
          "metadata": {
            "tags": []
          },
          "execution_count": 9
        },
        {
          "output_type": "display_data",
          "data": {
            "image/png": "[encoded data removed]",
            "text/plain": [
              "<Figure size 432x288 with 1 Axes>"
            ]
          },
          "metadata": {
            "tags": [],
            "needs_background": "light"
          }
        }
      ]
    },
    {
      "cell_type": "code",
      "metadata": {
        "colab": {
          "base_uri": "https://localhost:8080/",
          "height": 278
        },
        "id": "1xc5NrKlTm56",
        "outputId": "fde1622d-627a-4577-a518-cbdec917a3e8"
      },
      "source": [
        "data[\"X4\"].value_counts().plot.bar(color = \"blue\")"
      ],
      "execution_count": null,
      "outputs": [
        {
          "output_type": "execute_result",
          "data": {
            "text/plain": [
              "<matplotlib.axes._subplots.AxesSubplot at 0x7f6c67cb07f0>"
            ]
          },
          "metadata": {
            "tags": []
          },
          "execution_count": 10
        },
        {
          "output_type": "display_data",
          "data": {
            "image/png": "[encoded data removed]",
            "text/plain": [
              "<Figure size 432x288 with 1 Axes>"
            ]
          },
          "metadata": {
            "tags": [],
            "needs_background": "light"
          }
        }
      ]
    },
    {
      "cell_type": "code",
      "metadata": {
        "colab": {
          "base_uri": "https://localhost:8080/",
          "height": 278
        },
        "id": "AzZo2ITeTo1B",
        "outputId": "960c93d7-fbb9-4cb8-c5ca-9da1c16a02f9"
      },
      "source": [
        "data[\"X5\"].value_counts().plot.bar(color = \"blue\")"
      ],
      "execution_count": null,
      "outputs": [
        {
          "output_type": "execute_result",
          "data": {
            "text/plain": [
              "<matplotlib.axes._subplots.AxesSubplot at 0x7f6c67be3fd0>"
            ]
          },
          "metadata": {
            "tags": []
          },
          "execution_count": 11
        },
        {
          "output_type": "display_data",
          "data": {
            "image/png": "[encoded data removed]",
            "text/plain": [
              "<Figure size 432x288 with 1 Axes>"
            ]
          },
          "metadata": {
            "tags": [],
            "needs_background": "light"
          }
        }
      ]
    },
    {
      "cell_type": "code",
      "metadata": {
        "colab": {
          "base_uri": "https://localhost:8080/",
          "height": 278
        },
        "id": "M_KkWw6FTqwx",
        "outputId": "7e972a3d-1e36-41d0-e065-1925f1dd6b33"
      },
      "source": [
        "data[\"X6\"].value_counts().plot.bar(color = \"blue\")"
      ],
      "execution_count": null,
      "outputs": [
        {
          "output_type": "execute_result",
          "data": {
            "text/plain": [
              "<matplotlib.axes._subplots.AxesSubplot at 0x7f6c67b60f98>"
            ]
          },
          "metadata": {
            "tags": []
          },
          "execution_count": 12
        },
        {
          "output_type": "display_data",
          "data": {
            "image/png": "[encoded data removed]",
            "text/plain": [
              "<Figure size 432x288 with 1 Axes>"
            ]
          },
          "metadata": {
            "tags": [],
            "needs_background": "light"
          }
        }
      ]
    },
    {
      "cell_type": "markdown",
      "metadata": {
        "id": "gTjS_Rrf5G6g"
      },
      "source": [
        "#TRAİN-TEST"
      ]
    },
    {
      "cell_type": "code",
      "metadata": {
        "colab": {
          "base_uri": "https://localhost:8080/"
        },
        "id": "7YpQap12TsPL",
        "outputId": "cfd426d8-dfd6-4d8f-dc1a-0f47112c588b"
      },
      "source": [
        "y=data['Y']\r\n",
        "data=data.drop('Y',axis=1)\r\n",
        "data.info()"
      ],
      "execution_count": 7,
      "outputs": [
        {
          "output_type": "stream",
          "text": [
            "<class 'pandas.core.frame.DataFrame'>\n",
            "RangeIndex: 126 entries, 0 to 125\n",
            "Data columns (total 6 columns):\n",
            " #   Column  Non-Null Count  Dtype\n",
            "---  ------  --------------  -----\n",
            " 0   X1      126 non-null    int64\n",
            " 1   X2      126 non-null    int64\n",
            " 2   X3      126 non-null    int64\n",
            " 3   X4      126 non-null    int64\n",
            " 4   X5      126 non-null    int64\n",
            " 5   X6      126 non-null    int64\n",
            "dtypes: int64(6)\n",
            "memory usage: 6.0 KB\n"
          ],
          "name": "stdout"
        }
      ]
    },
    {
      "cell_type": "code",
      "metadata": {
        "colab": {
          "base_uri": "https://localhost:8080/"
        },
        "id": "LvqzCsTIVgHx",
        "outputId": "7d685535-ec31-4322-9b1d-037663ecab0d"
      },
      "source": [
        "from sklearn.model_selection import train_test_split, cross_val_score\r\n",
        "X_train,X_test,y_train,y_test=train_test_split(data,y,test_size=0.43, random_state=42)\r\n",
        "print(\"X_train\", X_train.shape)\r\n",
        "\r\n",
        "print(\"y_train\",y_train.shape)\r\n",
        "\r\n",
        "print(\"X_test\",X_test.shape)\r\n",
        "\r\n",
        "print(\"y_test\",y_test.shape)"
      ],
      "execution_count": 195,
      "outputs": [
        {
          "output_type": "stream",
          "text": [
            "X_train (71, 6)\n",
            "y_train (71,)\n",
            "X_test (55, 6)\n",
            "y_test (55,)\n"
          ],
          "name": "stdout"
        }
      ]
    },
    {
      "cell_type": "markdown",
      "metadata": {
        "id": "Cle3OogFbxNa"
      },
      "source": [
        "# LOJİSTİK REGRESYON"
      ]
    },
    {
      "cell_type": "code",
      "metadata": {
        "colab": {
          "base_uri": "https://localhost:8080/"
        },
        "id": "i--HIQ2MVgDK",
        "outputId": "739100b4-4cd9-4a2e-bde1-807b8416d741"
      },
      "source": [
        "#Tüm değişkenler modele alındığında\r\n",
        "loj=LogisticRegression(random_state=55)\r\n",
        "loj_model=loj.fit(X_train,y_train)\r\n",
        "y_pred=loj_model.predict(X_test)\r\n",
        "print(accuracy_score(y_test,loj_model.predict(X_test)))\r\n",
        "\r\n",
        "print(classification_report(y_test,y_pred))\r\n"
      ],
      "execution_count": 74,
      "outputs": [
        {
          "output_type": "stream",
          "text": [
            "0.5636363636363636\n",
            "              precision    recall  f1-score   support\n",
            "\n",
            "           0       0.59      0.59      0.59        29\n",
            "           1       0.54      0.54      0.54        26\n",
            "\n",
            "    accuracy                           0.56        55\n",
            "   macro avg       0.56      0.56      0.56        55\n",
            "weighted avg       0.56      0.56      0.56        55\n",
            "\n"
          ],
          "name": "stdout"
        }
      ]
    },
    {
      "cell_type": "code",
      "metadata": {
        "colab": {
          "base_uri": "https://localhost:8080/"
        },
        "id": "8WszVi27Wpei",
        "outputId": "c7426f82-e763-4c1e-c989-c5d5c12744f8"
      },
      "source": [
        "selection=data[['X3','X5']]\r\n",
        "from sklearn.model_selection import train_test_split, cross_val_score\r\n",
        "X_train_selection,X_test_selection,y_train,y_test=train_test_split(selection,y,test_size=0.53, random_state=42)\r\n",
        "print(\"X_train\", X_train_selection.shape)\r\n",
        "\r\n",
        "print(\"y_train\",y_train.shape)\r\n",
        "\r\n",
        "print(\"X_test\",X_test_selection.shape)\r\n",
        "\r\n",
        "print(\"y_test\",y_test.shape)"
      ],
      "execution_count": 62,
      "outputs": [
        {
          "output_type": "stream",
          "text": [
            "X_train (59, 2)\n",
            "y_train (59,)\n",
            "X_test (67, 2)\n",
            "y_test (67,)\n"
          ],
          "name": "stdout"
        }
      ]
    },
    {
      "cell_type": "code",
      "metadata": {
        "colab": {
          "base_uri": "https://localhost:8080/"
        },
        "id": "fNWzNOGiVgA_",
        "outputId": "51d69a51-a915-4b83-8cab-4cc15d30ea6c"
      },
      "source": [
        "loj=LogisticRegression(random_state=11)\r\n",
        "loj_model_tune=loj.fit(X_train_selection,y_train)\r\n",
        "y_pred=loj_model.predict(X_test_selection)\r\n",
        "print(accuracy_score(y_test,loj_model.predict(X_test_selection)))\r\n",
        "print(classification_report(y_test,y_pred))"
      ],
      "execution_count": 64,
      "outputs": [
        {
          "output_type": "stream",
          "text": [
            "0.5970149253731343\n",
            "              precision    recall  f1-score   support\n",
            "\n",
            "           0       0.63      0.38      0.47        32\n",
            "           1       0.58      0.80      0.67        35\n",
            "\n",
            "    accuracy                           0.60        67\n",
            "   macro avg       0.61      0.59      0.57        67\n",
            "weighted avg       0.61      0.60      0.58        67\n",
            "\n"
          ],
          "name": "stdout"
        }
      ]
    },
    {
      "cell_type": "markdown",
      "metadata": {
        "id": "vhuGlxT1b5cT"
      },
      "source": [
        "# GBM MODEL"
      ]
    },
    {
      "cell_type": "code",
      "metadata": {
        "colab": {
          "base_uri": "https://localhost:8080/"
        },
        "id": "RK1sM_5wVf_I",
        "outputId": "1606d3de-5fc2-4804-f2ca-006748ed00ec"
      },
      "source": [
        "gbm_model = GradientBoostingClassifier(random_state=11).fit(X_train, y_train)\r\n",
        "y_pred_gbm = gbm_model.predict(X_test)\r\n",
        "print(classification_report(y_test,y_pred_gbm ))\r\n"
      ],
      "execution_count": 76,
      "outputs": [
        {
          "output_type": "stream",
          "text": [
            "              precision    recall  f1-score   support\n",
            "\n",
            "           0       0.62      0.52      0.57        29\n",
            "           1       0.55      0.65      0.60        26\n",
            "\n",
            "    accuracy                           0.58        55\n",
            "   macro avg       0.59      0.59      0.58        55\n",
            "weighted avg       0.59      0.58      0.58        55\n",
            "\n"
          ],
          "name": "stdout"
        }
      ]
    },
    {
      "cell_type": "code",
      "metadata": {
        "id": "e3rVapAsaeut"
      },
      "source": [
        "Importance = pd.DataFrame({\"Importance\": gbm_model.feature_importances_*100},\r\n",
        "                         index = X_train.columns)"
      ],
      "execution_count": null,
      "outputs": []
    },
    {
      "cell_type": "code",
      "metadata": {
        "colab": {
          "base_uri": "https://localhost:8080/",
          "height": 297
        },
        "id": "74alUdR5amHR",
        "outputId": "19f5eee0-01ad-4b25-8d47-03a9c818fc2c"
      },
      "source": [
        "Importance.sort_values(by = \"Importance\", \r\n",
        "                       axis = 0, \r\n",
        "                       ascending = True).plot(kind =\"barh\", color = \"r\")\r\n",
        "\r\n",
        "plt.xlabel(\"GBM Model Değişken Önem Düzeyleri\")"
      ],
      "execution_count": null,
      "outputs": [
        {
          "output_type": "execute_result",
          "data": {
            "text/plain": [
              "Text(0.5, 0, 'GBM Model Değişken Önem Düzeyleri')"
            ]
          },
          "metadata": {
            "tags": []
          },
          "execution_count": 40
        },
        {
          "output_type": "display_data",
          "data": {
            "image/png": "[encoded data removed]",
            "text/plain": [
              "<Figure size 432x288 with 1 Axes>"
            ]
          },
          "metadata": {
            "tags": [],
            "needs_background": "light"
          }
        }
      ]
    },
    {
      "cell_type": "code",
      "metadata": {
        "colab": {
          "base_uri": "https://localhost:8080/"
        },
        "id": "8ZvGOaaycOq5",
        "outputId": "df567d09-5d24-4f0f-8282-e7a360a34fcf"
      },
      "source": [
        "# GBM Modelinde Önemli Çıkan ilk 4 Değişken ile model kuralım\r\n",
        "selection=data[['X1','X5','X3','X6']]\r\n",
        "from sklearn.model_selection import train_test_split, cross_val_score\r\n",
        "X_train_selection,X_test_selection,y_train,y_test=train_test_split(selection,y,test_size=0.65 ,random_state=42)\r\n",
        "print(\"X_train\", X_train_selection.shape)\r\n",
        "\r\n",
        "print(\"y_train\",y_train.shape)\r\n",
        "\r\n",
        "print(\"X_test\",X_test_selection.shape)\r\n",
        "\r\n",
        "print(\"y_test\",y_test.shape)"
      ],
      "execution_count": 120,
      "outputs": [
        {
          "output_type": "stream",
          "text": [
            "X_train (44, 4)\n",
            "y_train (44,)\n",
            "X_test (82, 4)\n",
            "y_test (82,)\n"
          ],
          "name": "stdout"
        }
      ]
    },
    {
      "cell_type": "code",
      "metadata": {
        "colab": {
          "base_uri": "https://localhost:8080/"
        },
        "id": "lVQ1omeRce2y",
        "outputId": "2421787d-1baf-40c1-9993-1a66420fb296"
      },
      "source": [
        "gbm_model_tune = GradientBoostingClassifier(random_state=11,learning_rate=0.1).fit(X_train_selection, y_train)\r\n",
        "y_pred_gbm = gbm_model.predict(X_test_selection)\r\n",
        "print(classification_report(y_test,y_pred_gbm ))\r\n"
      ],
      "execution_count": 110,
      "outputs": [
        {
          "output_type": "stream",
          "text": [
            "              precision    recall  f1-score   support\n",
            "\n",
            "           0       0.85      0.58      0.69        38\n",
            "           1       0.71      0.91      0.80        44\n",
            "\n",
            "    accuracy                           0.76        82\n",
            "   macro avg       0.78      0.74      0.74        82\n",
            "weighted avg       0.78      0.76      0.75        82\n",
            "\n"
          ],
          "name": "stdout"
        }
      ]
    },
    {
      "cell_type": "markdown",
      "metadata": {
        "id": "0BEZh013iqSG"
      },
      "source": [
        "#NAİVE BAYES"
      ]
    },
    {
      "cell_type": "code",
      "metadata": {
        "colab": {
          "base_uri": "https://localhost:8080/"
        },
        "id": "bKXs1_n3Vf6_",
        "outputId": "c9456d2e-fba5-40e3-fcf6-659b1c480e87"
      },
      "source": [
        "nb = GaussianNB()\r\n",
        "nb_model = nb.fit(X_train_selection, y_train)\r\n",
        "y_pred_nb = nb_model.predict(X_test_selection)\r\n",
        "print(classification_report(y_test,y_pred_nb))\r\n"
      ],
      "execution_count": 114,
      "outputs": [
        {
          "output_type": "stream",
          "text": [
            "              precision    recall  f1-score   support\n",
            "\n",
            "           0       0.52      0.61      0.56        38\n",
            "           1       0.61      0.52      0.56        44\n",
            "\n",
            "    accuracy                           0.56        82\n",
            "   macro avg       0.56      0.56      0.56        82\n",
            "weighted avg       0.57      0.56      0.56        82\n",
            "\n"
          ],
          "name": "stdout"
        }
      ]
    },
    {
      "cell_type": "markdown",
      "metadata": {
        "id": "9HetK3veitaV"
      },
      "source": [
        "#NEURAL NETWORK"
      ]
    },
    {
      "cell_type": "code",
      "metadata": {
        "colab": {
          "base_uri": "https://localhost:8080/"
        },
        "id": "aba9CqDqVf5Q",
        "outputId": "462b1bf4-31e3-4ec9-df89-34a1ceac1b87"
      },
      "source": [
        "nn_model = MLPClassifier( random_state=42).fit(X_train, y_train)\r\n",
        "y_pred_nn= nn_model.predict(X_test)\r\n",
        "print(classification_report(y_test,y_pred_nn))\r\n",
        "accuracy_score(y_test,y_pred_nn)"
      ],
      "execution_count": 118,
      "outputs": [
        {
          "output_type": "stream",
          "text": [
            "              precision    recall  f1-score   support\n",
            "\n",
            "           0       0.56      0.52      0.54        29\n",
            "           1       0.50      0.54      0.52        26\n",
            "\n",
            "    accuracy                           0.53        55\n",
            "   macro avg       0.53      0.53      0.53        55\n",
            "weighted avg       0.53      0.53      0.53        55\n",
            "\n"
          ],
          "name": "stdout"
        },
        {
          "output_type": "execute_result",
          "data": {
            "text/plain": [
              "0.5272727272727272"
            ]
          },
          "metadata": {
            "tags": []
          },
          "execution_count": 118
        }
      ]
    },
    {
      "cell_type": "code",
      "metadata": {
        "colab": {
          "base_uri": "https://localhost:8080/"
        },
        "id": "eC5rYwEJ45Fp",
        "outputId": "d8dd8208-1c42-4b62-97d3-83efaae7706c"
      },
      "source": [
        "nn_model_tune = MLPClassifier( random_state=42).fit(X_train_selection, y_train)\r\n",
        "y_pred_nn= nn_model_tune.predict(X_test_selection)\r\n",
        "print(classification_report(y_test,y_pred_nn))\r\n",
        "accuracy_score(y_test,y_pred_nn)"
      ],
      "execution_count": 122,
      "outputs": [
        {
          "output_type": "stream",
          "text": [
            "              precision    recall  f1-score   support\n",
            "\n",
            "           0       0.50      0.37      0.42        38\n",
            "           1       0.56      0.68      0.61        44\n",
            "\n",
            "    accuracy                           0.54        82\n",
            "   macro avg       0.53      0.53      0.52        82\n",
            "weighted avg       0.53      0.54      0.53        82\n",
            "\n"
          ],
          "name": "stdout"
        },
        {
          "output_type": "execute_result",
          "data": {
            "text/plain": [
              "0.5365853658536586"
            ]
          },
          "metadata": {
            "tags": []
          },
          "execution_count": 122
        }
      ]
    },
    {
      "cell_type": "markdown",
      "metadata": {
        "id": "4g4BPShlix2f"
      },
      "source": [
        "#LGBM MODEL"
      ]
    },
    {
      "cell_type": "code",
      "metadata": {
        "colab": {
          "base_uri": "https://localhost:8080/"
        },
        "id": "V5MhmRkiVf3A",
        "outputId": "3face144-4f6e-4d3c-99a6-1ebb2bbba34d"
      },
      "source": [
        "lgbm=LGBMClassifier(random_state=42,n_estimators=500).fit(X_train, y_train)\r\n",
        "y_pred_train= lgbm.predict(X_test)\r\n",
        "print(classification_report(y_test,y_pred_train))\r\n",
        "accuracy_score(y_test,y_pred_train)"
      ],
      "execution_count": 129,
      "outputs": [
        {
          "output_type": "stream",
          "text": [
            "              precision    recall  f1-score   support\n",
            "\n",
            "           0       0.60      0.62      0.61        29\n",
            "           1       0.56      0.54      0.55        26\n",
            "\n",
            "    accuracy                           0.58        55\n",
            "   macro avg       0.58      0.58      0.58        55\n",
            "weighted avg       0.58      0.58      0.58        55\n",
            "\n"
          ],
          "name": "stdout"
        },
        {
          "output_type": "execute_result",
          "data": {
            "text/plain": [
              "0.5818181818181818"
            ]
          },
          "metadata": {
            "tags": []
          },
          "execution_count": 129
        }
      ]
    },
    {
      "cell_type": "code",
      "metadata": {
        "id": "cCsiEcQTa4Up"
      },
      "source": [
        "Importance = pd.DataFrame({\"Importance\": lgbm.feature_importances_*100},\r\n",
        "                         index = X_train.columns)"
      ],
      "execution_count": 130,
      "outputs": []
    },
    {
      "cell_type": "code",
      "metadata": {
        "colab": {
          "base_uri": "https://localhost:8080/",
          "height": 297
        },
        "id": "mBhCIBL5a-tv",
        "outputId": "e645b4bd-9926-4fad-ec00-cc6a95fe5ed0"
      },
      "source": [
        "Importance.sort_values(by = \"Importance\", \r\n",
        "                       axis = 0, \r\n",
        "                       ascending = True).plot(kind =\"barh\", color = \"r\")\r\n",
        "\r\n",
        "plt.xlabel(\"LGBM Model Değişken Önem Düzeyleri\")"
      ],
      "execution_count": 131,
      "outputs": [
        {
          "output_type": "execute_result",
          "data": {
            "text/plain": [
              "Text(0.5, 0, 'LGBM Model Değişken Önem Düzeyleri')"
            ]
          },
          "metadata": {
            "tags": []
          },
          "execution_count": 131
        },
        {
          "output_type": "display_data",
          "data": {
            "image/png": "[encoded data removed]",
            "text/plain": [
              "<Figure size 432x288 with 1 Axes>"
            ]
          },
          "metadata": {
            "tags": [],
            "needs_background": "light"
          }
        }
      ]
    },
    {
      "cell_type": "code",
      "metadata": {
        "colab": {
          "base_uri": "https://localhost:8080/"
        },
        "id": "cDRkw7qCi5j0",
        "outputId": "6fd97213-04df-40bf-d8cc-86f9138210a6"
      },
      "source": [
        "# LGBM Modelinde Önemli Çıkan ilk 3 Değişken ile model kuralım\r\n",
        "selection=data[['X1','X6','X5','X3']]\r\n",
        "from sklearn.model_selection import train_test_split, cross_val_score\r\n",
        "X_train_selection,X_test_selection,y_train,y_test=train_test_split(selection,y,test_size=0.43, random_state=42)\r\n",
        "print(\"X_train\", X_train_selection.shape)\r\n",
        "\r\n",
        "print(\"y_train\",y_train.shape)\r\n",
        "\r\n",
        "print(\"X_test\",X_test_selection.shape)\r\n",
        "\r\n",
        "print(\"y_test\",y_test.shape)"
      ],
      "execution_count": 212,
      "outputs": [
        {
          "output_type": "stream",
          "text": [
            "X_train (71, 4)\n",
            "y_train (71,)\n",
            "X_test (55, 4)\n",
            "y_test (55,)\n"
          ],
          "name": "stdout"
        }
      ]
    },
    {
      "cell_type": "code",
      "metadata": {
        "colab": {
          "base_uri": "https://localhost:8080/"
        },
        "id": "2aJeRTCejAys",
        "outputId": "f961eb0b-b594-4f5d-843b-3e9a1a3a6c30"
      },
      "source": [
        "lgbm_tune=LGBMClassifier(random_state=42).fit(X_train_selection, y_train)\r\n",
        "y_pred_train= lgbm_tune.predict(X_test_selection)\r\n",
        "print(classification_report(y_test,y_pred_train))\r\n"
      ],
      "execution_count": 213,
      "outputs": [
        {
          "output_type": "stream",
          "text": [
            "              precision    recall  f1-score   support\n",
            "\n",
            "           0       0.60      0.62      0.61        29\n",
            "           1       0.56      0.54      0.55        26\n",
            "\n",
            "    accuracy                           0.58        55\n",
            "   macro avg       0.58      0.58      0.58        55\n",
            "weighted avg       0.58      0.58      0.58        55\n",
            "\n"
          ],
          "name": "stdout"
        }
      ]
    },
    {
      "cell_type": "code",
      "metadata": {
        "id": "8431HwUZjAu0"
      },
      "source": [
        ""
      ],
      "execution_count": null,
      "outputs": []
    },
    {
      "cell_type": "markdown",
      "metadata": {
        "id": "Rd1aQAvUjbwt"
      },
      "source": [
        "# XGB MODEL"
      ]
    },
    {
      "cell_type": "code",
      "metadata": {
        "colab": {
          "base_uri": "https://localhost:8080/"
        },
        "id": "YxEEeMgxVf0i",
        "outputId": "5ed33ea5-1dfa-4fb0-a010-0e6457fca013"
      },
      "source": [
        "xgb_model = XGBClassifier(random_state=11,n_estimators=300).fit(X_train, y_train)\r\n",
        "y_pred_xgb= xgb_model.predict(X_test)\r\n",
        "print(classification_report(y_test,y_pred_xgb))\r\n"
      ],
      "execution_count": 135,
      "outputs": [
        {
          "output_type": "stream",
          "text": [
            "              precision    recall  f1-score   support\n",
            "\n",
            "           0       0.64      0.55      0.59        29\n",
            "           1       0.57      0.65      0.61        26\n",
            "\n",
            "    accuracy                           0.60        55\n",
            "   macro avg       0.60      0.60      0.60        55\n",
            "weighted avg       0.61      0.60      0.60        55\n",
            "\n"
          ],
          "name": "stdout"
        }
      ]
    },
    {
      "cell_type": "code",
      "metadata": {
        "colab": {
          "base_uri": "https://localhost:8080/"
        },
        "id": "RXeo96ltjjFz",
        "outputId": "e45ae92e-e12b-4e2a-80fb-4652b52685cb"
      },
      "source": [
        "\r\n",
        "selection=data[['X1','X6','X3','X5']]\r\n",
        "from sklearn.model_selection import train_test_split, cross_val_score\r\n",
        "X_train_selection,X_test_selection,y_train,y_test=train_test_split(selection,y,test_size=0.14, random_state=42)\r\n",
        "print(\"X_train\", X_train_selection.shape)\r\n",
        "\r\n",
        "print(\"y_train\",y_train.shape)\r\n",
        "\r\n",
        "print(\"X_test\",X_test_selection.shape)\r\n",
        "\r\n",
        "print(\"y_test\",y_test.shape)"
      ],
      "execution_count": 156,
      "outputs": [
        {
          "output_type": "stream",
          "text": [
            "X_train (108, 4)\n",
            "y_train (108,)\n",
            "X_test (18, 4)\n",
            "y_test (18,)\n"
          ],
          "name": "stdout"
        }
      ]
    },
    {
      "cell_type": "code",
      "metadata": {
        "colab": {
          "base_uri": "https://localhost:8080/"
        },
        "id": "pvT5B5OSjsx9",
        "outputId": "ebb7d6da-0c89-419d-dc54-b3f9394ddb84"
      },
      "source": [
        "xgb_model_tune = XGBClassifier(random_state=11).fit(X_train_selection, y_train)\r\n",
        "y_pred_xgb= xgb_model.predict(X_test_selection)\r\n",
        "print(classification_report(y_test,y_pred_xgb))\r\n"
      ],
      "execution_count": 158,
      "outputs": [
        {
          "output_type": "stream",
          "text": [
            "              precision    recall  f1-score   support\n",
            "\n",
            "           0       0.88      0.70      0.78        10\n",
            "           1       0.70      0.88      0.78         8\n",
            "\n",
            "    accuracy                           0.78        18\n",
            "   macro avg       0.79      0.79      0.78        18\n",
            "weighted avg       0.80      0.78      0.78        18\n",
            "\n"
          ],
          "name": "stdout"
        }
      ]
    },
    {
      "cell_type": "markdown",
      "metadata": {
        "id": "FZriS7p2j568"
      },
      "source": [
        "#DECİSİON TREE"
      ]
    },
    {
      "cell_type": "code",
      "metadata": {
        "colab": {
          "base_uri": "https://localhost:8080/"
        },
        "id": "0SIUPUM17EMA",
        "outputId": "ea061f6d-a84f-46e7-b48f-99f1f1e63306"
      },
      "source": [
        "selection=data[['X1','X6','X3','X5']]\r\n",
        "from sklearn.model_selection import train_test_split, cross_val_score\r\n",
        "X_train_selection,X_test_selection,y_train,y_test=train_test_split(selection,y,test_size=0.15, random_state=42)\r\n",
        "print(\"X_train\", X_train_selection.shape)\r\n",
        "\r\n",
        "print(\"y_train\",y_train.shape)\r\n",
        "\r\n",
        "print(\"X_test\",X_test_selection.shape)\r\n",
        "\r\n",
        "print(\"y_test\",y_test.shape)"
      ],
      "execution_count": 173,
      "outputs": [
        {
          "output_type": "stream",
          "text": [
            "X_train (107, 4)\n",
            "y_train (107,)\n",
            "X_test (19, 4)\n",
            "y_test (19,)\n"
          ],
          "name": "stdout"
        }
      ]
    },
    {
      "cell_type": "code",
      "metadata": {
        "colab": {
          "base_uri": "https://localhost:8080/"
        },
        "id": "UouaIO6FwwSZ",
        "outputId": "b940c08d-5007-4cc2-b854-3dbd56c15649"
      },
      "source": [
        "dt_model = DecisionTreeClassifier().fit(X_train_selection, y_train)\r\n",
        "y_pred = dt_model.predict(X_test_selection)\r\n",
        "accuracy_score(y_test, y_pred)"
      ],
      "execution_count": 174,
      "outputs": [
        {
          "output_type": "execute_result",
          "data": {
            "text/plain": [
              "0.7368421052631579"
            ]
          },
          "metadata": {
            "tags": []
          },
          "execution_count": 174
        }
      ]
    },
    {
      "cell_type": "markdown",
      "metadata": {
        "id": "imathASDj-j_"
      },
      "source": [
        "#RANDOM FOREST"
      ]
    },
    {
      "cell_type": "code",
      "metadata": {
        "colab": {
          "base_uri": "https://localhost:8080/"
        },
        "id": "7tt6y1vNZ-sC",
        "outputId": "e59f4a88-1ada-40e0-8152-5c1831d63c8d"
      },
      "source": [
        "rf_model = RandomForestClassifier(random_state=12).fit(X_train, y_train)\r\n",
        "y_pred= rf_model.predict(X_test)\r\n",
        "print(classification_report(y_test,y_pred))"
      ],
      "execution_count": 196,
      "outputs": [
        {
          "output_type": "stream",
          "text": [
            "              precision    recall  f1-score   support\n",
            "\n",
            "           0       0.65      0.59      0.62        29\n",
            "           1       0.59      0.65      0.62        26\n",
            "\n",
            "    accuracy                           0.62        55\n",
            "   macro avg       0.62      0.62      0.62        55\n",
            "weighted avg       0.62      0.62      0.62        55\n",
            "\n"
          ],
          "name": "stdout"
        }
      ]
    },
    {
      "cell_type": "code",
      "metadata": {
        "colab": {
          "base_uri": "https://localhost:8080/"
        },
        "id": "HqcTJmIExZVb",
        "outputId": "85fd8577-d556-4d1f-d3a0-1ff6b6d1f141"
      },
      "source": [
        "selection=data[['X1','X6','X3','X5']]\r\n",
        "from sklearn.model_selection import train_test_split, cross_val_score\r\n",
        "X_train_selection,X_test_selection,y_train,y_test=train_test_split(selection,y,test_size=0.13, random_state=42)\r\n",
        "print(\"X_train\", X_train_selection.shape)\r\n",
        "\r\n",
        "print(\"y_train\",y_train.shape)\r\n",
        "\r\n",
        "print(\"X_test\",X_test_selection.shape)\r\n",
        "\r\n",
        "print(\"y_test\",y_test.shape)"
      ],
      "execution_count": 208,
      "outputs": [
        {
          "output_type": "stream",
          "text": [
            "X_train (109, 4)\n",
            "y_train (109,)\n",
            "X_test (17, 4)\n",
            "y_test (17,)\n"
          ],
          "name": "stdout"
        }
      ]
    },
    {
      "cell_type": "code",
      "metadata": {
        "colab": {
          "base_uri": "https://localhost:8080/"
        },
        "id": "kHTCIKy57qEn",
        "outputId": "cadbf219-57ef-4f76-c7ef-54ee1632fb19"
      },
      "source": [
        "rf_model_tune = RandomForestClassifier().fit(X_train_selection, y_train)\r\n",
        "y_pred= rf_model_tune.predict(X_test_selection)\r\n",
        "print(classification_report(y_test,y_pred))"
      ],
      "execution_count": 209,
      "outputs": [
        {
          "output_type": "stream",
          "text": [
            "              precision    recall  f1-score   support\n",
            "\n",
            "           0       0.86      0.67      0.75         9\n",
            "           1       0.70      0.88      0.78         8\n",
            "\n",
            "    accuracy                           0.76        17\n",
            "   macro avg       0.78      0.77      0.76        17\n",
            "weighted avg       0.78      0.76      0.76        17\n",
            "\n"
          ],
          "name": "stdout"
        }
      ]
    },
    {
      "cell_type": "markdown",
      "metadata": {
        "id": "7YmBy268ruL6"
      },
      "source": [
        "#CATBOOST"
      ]
    },
    {
      "cell_type": "code",
      "metadata": {
        "colab": {
          "base_uri": "https://localhost:8080/"
        },
        "id": "aiQrm9_WsfTh",
        "outputId": "0547223e-b6e5-4c67-ca58-7dd93bb5f016"
      },
      "source": [
        "selection=data[['X1','X6','X5','X3']]\r\n",
        "from sklearn.model_selection import train_test_split, cross_val_score\r\n",
        "X_train_selection,X_test_selection,y_train,y_test=train_test_split(selection,y,test_size=0.15, random_state=42, shuffle= True)\r\n",
        "print(\"X_train\", X_train_selection.shape)\r\n",
        "\r\n",
        "print(\"y_train\",y_train.shape)\r\n",
        "\r\n",
        "print(\"X_test\",X_test_selection.shape)\r\n",
        "\r\n",
        "print(\"y_test\",y_test.shape)"
      ],
      "execution_count": 28,
      "outputs": [
        {
          "output_type": "stream",
          "text": [
            "X_train (107, 4)\n",
            "y_train (107,)\n",
            "X_test (19, 4)\n",
            "y_test (19,)\n"
          ],
          "name": "stdout"
        }
      ]
    },
    {
      "cell_type": "code",
      "metadata": {
        "colab": {
          "base_uri": "https://localhost:8080/"
        },
        "id": "QTKmUSCoxhtE",
        "outputId": "0bb5f026-9471-492e-e54f-04eafbda28e1"
      },
      "source": [
        "model = CatBoostClassifier(random_state=11).fit(X_train_selection, y_train)\r\n",
        "y_pred_model = model.predict(X_test_selection)\r\n",
        "print(classification_report(y_test,y_pred_model ))\r\n"
      ],
      "execution_count": 30,
      "outputs": [
        {
          "output_type": "stream",
          "text": [
            "Learning rate set to 0.003967\n",
            "0:\tlearn: 0.6922996\ttotal: 790us\tremaining: 790ms\n",
            "1:\tlearn: 0.6913906\ttotal: 1.35ms\tremaining: 674ms\n",
            "2:\tlearn: 0.6904085\ttotal: 1.95ms\tremaining: 649ms\n",
            "3:\tlearn: 0.6894650\ttotal: 2.42ms\tremaining: 603ms\n",
            "4:\tlearn: 0.6883247\ttotal: 2.92ms\tremaining: 582ms\n",
            "5:\tlearn: 0.6872040\ttotal: 3.42ms\tremaining: 566ms\n",
            "6:\tlearn: 0.6863275\ttotal: 3.88ms\tremaining: 550ms\n",
            "7:\tlearn: 0.6857681\ttotal: 4.3ms\tremaining: 533ms\n",
            "8:\tlearn: 0.6844529\ttotal: 4.8ms\tremaining: 528ms\n",
            "9:\tlearn: 0.6835870\ttotal: 5.3ms\tremaining: 525ms\n",
            "10:\tlearn: 0.6824296\ttotal: 5.81ms\tremaining: 522ms\n",
            "11:\tlearn: 0.6817361\ttotal: 6.31ms\tremaining: 519ms\n",
            "12:\tlearn: 0.6808387\ttotal: 6.81ms\tremaining: 517ms\n",
            "13:\tlearn: 0.6799973\ttotal: 7.23ms\tremaining: 509ms\n",
            "14:\tlearn: 0.6795924\ttotal: 7.6ms\tremaining: 499ms\n",
            "15:\tlearn: 0.6783598\ttotal: 8.39ms\tremaining: 516ms\n",
            "16:\tlearn: 0.6772020\ttotal: 9.06ms\tremaining: 524ms\n",
            "17:\tlearn: 0.6759924\ttotal: 9.61ms\tremaining: 524ms\n",
            "18:\tlearn: 0.6752012\ttotal: 10.2ms\tremaining: 524ms\n",
            "19:\tlearn: 0.6747900\ttotal: 10.5ms\tremaining: 515ms\n",
            "20:\tlearn: 0.6743764\ttotal: 10.9ms\tremaining: 508ms\n",
            "21:\tlearn: 0.6730550\ttotal: 11.3ms\tremaining: 505ms\n",
            "22:\tlearn: 0.6718552\ttotal: 11.9ms\tremaining: 504ms\n",
            "23:\tlearn: 0.6710790\ttotal: 12.4ms\tremaining: 504ms\n",
            "24:\tlearn: 0.6703190\ttotal: 12.9ms\tremaining: 501ms\n",
            "25:\tlearn: 0.6696344\ttotal: 13.2ms\tremaining: 495ms\n",
            "26:\tlearn: 0.6687607\ttotal: 13.7ms\tremaining: 494ms\n",
            "27:\tlearn: 0.6680037\ttotal: 14.1ms\tremaining: 490ms\n",
            "28:\tlearn: 0.6669452\ttotal: 14.6ms\tremaining: 488ms\n",
            "29:\tlearn: 0.6660582\ttotal: 15.3ms\tremaining: 495ms\n",
            "30:\tlearn: 0.6648925\ttotal: 16.1ms\tremaining: 503ms\n",
            "31:\tlearn: 0.6638530\ttotal: 16.9ms\tremaining: 511ms\n",
            "32:\tlearn: 0.6632017\ttotal: 17.3ms\tremaining: 508ms\n",
            "33:\tlearn: 0.6626927\ttotal: 17.7ms\tremaining: 504ms\n",
            "34:\tlearn: 0.6617925\ttotal: 18.2ms\tremaining: 503ms\n",
            "35:\tlearn: 0.6605498\ttotal: 18.7ms\tremaining: 501ms\n",
            "36:\tlearn: 0.6599156\ttotal: 19.2ms\tremaining: 500ms\n",
            "37:\tlearn: 0.6595492\ttotal: 19.6ms\tremaining: 497ms\n",
            "38:\tlearn: 0.6589424\ttotal: 20.1ms\tremaining: 494ms\n",
            "39:\tlearn: 0.6579530\ttotal: 20.5ms\tremaining: 493ms\n",
            "40:\tlearn: 0.6574464\ttotal: 21ms\tremaining: 492ms\n",
            "41:\tlearn: 0.6565908\ttotal: 21.5ms\tremaining: 490ms\n",
            "42:\tlearn: 0.6556176\ttotal: 22ms\tremaining: 490ms\n",
            "43:\tlearn: 0.6547771\ttotal: 22.5ms\tremaining: 489ms\n",
            "44:\tlearn: 0.6546670\ttotal: 22.9ms\tremaining: 486ms\n",
            "45:\tlearn: 0.6541822\ttotal: 23.3ms\tremaining: 483ms\n",
            "46:\tlearn: 0.6535243\ttotal: 23.8ms\tremaining: 482ms\n",
            "47:\tlearn: 0.6524387\ttotal: 24.2ms\tremaining: 481ms\n",
            "48:\tlearn: 0.6515429\ttotal: 24.7ms\tremaining: 480ms\n",
            "49:\tlearn: 0.6504254\ttotal: 25.2ms\tremaining: 479ms\n",
            "50:\tlearn: 0.6493846\ttotal: 26.7ms\tremaining: 496ms\n",
            "51:\tlearn: 0.6486088\ttotal: 27.2ms\tremaining: 497ms\n",
            "52:\tlearn: 0.6482753\ttotal: 27.6ms\tremaining: 494ms\n",
            "53:\tlearn: 0.6476773\ttotal: 28ms\tremaining: 491ms\n",
            "54:\tlearn: 0.6473587\ttotal: 28.4ms\tremaining: 487ms\n",
            "55:\tlearn: 0.6468723\ttotal: 28.7ms\tremaining: 485ms\n",
            "56:\tlearn: 0.6460959\ttotal: 29.2ms\tremaining: 483ms\n",
            "57:\tlearn: 0.6458341\ttotal: 29.8ms\tremaining: 484ms\n",
            "58:\tlearn: 0.6448267\ttotal: 30.5ms\tremaining: 486ms\n",
            "59:\tlearn: 0.6440076\ttotal: 31.1ms\tremaining: 487ms\n",
            "60:\tlearn: 0.6431568\ttotal: 31.6ms\tremaining: 486ms\n",
            "61:\tlearn: 0.6422592\ttotal: 32.1ms\tremaining: 486ms\n",
            "62:\tlearn: 0.6412199\ttotal: 32.7ms\tremaining: 486ms\n",
            "63:\tlearn: 0.6401629\ttotal: 33.1ms\tremaining: 484ms\n",
            "64:\tlearn: 0.6393048\ttotal: 33.6ms\tremaining: 484ms\n",
            "65:\tlearn: 0.6387967\ttotal: 34ms\tremaining: 482ms\n",
            "66:\tlearn: 0.6379534\ttotal: 34.5ms\tremaining: 481ms\n",
            "67:\tlearn: 0.6372133\ttotal: 35ms\tremaining: 480ms\n",
            "68:\tlearn: 0.6368620\ttotal: 35.4ms\tremaining: 477ms\n",
            "69:\tlearn: 0.6362809\ttotal: 35.8ms\tremaining: 476ms\n",
            "70:\tlearn: 0.6361888\ttotal: 36.2ms\tremaining: 474ms\n",
            "71:\tlearn: 0.6358604\ttotal: 36.6ms\tremaining: 472ms\n",
            "72:\tlearn: 0.6354410\ttotal: 37.1ms\tremaining: 471ms\n",
            "73:\tlearn: 0.6344078\ttotal: 37.6ms\tremaining: 471ms\n",
            "74:\tlearn: 0.6341487\ttotal: 38ms\tremaining: 468ms\n",
            "75:\tlearn: 0.6338848\ttotal: 38.4ms\tremaining: 467ms\n",
            "76:\tlearn: 0.6329790\ttotal: 38.9ms\tremaining: 466ms\n",
            "77:\tlearn: 0.6324202\ttotal: 39.3ms\tremaining: 465ms\n",
            "78:\tlearn: 0.6320733\ttotal: 39.7ms\tremaining: 463ms\n",
            "79:\tlearn: 0.6319147\ttotal: 40.1ms\tremaining: 461ms\n",
            "80:\tlearn: 0.6318622\ttotal: 40.5ms\tremaining: 459ms\n",
            "81:\tlearn: 0.6309226\ttotal: 41.1ms\tremaining: 461ms\n",
            "82:\tlearn: 0.6300363\ttotal: 42.2ms\tremaining: 466ms\n",
            "83:\tlearn: 0.6297082\ttotal: 42.6ms\tremaining: 465ms\n",
            "84:\tlearn: 0.6290855\ttotal: 43.2ms\tremaining: 465ms\n",
            "85:\tlearn: 0.6284007\ttotal: 43.8ms\tremaining: 465ms\n",
            "86:\tlearn: 0.6278910\ttotal: 44.3ms\tremaining: 465ms\n",
            "87:\tlearn: 0.6276270\ttotal: 44.8ms\tremaining: 464ms\n",
            "88:\tlearn: 0.6273884\ttotal: 45.2ms\tremaining: 463ms\n",
            "89:\tlearn: 0.6263338\ttotal: 45.8ms\tremaining: 463ms\n",
            "90:\tlearn: 0.6255261\ttotal: 46.4ms\tremaining: 463ms\n",
            "91:\tlearn: 0.6250567\ttotal: 46.9ms\tremaining: 463ms\n",
            "92:\tlearn: 0.6244509\ttotal: 47.4ms\tremaining: 462ms\n",
            "93:\tlearn: 0.6238325\ttotal: 47.9ms\tremaining: 462ms\n",
            "94:\tlearn: 0.6234653\ttotal: 48.4ms\tremaining: 461ms\n",
            "95:\tlearn: 0.6225320\ttotal: 49ms\tremaining: 462ms\n",
            "96:\tlearn: 0.6219230\ttotal: 49.6ms\tremaining: 462ms\n",
            "97:\tlearn: 0.6210774\ttotal: 50.1ms\tremaining: 461ms\n",
            "98:\tlearn: 0.6205063\ttotal: 50.7ms\tremaining: 461ms\n",
            "99:\tlearn: 0.6196730\ttotal: 51.2ms\tremaining: 461ms\n",
            "100:\tlearn: 0.6193820\ttotal: 51.7ms\tremaining: 460ms\n",
            "101:\tlearn: 0.6188512\ttotal: 52.1ms\tremaining: 459ms\n",
            "102:\tlearn: 0.6182975\ttotal: 52.6ms\tremaining: 458ms\n",
            "103:\tlearn: 0.6174356\ttotal: 53.2ms\tremaining: 458ms\n",
            "104:\tlearn: 0.6169943\ttotal: 53.8ms\tremaining: 458ms\n",
            "105:\tlearn: 0.6160891\ttotal: 54.3ms\tremaining: 458ms\n",
            "106:\tlearn: 0.6155624\ttotal: 54.8ms\tremaining: 458ms\n",
            "107:\tlearn: 0.6152747\ttotal: 55.3ms\tremaining: 457ms\n",
            "108:\tlearn: 0.6149576\ttotal: 55.8ms\tremaining: 456ms\n",
            "109:\tlearn: 0.6144710\ttotal: 56.2ms\tremaining: 455ms\n",
            "110:\tlearn: 0.6137776\ttotal: 56.8ms\tremaining: 455ms\n",
            "111:\tlearn: 0.6129794\ttotal: 57.3ms\tremaining: 455ms\n",
            "112:\tlearn: 0.6123965\ttotal: 57.9ms\tremaining: 454ms\n",
            "113:\tlearn: 0.6115544\ttotal: 58.4ms\tremaining: 454ms\n",
            "114:\tlearn: 0.6110845\ttotal: 58.9ms\tremaining: 453ms\n",
            "115:\tlearn: 0.6105276\ttotal: 59.4ms\tremaining: 453ms\n",
            "116:\tlearn: 0.6100765\ttotal: 59.9ms\tremaining: 452ms\n",
            "117:\tlearn: 0.6093503\ttotal: 60.4ms\tremaining: 451ms\n",
            "118:\tlearn: 0.6091604\ttotal: 60.8ms\tremaining: 450ms\n",
            "119:\tlearn: 0.6083263\ttotal: 61.4ms\tremaining: 450ms\n",
            "120:\tlearn: 0.6075879\ttotal: 62.2ms\tremaining: 452ms\n",
            "121:\tlearn: 0.6071212\ttotal: 62.8ms\tremaining: 452ms\n",
            "122:\tlearn: 0.6064079\ttotal: 63.3ms\tremaining: 451ms\n",
            "123:\tlearn: 0.6057146\ttotal: 64.1ms\tremaining: 453ms\n",
            "124:\tlearn: 0.6050950\ttotal: 64.8ms\tremaining: 453ms\n",
            "125:\tlearn: 0.6049006\ttotal: 65.2ms\tremaining: 453ms\n",
            "126:\tlearn: 0.6044741\ttotal: 65.7ms\tremaining: 451ms\n",
            "127:\tlearn: 0.6036432\ttotal: 66.2ms\tremaining: 451ms\n",
            "128:\tlearn: 0.6031255\ttotal: 66.8ms\tremaining: 451ms\n",
            "129:\tlearn: 0.6025032\ttotal: 67.4ms\tremaining: 451ms\n",
            "130:\tlearn: 0.6017800\ttotal: 67.9ms\tremaining: 450ms\n",
            "131:\tlearn: 0.6013294\ttotal: 68.3ms\tremaining: 449ms\n",
            "132:\tlearn: 0.6008777\ttotal: 68.9ms\tremaining: 449ms\n",
            "133:\tlearn: 0.6002818\ttotal: 69.4ms\tremaining: 449ms\n",
            "134:\tlearn: 0.5996236\ttotal: 70ms\tremaining: 449ms\n",
            "135:\tlearn: 0.5991093\ttotal: 70.5ms\tremaining: 448ms\n",
            "136:\tlearn: 0.5987184\ttotal: 71.1ms\tremaining: 448ms\n",
            "137:\tlearn: 0.5982877\ttotal: 71.6ms\tremaining: 447ms\n",
            "138:\tlearn: 0.5978199\ttotal: 72.1ms\tremaining: 447ms\n",
            "139:\tlearn: 0.5969414\ttotal: 72.6ms\tremaining: 446ms\n",
            "140:\tlearn: 0.5965623\ttotal: 73.2ms\tremaining: 446ms\n",
            "141:\tlearn: 0.5963013\ttotal: 73.7ms\tremaining: 445ms\n",
            "142:\tlearn: 0.5955356\ttotal: 74.3ms\tremaining: 445ms\n",
            "143:\tlearn: 0.5948529\ttotal: 74.8ms\tremaining: 445ms\n",
            "144:\tlearn: 0.5947216\ttotal: 75.3ms\tremaining: 444ms\n",
            "145:\tlearn: 0.5942882\ttotal: 75.7ms\tremaining: 443ms\n",
            "146:\tlearn: 0.5937519\ttotal: 76.2ms\tremaining: 442ms\n",
            "147:\tlearn: 0.5929560\ttotal: 76.8ms\tremaining: 442ms\n",
            "148:\tlearn: 0.5927947\ttotal: 77.2ms\tremaining: 441ms\n",
            "149:\tlearn: 0.5925921\ttotal: 77.7ms\tremaining: 440ms\n",
            "150:\tlearn: 0.5924651\ttotal: 78.1ms\tremaining: 439ms\n",
            "151:\tlearn: 0.5917024\ttotal: 78.6ms\tremaining: 439ms\n",
            "152:\tlearn: 0.5912956\ttotal: 79.1ms\tremaining: 438ms\n",
            "153:\tlearn: 0.5906628\ttotal: 79.6ms\tremaining: 437ms\n",
            "154:\tlearn: 0.5899581\ttotal: 80.2ms\tremaining: 437ms\n",
            "155:\tlearn: 0.5895340\ttotal: 80.7ms\tremaining: 436ms\n",
            "156:\tlearn: 0.5889790\ttotal: 81.2ms\tremaining: 436ms\n",
            "157:\tlearn: 0.5884866\ttotal: 81.7ms\tremaining: 435ms\n",
            "158:\tlearn: 0.5879952\ttotal: 82.3ms\tremaining: 435ms\n",
            "159:\tlearn: 0.5875017\ttotal: 82.8ms\tremaining: 435ms\n",
            "160:\tlearn: 0.5869293\ttotal: 83.3ms\tremaining: 434ms\n",
            "161:\tlearn: 0.5867189\ttotal: 83.8ms\tremaining: 433ms\n",
            "162:\tlearn: 0.5863147\ttotal: 84.2ms\tremaining: 432ms\n",
            "163:\tlearn: 0.5861140\ttotal: 84.6ms\tremaining: 431ms\n",
            "164:\tlearn: 0.5857215\ttotal: 85ms\tremaining: 430ms\n",
            "165:\tlearn: 0.5850375\ttotal: 85.5ms\tremaining: 430ms\n",
            "166:\tlearn: 0.5845827\ttotal: 86ms\tremaining: 429ms\n",
            "167:\tlearn: 0.5842415\ttotal: 86.6ms\tremaining: 429ms\n",
            "168:\tlearn: 0.5835789\ttotal: 87.1ms\tremaining: 428ms\n",
            "169:\tlearn: 0.5833010\ttotal: 87.7ms\tremaining: 428ms\n",
            "170:\tlearn: 0.5832503\ttotal: 88.2ms\tremaining: 428ms\n",
            "171:\tlearn: 0.5827229\ttotal: 88.7ms\tremaining: 427ms\n",
            "172:\tlearn: 0.5822396\ttotal: 89.2ms\tremaining: 426ms\n",
            "173:\tlearn: 0.5822018\ttotal: 89.6ms\tremaining: 425ms\n",
            "174:\tlearn: 0.5820142\ttotal: 90.1ms\tremaining: 425ms\n",
            "175:\tlearn: 0.5815903\ttotal: 90.8ms\tremaining: 425ms\n",
            "176:\tlearn: 0.5811004\ttotal: 91.3ms\tremaining: 425ms\n",
            "177:\tlearn: 0.5805057\ttotal: 91.9ms\tremaining: 424ms\n",
            "178:\tlearn: 0.5798493\ttotal: 92.4ms\tremaining: 424ms\n",
            "179:\tlearn: 0.5793369\ttotal: 93ms\tremaining: 423ms\n",
            "180:\tlearn: 0.5788498\ttotal: 93.5ms\tremaining: 423ms\n",
            "181:\tlearn: 0.5781989\ttotal: 94.1ms\tremaining: 423ms\n",
            "182:\tlearn: 0.5778220\ttotal: 94.6ms\tremaining: 422ms\n",
            "183:\tlearn: 0.5774285\ttotal: 95.1ms\tremaining: 422ms\n",
            "184:\tlearn: 0.5769586\ttotal: 95.6ms\tremaining: 421ms\n",
            "185:\tlearn: 0.5764973\ttotal: 96.1ms\tremaining: 421ms\n",
            "186:\tlearn: 0.5756770\ttotal: 96.7ms\tremaining: 420ms\n",
            "187:\tlearn: 0.5753631\ttotal: 97.3ms\tremaining: 420ms\n",
            "188:\tlearn: 0.5749050\ttotal: 97.8ms\tremaining: 420ms\n",
            "189:\tlearn: 0.5746057\ttotal: 98.3ms\tremaining: 419ms\n",
            "190:\tlearn: 0.5745245\ttotal: 98.6ms\tremaining: 417ms\n",
            "191:\tlearn: 0.5740000\ttotal: 99ms\tremaining: 417ms\n",
            "192:\tlearn: 0.5737923\ttotal: 99.5ms\tremaining: 416ms\n",
            "193:\tlearn: 0.5731431\ttotal: 100ms\tremaining: 415ms\n",
            "194:\tlearn: 0.5727508\ttotal: 101ms\tremaining: 416ms\n",
            "195:\tlearn: 0.5724714\ttotal: 101ms\tremaining: 415ms\n",
            "196:\tlearn: 0.5723872\ttotal: 102ms\tremaining: 414ms\n",
            "197:\tlearn: 0.5717378\ttotal: 102ms\tremaining: 415ms\n",
            "198:\tlearn: 0.5709859\ttotal: 103ms\tremaining: 414ms\n",
            "199:\tlearn: 0.5704027\ttotal: 103ms\tremaining: 413ms\n",
            "200:\tlearn: 0.5698367\ttotal: 104ms\tremaining: 413ms\n",
            "201:\tlearn: 0.5693790\ttotal: 104ms\tremaining: 412ms\n",
            "202:\tlearn: 0.5691023\ttotal: 105ms\tremaining: 411ms\n",
            "203:\tlearn: 0.5686438\ttotal: 105ms\tremaining: 411ms\n",
            "204:\tlearn: 0.5682697\ttotal: 106ms\tremaining: 410ms\n",
            "205:\tlearn: 0.5680170\ttotal: 106ms\tremaining: 409ms\n",
            "206:\tlearn: 0.5675533\ttotal: 107ms\tremaining: 408ms\n",
            "207:\tlearn: 0.5668660\ttotal: 107ms\tremaining: 408ms\n",
            "208:\tlearn: 0.5662512\ttotal: 108ms\tremaining: 407ms\n",
            "209:\tlearn: 0.5656414\ttotal: 108ms\tremaining: 406ms\n",
            "210:\tlearn: 0.5650358\ttotal: 109ms\tremaining: 406ms\n",
            "211:\tlearn: 0.5649037\ttotal: 109ms\tremaining: 405ms\n",
            "212:\tlearn: 0.5647640\ttotal: 109ms\tremaining: 404ms\n",
            "213:\tlearn: 0.5645170\ttotal: 110ms\tremaining: 403ms\n",
            "214:\tlearn: 0.5639952\ttotal: 111ms\tremaining: 404ms\n",
            "215:\tlearn: 0.5633965\ttotal: 111ms\tremaining: 404ms\n",
            "216:\tlearn: 0.5632190\ttotal: 112ms\tremaining: 403ms\n",
            "217:\tlearn: 0.5629541\ttotal: 112ms\tremaining: 403ms\n",
            "218:\tlearn: 0.5626254\ttotal: 113ms\tremaining: 402ms\n",
            "219:\tlearn: 0.5623921\ttotal: 113ms\tremaining: 401ms\n",
            "220:\tlearn: 0.5619465\ttotal: 114ms\tremaining: 401ms\n",
            "221:\tlearn: 0.5615528\ttotal: 114ms\tremaining: 400ms\n",
            "222:\tlearn: 0.5612968\ttotal: 115ms\tremaining: 400ms\n",
            "223:\tlearn: 0.5610422\ttotal: 116ms\tremaining: 400ms\n",
            "224:\tlearn: 0.5606541\ttotal: 116ms\tremaining: 400ms\n",
            "225:\tlearn: 0.5601319\ttotal: 116ms\tremaining: 399ms\n",
            "226:\tlearn: 0.5596071\ttotal: 117ms\tremaining: 398ms\n",
            "227:\tlearn: 0.5593366\ttotal: 117ms\tremaining: 398ms\n",
            "228:\tlearn: 0.5592433\ttotal: 118ms\tremaining: 397ms\n",
            "229:\tlearn: 0.5589567\ttotal: 118ms\tremaining: 396ms\n",
            "230:\tlearn: 0.5587520\ttotal: 119ms\tremaining: 395ms\n",
            "231:\tlearn: 0.5583890\ttotal: 119ms\tremaining: 394ms\n",
            "232:\tlearn: 0.5582915\ttotal: 120ms\tremaining: 394ms\n",
            "233:\tlearn: 0.5577919\ttotal: 120ms\tremaining: 393ms\n",
            "234:\tlearn: 0.5572979\ttotal: 121ms\tremaining: 394ms\n",
            "235:\tlearn: 0.5570789\ttotal: 121ms\tremaining: 393ms\n",
            "236:\tlearn: 0.5567809\ttotal: 122ms\tremaining: 393ms\n",
            "237:\tlearn: 0.5565580\ttotal: 122ms\tremaining: 392ms\n",
            "238:\tlearn: 0.5565174\ttotal: 123ms\tremaining: 391ms\n",
            "239:\tlearn: 0.5561580\ttotal: 123ms\tremaining: 390ms\n",
            "240:\tlearn: 0.5559586\ttotal: 124ms\tremaining: 390ms\n",
            "241:\tlearn: 0.5558291\ttotal: 124ms\tremaining: 389ms\n",
            "242:\tlearn: 0.5552937\ttotal: 125ms\tremaining: 389ms\n",
            "243:\tlearn: 0.5547431\ttotal: 125ms\tremaining: 388ms\n",
            "244:\tlearn: 0.5546443\ttotal: 126ms\tremaining: 387ms\n",
            "245:\tlearn: 0.5540750\ttotal: 126ms\tremaining: 387ms\n",
            "246:\tlearn: 0.5538686\ttotal: 126ms\tremaining: 386ms\n",
            "247:\tlearn: 0.5533711\ttotal: 127ms\tremaining: 385ms\n",
            "248:\tlearn: 0.5530037\ttotal: 127ms\tremaining: 384ms\n",
            "249:\tlearn: 0.5523038\ttotal: 128ms\tremaining: 384ms\n",
            "250:\tlearn: 0.5522675\ttotal: 128ms\tremaining: 383ms\n",
            "251:\tlearn: 0.5522072\ttotal: 129ms\tremaining: 382ms\n",
            "252:\tlearn: 0.5521257\ttotal: 129ms\tremaining: 381ms\n",
            "253:\tlearn: 0.5519650\ttotal: 129ms\tremaining: 380ms\n",
            "254:\tlearn: 0.5519032\ttotal: 130ms\tremaining: 379ms\n",
            "255:\tlearn: 0.5517552\ttotal: 130ms\tremaining: 378ms\n",
            "256:\tlearn: 0.5514705\ttotal: 131ms\tremaining: 378ms\n",
            "257:\tlearn: 0.5514634\ttotal: 131ms\tremaining: 377ms\n",
            "258:\tlearn: 0.5511950\ttotal: 132ms\tremaining: 376ms\n",
            "259:\tlearn: 0.5510295\ttotal: 132ms\tremaining: 376ms\n",
            "260:\tlearn: 0.5509507\ttotal: 132ms\tremaining: 375ms\n",
            "261:\tlearn: 0.5503971\ttotal: 133ms\tremaining: 374ms\n",
            "262:\tlearn: 0.5500646\ttotal: 133ms\tremaining: 373ms\n",
            "263:\tlearn: 0.5495620\ttotal: 134ms\tremaining: 373ms\n",
            "264:\tlearn: 0.5490845\ttotal: 134ms\tremaining: 372ms\n",
            "265:\tlearn: 0.5485398\ttotal: 135ms\tremaining: 372ms\n",
            "266:\tlearn: 0.5483340\ttotal: 135ms\tremaining: 371ms\n",
            "267:\tlearn: 0.5480089\ttotal: 136ms\tremaining: 371ms\n",
            "268:\tlearn: 0.5475990\ttotal: 136ms\tremaining: 370ms\n",
            "269:\tlearn: 0.5470811\ttotal: 137ms\tremaining: 369ms\n",
            "270:\tlearn: 0.5465701\ttotal: 137ms\tremaining: 369ms\n",
            "271:\tlearn: 0.5463418\ttotal: 138ms\tremaining: 368ms\n",
            "272:\tlearn: 0.5461317\ttotal: 138ms\tremaining: 368ms\n",
            "273:\tlearn: 0.5457871\ttotal: 139ms\tremaining: 368ms\n",
            "274:\tlearn: 0.5452633\ttotal: 139ms\tremaining: 368ms\n",
            "275:\tlearn: 0.5450139\ttotal: 140ms\tremaining: 367ms\n",
            "276:\tlearn: 0.5449172\ttotal: 140ms\tremaining: 366ms\n",
            "277:\tlearn: 0.5446553\ttotal: 141ms\tremaining: 366ms\n",
            "278:\tlearn: 0.5442946\ttotal: 141ms\tremaining: 365ms\n",
            "279:\tlearn: 0.5439145\ttotal: 142ms\tremaining: 366ms\n",
            "280:\tlearn: 0.5436967\ttotal: 143ms\tremaining: 366ms\n",
            "281:\tlearn: 0.5434347\ttotal: 144ms\tremaining: 366ms\n",
            "282:\tlearn: 0.5430869\ttotal: 144ms\tremaining: 365ms\n",
            "283:\tlearn: 0.5429033\ttotal: 145ms\tremaining: 365ms\n",
            "284:\tlearn: 0.5428293\ttotal: 145ms\tremaining: 364ms\n",
            "285:\tlearn: 0.5423922\ttotal: 146ms\tremaining: 364ms\n",
            "286:\tlearn: 0.5419704\ttotal: 146ms\tremaining: 363ms\n",
            "287:\tlearn: 0.5415970\ttotal: 147ms\tremaining: 363ms\n",
            "288:\tlearn: 0.5415449\ttotal: 147ms\tremaining: 362ms\n",
            "289:\tlearn: 0.5413656\ttotal: 148ms\tremaining: 361ms\n",
            "290:\tlearn: 0.5413160\ttotal: 148ms\tremaining: 360ms\n",
            "291:\tlearn: 0.5407637\ttotal: 148ms\tremaining: 360ms\n",
            "292:\tlearn: 0.5407364\ttotal: 149ms\tremaining: 359ms\n",
            "293:\tlearn: 0.5404184\ttotal: 149ms\tremaining: 358ms\n",
            "294:\tlearn: 0.5401714\ttotal: 150ms\tremaining: 358ms\n",
            "295:\tlearn: 0.5401490\ttotal: 150ms\tremaining: 357ms\n",
            "296:\tlearn: 0.5398724\ttotal: 151ms\tremaining: 356ms\n",
            "297:\tlearn: 0.5394712\ttotal: 151ms\tremaining: 356ms\n",
            "298:\tlearn: 0.5390501\ttotal: 152ms\tremaining: 355ms\n",
            "299:\tlearn: 0.5387354\ttotal: 152ms\tremaining: 355ms\n",
            "300:\tlearn: 0.5383194\ttotal: 152ms\tremaining: 354ms\n",
            "301:\tlearn: 0.5377813\ttotal: 153ms\tremaining: 354ms\n",
            "302:\tlearn: 0.5372469\ttotal: 153ms\tremaining: 353ms\n",
            "303:\tlearn: 0.5370026\ttotal: 154ms\tremaining: 353ms\n",
            "304:\tlearn: 0.5367201\ttotal: 154ms\tremaining: 352ms\n",
            "305:\tlearn: 0.5366087\ttotal: 155ms\tremaining: 352ms\n",
            "306:\tlearn: 0.5365881\ttotal: 156ms\tremaining: 351ms\n",
            "307:\tlearn: 0.5363010\ttotal: 156ms\tremaining: 350ms\n",
            "308:\tlearn: 0.5359177\ttotal: 156ms\tremaining: 350ms\n",
            "309:\tlearn: 0.5356964\ttotal: 157ms\tremaining: 349ms\n",
            "310:\tlearn: 0.5351117\ttotal: 157ms\tremaining: 349ms\n",
            "311:\tlearn: 0.5344976\ttotal: 158ms\tremaining: 348ms\n",
            "312:\tlearn: 0.5342317\ttotal: 158ms\tremaining: 348ms\n",
            "313:\tlearn: 0.5339472\ttotal: 159ms\tremaining: 347ms\n",
            "314:\tlearn: 0.5337853\ttotal: 159ms\tremaining: 347ms\n",
            "315:\tlearn: 0.5335130\ttotal: 160ms\tremaining: 346ms\n",
            "316:\tlearn: 0.5330348\ttotal: 161ms\tremaining: 347ms\n",
            "317:\tlearn: 0.5325974\ttotal: 162ms\tremaining: 347ms\n",
            "318:\tlearn: 0.5324658\ttotal: 162ms\tremaining: 346ms\n",
            "319:\tlearn: 0.5321590\ttotal: 163ms\tremaining: 346ms\n",
            "320:\tlearn: 0.5317386\ttotal: 163ms\tremaining: 345ms\n",
            "321:\tlearn: 0.5314872\ttotal: 163ms\tremaining: 344ms\n",
            "322:\tlearn: 0.5313553\ttotal: 164ms\tremaining: 344ms\n",
            "323:\tlearn: 0.5312632\ttotal: 165ms\tremaining: 345ms\n",
            "324:\tlearn: 0.5311483\ttotal: 166ms\tremaining: 344ms\n",
            "325:\tlearn: 0.5310153\ttotal: 166ms\tremaining: 343ms\n",
            "326:\tlearn: 0.5307789\ttotal: 166ms\tremaining: 343ms\n",
            "327:\tlearn: 0.5305311\ttotal: 167ms\tremaining: 342ms\n",
            "328:\tlearn: 0.5300483\ttotal: 167ms\tremaining: 341ms\n",
            "329:\tlearn: 0.5300431\ttotal: 168ms\tremaining: 340ms\n",
            "330:\tlearn: 0.5297242\ttotal: 168ms\tremaining: 340ms\n",
            "331:\tlearn: 0.5296151\ttotal: 168ms\tremaining: 339ms\n",
            "332:\tlearn: 0.5291777\ttotal: 169ms\tremaining: 338ms\n",
            "333:\tlearn: 0.5291306\ttotal: 169ms\tremaining: 337ms\n",
            "334:\tlearn: 0.5289880\ttotal: 170ms\tremaining: 337ms\n",
            "335:\tlearn: 0.5287016\ttotal: 170ms\tremaining: 336ms\n",
            "336:\tlearn: 0.5286089\ttotal: 170ms\tremaining: 335ms\n",
            "337:\tlearn: 0.5282465\ttotal: 171ms\tremaining: 335ms\n",
            "338:\tlearn: 0.5280710\ttotal: 171ms\tremaining: 334ms\n",
            "339:\tlearn: 0.5277599\ttotal: 172ms\tremaining: 333ms\n",
            "340:\tlearn: 0.5276544\ttotal: 172ms\tremaining: 333ms\n",
            "341:\tlearn: 0.5274331\ttotal: 173ms\tremaining: 332ms\n",
            "342:\tlearn: 0.5271744\ttotal: 173ms\tremaining: 332ms\n",
            "343:\tlearn: 0.5269835\ttotal: 175ms\tremaining: 333ms\n",
            "344:\tlearn: 0.5269020\ttotal: 175ms\tremaining: 333ms\n",
            "345:\tlearn: 0.5265483\ttotal: 176ms\tremaining: 332ms\n",
            "346:\tlearn: 0.5262665\ttotal: 176ms\tremaining: 331ms\n",
            "347:\tlearn: 0.5260413\ttotal: 177ms\tremaining: 331ms\n",
            "348:\tlearn: 0.5260226\ttotal: 177ms\tremaining: 331ms\n",
            "349:\tlearn: 0.5258021\ttotal: 178ms\tremaining: 330ms\n",
            "350:\tlearn: 0.5254670\ttotal: 179ms\tremaining: 331ms\n",
            "351:\tlearn: 0.5253055\ttotal: 180ms\tremaining: 331ms\n",
            "352:\tlearn: 0.5250608\ttotal: 181ms\tremaining: 332ms\n",
            "353:\tlearn: 0.5247294\ttotal: 182ms\tremaining: 331ms\n",
            "354:\tlearn: 0.5245528\ttotal: 182ms\tremaining: 331ms\n",
            "355:\tlearn: 0.5244290\ttotal: 182ms\tremaining: 330ms\n",
            "356:\tlearn: 0.5242787\ttotal: 183ms\tremaining: 329ms\n",
            "357:\tlearn: 0.5239000\ttotal: 183ms\tremaining: 329ms\n",
            "358:\tlearn: 0.5237681\ttotal: 184ms\tremaining: 328ms\n",
            "359:\tlearn: 0.5234288\ttotal: 185ms\tremaining: 328ms\n",
            "360:\tlearn: 0.5231896\ttotal: 185ms\tremaining: 328ms\n",
            "361:\tlearn: 0.5231733\ttotal: 186ms\tremaining: 327ms\n",
            "362:\tlearn: 0.5231418\ttotal: 186ms\tremaining: 326ms\n",
            "363:\tlearn: 0.5228709\ttotal: 187ms\tremaining: 326ms\n",
            "364:\tlearn: 0.5228457\ttotal: 187ms\tremaining: 325ms\n",
            "365:\tlearn: 0.5227669\ttotal: 187ms\tremaining: 325ms\n",
            "366:\tlearn: 0.5227460\ttotal: 188ms\tremaining: 324ms\n",
            "367:\tlearn: 0.5224177\ttotal: 188ms\tremaining: 323ms\n",
            "368:\tlearn: 0.5220672\ttotal: 189ms\tremaining: 323ms\n",
            "369:\tlearn: 0.5217551\ttotal: 189ms\tremaining: 322ms\n",
            "370:\tlearn: 0.5216194\ttotal: 190ms\tremaining: 321ms\n",
            "371:\tlearn: 0.5214356\ttotal: 190ms\tremaining: 321ms\n",
            "372:\tlearn: 0.5213674\ttotal: 190ms\tremaining: 320ms\n",
            "373:\tlearn: 0.5209536\ttotal: 191ms\tremaining: 320ms\n",
            "374:\tlearn: 0.5207387\ttotal: 191ms\tremaining: 319ms\n",
            "375:\tlearn: 0.5206568\ttotal: 192ms\tremaining: 318ms\n",
            "376:\tlearn: 0.5205822\ttotal: 192ms\tremaining: 318ms\n",
            "377:\tlearn: 0.5200762\ttotal: 193ms\tremaining: 317ms\n",
            "378:\tlearn: 0.5198085\ttotal: 193ms\tremaining: 316ms\n",
            "379:\tlearn: 0.5195020\ttotal: 194ms\tremaining: 316ms\n",
            "380:\tlearn: 0.5193817\ttotal: 194ms\tremaining: 315ms\n",
            "381:\tlearn: 0.5190897\ttotal: 194ms\tremaining: 315ms\n",
            "382:\tlearn: 0.5189463\ttotal: 195ms\tremaining: 314ms\n",
            "383:\tlearn: 0.5187704\ttotal: 195ms\tremaining: 313ms\n",
            "384:\tlearn: 0.5184660\ttotal: 196ms\tremaining: 313ms\n",
            "385:\tlearn: 0.5184296\ttotal: 196ms\tremaining: 312ms\n",
            "386:\tlearn: 0.5183335\ttotal: 197ms\tremaining: 311ms\n",
            "387:\tlearn: 0.5182472\ttotal: 197ms\tremaining: 311ms\n",
            "388:\tlearn: 0.5178239\ttotal: 197ms\tremaining: 310ms\n",
            "389:\tlearn: 0.5175683\ttotal: 198ms\tremaining: 310ms\n",
            "390:\tlearn: 0.5175245\ttotal: 199ms\tremaining: 309ms\n",
            "391:\tlearn: 0.5172633\ttotal: 199ms\tremaining: 309ms\n",
            "392:\tlearn: 0.5170797\ttotal: 200ms\tremaining: 309ms\n",
            "393:\tlearn: 0.5168207\ttotal: 200ms\tremaining: 308ms\n",
            "394:\tlearn: 0.5165246\ttotal: 201ms\tremaining: 308ms\n",
            "395:\tlearn: 0.5162262\ttotal: 201ms\tremaining: 307ms\n",
            "396:\tlearn: 0.5160273\ttotal: 202ms\tremaining: 306ms\n",
            "397:\tlearn: 0.5158441\ttotal: 202ms\tremaining: 306ms\n",
            "398:\tlearn: 0.5155504\ttotal: 203ms\tremaining: 305ms\n",
            "399:\tlearn: 0.5153316\ttotal: 203ms\tremaining: 305ms\n",
            "400:\tlearn: 0.5149765\ttotal: 204ms\tremaining: 304ms\n",
            "401:\tlearn: 0.5146044\ttotal: 204ms\tremaining: 304ms\n",
            "402:\tlearn: 0.5143472\ttotal: 205ms\tremaining: 303ms\n",
            "403:\tlearn: 0.5142195\ttotal: 205ms\tremaining: 303ms\n",
            "404:\tlearn: 0.5139807\ttotal: 206ms\tremaining: 302ms\n",
            "405:\tlearn: 0.5137364\ttotal: 206ms\tremaining: 302ms\n",
            "406:\tlearn: 0.5133973\ttotal: 207ms\tremaining: 301ms\n",
            "407:\tlearn: 0.5132875\ttotal: 207ms\tremaining: 300ms\n",
            "408:\tlearn: 0.5132121\ttotal: 207ms\tremaining: 300ms\n",
            "409:\tlearn: 0.5130075\ttotal: 208ms\tremaining: 299ms\n",
            "410:\tlearn: 0.5127378\ttotal: 208ms\tremaining: 299ms\n",
            "411:\tlearn: 0.5125562\ttotal: 209ms\tremaining: 298ms\n",
            "412:\tlearn: 0.5124960\ttotal: 209ms\tremaining: 297ms\n",
            "413:\tlearn: 0.5121816\ttotal: 210ms\tremaining: 297ms\n",
            "414:\tlearn: 0.5119331\ttotal: 210ms\tremaining: 296ms\n",
            "415:\tlearn: 0.5118486\ttotal: 211ms\tremaining: 296ms\n",
            "416:\tlearn: 0.5114923\ttotal: 211ms\tremaining: 296ms\n",
            "417:\tlearn: 0.5114560\ttotal: 212ms\tremaining: 295ms\n",
            "418:\tlearn: 0.5113900\ttotal: 212ms\tremaining: 294ms\n",
            "419:\tlearn: 0.5113309\ttotal: 213ms\tremaining: 294ms\n",
            "420:\tlearn: 0.5111376\ttotal: 213ms\tremaining: 293ms\n",
            "421:\tlearn: 0.5111034\ttotal: 214ms\tremaining: 293ms\n",
            "422:\tlearn: 0.5108128\ttotal: 214ms\tremaining: 292ms\n",
            "423:\tlearn: 0.5106882\ttotal: 215ms\tremaining: 292ms\n",
            "424:\tlearn: 0.5102985\ttotal: 215ms\tremaining: 291ms\n",
            "425:\tlearn: 0.5100142\ttotal: 216ms\tremaining: 291ms\n",
            "426:\tlearn: 0.5097988\ttotal: 216ms\tremaining: 290ms\n",
            "427:\tlearn: 0.5097955\ttotal: 217ms\tremaining: 290ms\n",
            "428:\tlearn: 0.5094920\ttotal: 217ms\tremaining: 289ms\n",
            "429:\tlearn: 0.5093091\ttotal: 218ms\tremaining: 289ms\n",
            "430:\tlearn: 0.5092985\ttotal: 218ms\tremaining: 288ms\n",
            "431:\tlearn: 0.5092585\ttotal: 219ms\tremaining: 288ms\n",
            "432:\tlearn: 0.5088603\ttotal: 219ms\tremaining: 287ms\n",
            "433:\tlearn: 0.5087481\ttotal: 220ms\tremaining: 287ms\n",
            "434:\tlearn: 0.5086041\ttotal: 220ms\tremaining: 286ms\n",
            "435:\tlearn: 0.5083022\ttotal: 221ms\tremaining: 286ms\n",
            "436:\tlearn: 0.5082869\ttotal: 221ms\tremaining: 285ms\n",
            "437:\tlearn: 0.5081006\ttotal: 222ms\tremaining: 285ms\n",
            "438:\tlearn: 0.5079723\ttotal: 222ms\tremaining: 284ms\n",
            "439:\tlearn: 0.5079026\ttotal: 223ms\tremaining: 284ms\n",
            "440:\tlearn: 0.5075911\ttotal: 223ms\tremaining: 283ms\n",
            "441:\tlearn: 0.5073634\ttotal: 224ms\tremaining: 283ms\n",
            "442:\tlearn: 0.5071234\ttotal: 224ms\tremaining: 282ms\n",
            "443:\tlearn: 0.5067573\ttotal: 225ms\tremaining: 282ms\n",
            "444:\tlearn: 0.5067375\ttotal: 226ms\tremaining: 281ms\n",
            "445:\tlearn: 0.5064289\ttotal: 226ms\tremaining: 281ms\n",
            "446:\tlearn: 0.5061244\ttotal: 227ms\tremaining: 281ms\n",
            "447:\tlearn: 0.5059785\ttotal: 227ms\tremaining: 280ms\n",
            "448:\tlearn: 0.5057142\ttotal: 228ms\tremaining: 279ms\n",
            "449:\tlearn: 0.5056582\ttotal: 228ms\tremaining: 279ms\n",
            "450:\tlearn: 0.5054842\ttotal: 229ms\tremaining: 278ms\n",
            "451:\tlearn: 0.5051168\ttotal: 229ms\tremaining: 278ms\n",
            "452:\tlearn: 0.5048163\ttotal: 230ms\tremaining: 278ms\n",
            "453:\tlearn: 0.5047705\ttotal: 230ms\tremaining: 277ms\n",
            "454:\tlearn: 0.5046375\ttotal: 231ms\tremaining: 277ms\n",
            "455:\tlearn: 0.5044801\ttotal: 232ms\tremaining: 276ms\n",
            "456:\tlearn: 0.5042778\ttotal: 232ms\tremaining: 276ms\n",
            "457:\tlearn: 0.5042443\ttotal: 233ms\tremaining: 275ms\n",
            "458:\tlearn: 0.5039802\ttotal: 233ms\tremaining: 275ms\n",
            "459:\tlearn: 0.5039215\ttotal: 234ms\tremaining: 274ms\n",
            "460:\tlearn: 0.5037406\ttotal: 234ms\tremaining: 274ms\n",
            "461:\tlearn: 0.5035853\ttotal: 235ms\tremaining: 273ms\n",
            "462:\tlearn: 0.5035840\ttotal: 235ms\tremaining: 273ms\n",
            "463:\tlearn: 0.5035062\ttotal: 236ms\tremaining: 272ms\n",
            "464:\tlearn: 0.5033275\ttotal: 236ms\tremaining: 272ms\n",
            "465:\tlearn: 0.5031441\ttotal: 236ms\tremaining: 271ms\n",
            "466:\tlearn: 0.5031165\ttotal: 237ms\tremaining: 270ms\n",
            "467:\tlearn: 0.5028901\ttotal: 237ms\tremaining: 270ms\n",
            "468:\tlearn: 0.5028617\ttotal: 238ms\tremaining: 269ms\n",
            "469:\tlearn: 0.5026807\ttotal: 238ms\tremaining: 269ms\n",
            "470:\tlearn: 0.5023921\ttotal: 239ms\tremaining: 268ms\n",
            "471:\tlearn: 0.5021097\ttotal: 239ms\tremaining: 267ms\n",
            "472:\tlearn: 0.5020310\ttotal: 239ms\tremaining: 267ms\n",
            "473:\tlearn: 0.5018747\ttotal: 240ms\tremaining: 266ms\n",
            "474:\tlearn: 0.5016638\ttotal: 240ms\tremaining: 266ms\n",
            "475:\tlearn: 0.5013874\ttotal: 241ms\tremaining: 265ms\n",
            "476:\tlearn: 0.5012885\ttotal: 241ms\tremaining: 264ms\n",
            "477:\tlearn: 0.5011108\ttotal: 242ms\tremaining: 264ms\n",
            "478:\tlearn: 0.5010124\ttotal: 242ms\tremaining: 263ms\n",
            "479:\tlearn: 0.5007759\ttotal: 243ms\tremaining: 263ms\n",
            "480:\tlearn: 0.5007341\ttotal: 243ms\tremaining: 262ms\n",
            "481:\tlearn: 0.5006757\ttotal: 243ms\tremaining: 262ms\n",
            "482:\tlearn: 0.5003977\ttotal: 244ms\tremaining: 261ms\n",
            "483:\tlearn: 0.5002992\ttotal: 244ms\tremaining: 260ms\n",
            "484:\tlearn: 0.5000029\ttotal: 245ms\tremaining: 260ms\n",
            "485:\tlearn: 0.4999704\ttotal: 245ms\tremaining: 259ms\n",
            "486:\tlearn: 0.4997110\ttotal: 246ms\tremaining: 259ms\n",
            "487:\tlearn: 0.4994161\ttotal: 246ms\tremaining: 258ms\n",
            "488:\tlearn: 0.4993733\ttotal: 246ms\tremaining: 258ms\n",
            "489:\tlearn: 0.4991920\ttotal: 247ms\tremaining: 257ms\n",
            "490:\tlearn: 0.4991708\ttotal: 247ms\tremaining: 256ms\n",
            "491:\tlearn: 0.4988677\ttotal: 248ms\tremaining: 256ms\n",
            "492:\tlearn: 0.4985201\ttotal: 248ms\tremaining: 255ms\n",
            "493:\tlearn: 0.4982915\ttotal: 249ms\tremaining: 255ms\n",
            "494:\tlearn: 0.4981714\ttotal: 249ms\tremaining: 254ms\n",
            "495:\tlearn: 0.4978867\ttotal: 250ms\tremaining: 254ms\n",
            "496:\tlearn: 0.4978735\ttotal: 250ms\tremaining: 253ms\n",
            "497:\tlearn: 0.4978528\ttotal: 250ms\tremaining: 252ms\n",
            "498:\tlearn: 0.4978187\ttotal: 251ms\tremaining: 252ms\n",
            "499:\tlearn: 0.4974647\ttotal: 251ms\tremaining: 251ms\n",
            "500:\tlearn: 0.4971541\ttotal: 252ms\tremaining: 251ms\n",
            "501:\tlearn: 0.4969978\ttotal: 252ms\tremaining: 250ms\n",
            "502:\tlearn: 0.4969221\ttotal: 253ms\tremaining: 250ms\n",
            "503:\tlearn: 0.4967495\ttotal: 253ms\tremaining: 249ms\n",
            "504:\tlearn: 0.4965407\ttotal: 253ms\tremaining: 248ms\n",
            "505:\tlearn: 0.4962505\ttotal: 254ms\tremaining: 248ms\n",
            "506:\tlearn: 0.4959929\ttotal: 254ms\tremaining: 247ms\n",
            "507:\tlearn: 0.4959091\ttotal: 255ms\tremaining: 247ms\n",
            "508:\tlearn: 0.4955645\ttotal: 255ms\tremaining: 246ms\n",
            "509:\tlearn: 0.4953173\ttotal: 256ms\tremaining: 246ms\n",
            "510:\tlearn: 0.4952056\ttotal: 256ms\tremaining: 245ms\n",
            "511:\tlearn: 0.4949195\ttotal: 257ms\tremaining: 245ms\n",
            "512:\tlearn: 0.4946841\ttotal: 257ms\tremaining: 244ms\n",
            "513:\tlearn: 0.4946725\ttotal: 258ms\tremaining: 244ms\n",
            "514:\tlearn: 0.4945271\ttotal: 258ms\tremaining: 243ms\n",
            "515:\tlearn: 0.4944554\ttotal: 259ms\tremaining: 243ms\n",
            "516:\tlearn: 0.4943344\ttotal: 259ms\tremaining: 242ms\n",
            "517:\tlearn: 0.4941581\ttotal: 260ms\tremaining: 242ms\n",
            "518:\tlearn: 0.4941467\ttotal: 260ms\tremaining: 241ms\n",
            "519:\tlearn: 0.4940821\ttotal: 261ms\tremaining: 240ms\n",
            "520:\tlearn: 0.4937745\ttotal: 261ms\tremaining: 240ms\n",
            "521:\tlearn: 0.4937559\ttotal: 261ms\tremaining: 239ms\n",
            "522:\tlearn: 0.4937407\ttotal: 262ms\tremaining: 239ms\n",
            "523:\tlearn: 0.4935824\ttotal: 262ms\tremaining: 238ms\n",
            "524:\tlearn: 0.4932931\ttotal: 263ms\tremaining: 238ms\n",
            "525:\tlearn: 0.4931687\ttotal: 263ms\tremaining: 237ms\n",
            "526:\tlearn: 0.4928333\ttotal: 264ms\tremaining: 237ms\n",
            "527:\tlearn: 0.4927945\ttotal: 264ms\tremaining: 236ms\n",
            "528:\tlearn: 0.4925615\ttotal: 264ms\tremaining: 235ms\n",
            "529:\tlearn: 0.4922765\ttotal: 265ms\tremaining: 235ms\n",
            "530:\tlearn: 0.4921963\ttotal: 265ms\tremaining: 234ms\n",
            "531:\tlearn: 0.4918821\ttotal: 266ms\tremaining: 234ms\n",
            "532:\tlearn: 0.4916996\ttotal: 266ms\tremaining: 233ms\n",
            "533:\tlearn: 0.4914369\ttotal: 267ms\tremaining: 233ms\n",
            "534:\tlearn: 0.4911622\ttotal: 267ms\tremaining: 232ms\n",
            "535:\tlearn: 0.4908776\ttotal: 268ms\tremaining: 232ms\n",
            "536:\tlearn: 0.4906844\ttotal: 268ms\tremaining: 231ms\n",
            "537:\tlearn: 0.4906370\ttotal: 269ms\tremaining: 231ms\n",
            "538:\tlearn: 0.4905499\ttotal: 269ms\tremaining: 230ms\n",
            "539:\tlearn: 0.4902333\ttotal: 270ms\tremaining: 230ms\n",
            "540:\tlearn: 0.4900453\ttotal: 270ms\tremaining: 229ms\n",
            "541:\tlearn: 0.4900284\ttotal: 272ms\tremaining: 230ms\n",
            "542:\tlearn: 0.4899378\ttotal: 272ms\tremaining: 229ms\n",
            "543:\tlearn: 0.4899268\ttotal: 273ms\tremaining: 229ms\n",
            "544:\tlearn: 0.4897494\ttotal: 273ms\tremaining: 228ms\n",
            "545:\tlearn: 0.4896444\ttotal: 274ms\tremaining: 227ms\n",
            "546:\tlearn: 0.4896238\ttotal: 274ms\tremaining: 227ms\n",
            "547:\tlearn: 0.4895537\ttotal: 274ms\tremaining: 226ms\n",
            "548:\tlearn: 0.4894915\ttotal: 275ms\tremaining: 226ms\n",
            "549:\tlearn: 0.4894433\ttotal: 275ms\tremaining: 225ms\n",
            "550:\tlearn: 0.4891275\ttotal: 276ms\tremaining: 225ms\n",
            "551:\tlearn: 0.4891070\ttotal: 276ms\tremaining: 224ms\n",
            "552:\tlearn: 0.4889016\ttotal: 276ms\tremaining: 223ms\n",
            "553:\tlearn: 0.4888659\ttotal: 277ms\tremaining: 223ms\n",
            "554:\tlearn: 0.4888375\ttotal: 277ms\tremaining: 222ms\n",
            "555:\tlearn: 0.4886665\ttotal: 278ms\tremaining: 222ms\n",
            "556:\tlearn: 0.4883531\ttotal: 278ms\tremaining: 221ms\n",
            "557:\tlearn: 0.4881983\ttotal: 279ms\tremaining: 221ms\n",
            "558:\tlearn: 0.4879429\ttotal: 279ms\tremaining: 220ms\n",
            "559:\tlearn: 0.4876850\ttotal: 280ms\tremaining: 220ms\n",
            "560:\tlearn: 0.4874923\ttotal: 280ms\tremaining: 219ms\n",
            "561:\tlearn: 0.4873100\ttotal: 281ms\tremaining: 219ms\n",
            "562:\tlearn: 0.4870514\ttotal: 281ms\tremaining: 218ms\n",
            "563:\tlearn: 0.4870108\ttotal: 282ms\tremaining: 218ms\n",
            "564:\tlearn: 0.4869138\ttotal: 282ms\tremaining: 217ms\n",
            "565:\tlearn: 0.4868378\ttotal: 282ms\tremaining: 217ms\n",
            "566:\tlearn: 0.4867261\ttotal: 283ms\tremaining: 216ms\n",
            "567:\tlearn: 0.4865229\ttotal: 284ms\tremaining: 216ms\n",
            "568:\tlearn: 0.4864802\ttotal: 284ms\tremaining: 215ms\n",
            "569:\tlearn: 0.4863494\ttotal: 285ms\tremaining: 215ms\n",
            "570:\tlearn: 0.4861042\ttotal: 285ms\tremaining: 214ms\n",
            "571:\tlearn: 0.4859904\ttotal: 285ms\tremaining: 214ms\n",
            "572:\tlearn: 0.4859178\ttotal: 286ms\tremaining: 213ms\n",
            "573:\tlearn: 0.4856623\ttotal: 286ms\tremaining: 213ms\n",
            "574:\tlearn: 0.4856038\ttotal: 287ms\tremaining: 212ms\n",
            "575:\tlearn: 0.4854041\ttotal: 287ms\tremaining: 212ms\n",
            "576:\tlearn: 0.4853996\ttotal: 288ms\tremaining: 211ms\n",
            "577:\tlearn: 0.4851908\ttotal: 288ms\tremaining: 211ms\n",
            "578:\tlearn: 0.4850827\ttotal: 289ms\tremaining: 210ms\n",
            "579:\tlearn: 0.4850569\ttotal: 289ms\tremaining: 209ms\n",
            "580:\tlearn: 0.4850311\ttotal: 290ms\tremaining: 209ms\n",
            "581:\tlearn: 0.4849500\ttotal: 290ms\tremaining: 208ms\n",
            "582:\tlearn: 0.4848706\ttotal: 291ms\tremaining: 208ms\n",
            "583:\tlearn: 0.4848663\ttotal: 291ms\tremaining: 207ms\n",
            "584:\tlearn: 0.4845131\ttotal: 291ms\tremaining: 207ms\n",
            "585:\tlearn: 0.4844929\ttotal: 292ms\tremaining: 206ms\n",
            "586:\tlearn: 0.4843081\ttotal: 292ms\tremaining: 206ms\n",
            "587:\tlearn: 0.4839979\ttotal: 293ms\tremaining: 205ms\n",
            "588:\tlearn: 0.4839498\ttotal: 293ms\tremaining: 205ms\n",
            "589:\tlearn: 0.4837991\ttotal: 294ms\tremaining: 204ms\n",
            "590:\tlearn: 0.4837383\ttotal: 294ms\tremaining: 204ms\n",
            "591:\tlearn: 0.4834595\ttotal: 295ms\tremaining: 203ms\n",
            "592:\tlearn: 0.4832060\ttotal: 295ms\tremaining: 203ms\n",
            "593:\tlearn: 0.4831582\ttotal: 295ms\tremaining: 202ms\n",
            "594:\tlearn: 0.4831534\ttotal: 296ms\tremaining: 201ms\n",
            "595:\tlearn: 0.4830686\ttotal: 296ms\tremaining: 201ms\n",
            "596:\tlearn: 0.4828580\ttotal: 297ms\tremaining: 200ms\n",
            "597:\tlearn: 0.4828410\ttotal: 297ms\tremaining: 200ms\n",
            "598:\tlearn: 0.4825953\ttotal: 298ms\tremaining: 199ms\n",
            "599:\tlearn: 0.4824177\ttotal: 298ms\tremaining: 199ms\n",
            "600:\tlearn: 0.4821418\ttotal: 299ms\tremaining: 198ms\n",
            "601:\tlearn: 0.4820584\ttotal: 299ms\tremaining: 198ms\n",
            "602:\tlearn: 0.4817943\ttotal: 300ms\tremaining: 197ms\n",
            "603:\tlearn: 0.4817467\ttotal: 300ms\tremaining: 197ms\n",
            "604:\tlearn: 0.4817320\ttotal: 300ms\tremaining: 196ms\n",
            "605:\tlearn: 0.4817075\ttotal: 301ms\tremaining: 196ms\n",
            "606:\tlearn: 0.4814898\ttotal: 301ms\tremaining: 195ms\n",
            "607:\tlearn: 0.4812678\ttotal: 302ms\tremaining: 195ms\n",
            "608:\tlearn: 0.4811156\ttotal: 302ms\tremaining: 194ms\n",
            "609:\tlearn: 0.4810461\ttotal: 303ms\tremaining: 194ms\n",
            "610:\tlearn: 0.4808675\ttotal: 303ms\tremaining: 193ms\n",
            "611:\tlearn: 0.4807607\ttotal: 304ms\tremaining: 193ms\n",
            "612:\tlearn: 0.4807135\ttotal: 304ms\tremaining: 192ms\n",
            "613:\tlearn: 0.4806231\ttotal: 305ms\tremaining: 191ms\n",
            "614:\tlearn: 0.4803536\ttotal: 305ms\tremaining: 191ms\n",
            "615:\tlearn: 0.4801052\ttotal: 306ms\tremaining: 191ms\n",
            "616:\tlearn: 0.4800760\ttotal: 306ms\tremaining: 190ms\n",
            "617:\tlearn: 0.4799078\ttotal: 306ms\tremaining: 189ms\n",
            "618:\tlearn: 0.4798588\ttotal: 307ms\tremaining: 189ms\n",
            "619:\tlearn: 0.4798539\ttotal: 307ms\tremaining: 188ms\n",
            "620:\tlearn: 0.4796983\ttotal: 308ms\tremaining: 188ms\n",
            "621:\tlearn: 0.4794874\ttotal: 308ms\tremaining: 187ms\n",
            "622:\tlearn: 0.4794593\ttotal: 309ms\tremaining: 187ms\n",
            "623:\tlearn: 0.4791922\ttotal: 309ms\tremaining: 186ms\n",
            "624:\tlearn: 0.4790556\ttotal: 310ms\tremaining: 186ms\n",
            "625:\tlearn: 0.4790091\ttotal: 310ms\tremaining: 185ms\n",
            "626:\tlearn: 0.4789462\ttotal: 310ms\tremaining: 185ms\n",
            "627:\tlearn: 0.4785807\ttotal: 311ms\tremaining: 184ms\n",
            "628:\tlearn: 0.4785530\ttotal: 311ms\tremaining: 184ms\n",
            "629:\tlearn: 0.4785187\ttotal: 312ms\tremaining: 183ms\n",
            "630:\tlearn: 0.4785129\ttotal: 312ms\tremaining: 182ms\n",
            "631:\tlearn: 0.4783548\ttotal: 312ms\tremaining: 182ms\n",
            "632:\tlearn: 0.4783474\ttotal: 313ms\tremaining: 181ms\n",
            "633:\tlearn: 0.4782726\ttotal: 313ms\tremaining: 181ms\n",
            "634:\tlearn: 0.4782579\ttotal: 314ms\tremaining: 180ms\n",
            "635:\tlearn: 0.4781636\ttotal: 314ms\tremaining: 180ms\n",
            "636:\tlearn: 0.4779399\ttotal: 314ms\tremaining: 179ms\n",
            "637:\tlearn: 0.4777961\ttotal: 315ms\tremaining: 179ms\n",
            "638:\tlearn: 0.4776791\ttotal: 315ms\tremaining: 178ms\n",
            "639:\tlearn: 0.4776783\ttotal: 316ms\tremaining: 178ms\n",
            "640:\tlearn: 0.4775478\ttotal: 317ms\tremaining: 177ms\n",
            "641:\tlearn: 0.4775049\ttotal: 317ms\tremaining: 177ms\n",
            "642:\tlearn: 0.4773019\ttotal: 319ms\tremaining: 177ms\n",
            "643:\tlearn: 0.4772650\ttotal: 320ms\tremaining: 177ms\n",
            "644:\tlearn: 0.4770017\ttotal: 320ms\tremaining: 176ms\n",
            "645:\tlearn: 0.4768664\ttotal: 321ms\tremaining: 176ms\n",
            "646:\tlearn: 0.4766713\ttotal: 321ms\tremaining: 175ms\n",
            "647:\tlearn: 0.4764709\ttotal: 322ms\tremaining: 175ms\n",
            "648:\tlearn: 0.4762435\ttotal: 322ms\tremaining: 174ms\n",
            "649:\tlearn: 0.4760091\ttotal: 323ms\tremaining: 174ms\n",
            "650:\tlearn: 0.4758287\ttotal: 323ms\tremaining: 173ms\n",
            "651:\tlearn: 0.4756681\ttotal: 324ms\tremaining: 173ms\n",
            "652:\tlearn: 0.4755866\ttotal: 324ms\tremaining: 172ms\n",
            "653:\tlearn: 0.4754256\ttotal: 325ms\tremaining: 172ms\n",
            "654:\tlearn: 0.4753207\ttotal: 325ms\tremaining: 171ms\n",
            "655:\tlearn: 0.4752193\ttotal: 326ms\tremaining: 171ms\n",
            "656:\tlearn: 0.4750778\ttotal: 327ms\tremaining: 171ms\n",
            "657:\tlearn: 0.4749896\ttotal: 328ms\tremaining: 170ms\n",
            "658:\tlearn: 0.4749577\ttotal: 328ms\tremaining: 170ms\n",
            "659:\tlearn: 0.4749082\ttotal: 329ms\tremaining: 169ms\n",
            "660:\tlearn: 0.4749013\ttotal: 329ms\tremaining: 169ms\n",
            "661:\tlearn: 0.4746654\ttotal: 330ms\tremaining: 169ms\n",
            "662:\tlearn: 0.4745164\ttotal: 331ms\tremaining: 168ms\n",
            "663:\tlearn: 0.4743914\ttotal: 332ms\tremaining: 168ms\n",
            "664:\tlearn: 0.4742239\ttotal: 333ms\tremaining: 168ms\n",
            "665:\tlearn: 0.4741001\ttotal: 333ms\tremaining: 167ms\n",
            "666:\tlearn: 0.4737861\ttotal: 334ms\tremaining: 167ms\n",
            "667:\tlearn: 0.4735943\ttotal: 334ms\tremaining: 166ms\n",
            "668:\tlearn: 0.4734680\ttotal: 335ms\tremaining: 166ms\n",
            "669:\tlearn: 0.4734619\ttotal: 335ms\tremaining: 165ms\n",
            "670:\tlearn: 0.4733496\ttotal: 336ms\tremaining: 165ms\n",
            "671:\tlearn: 0.4732124\ttotal: 336ms\tremaining: 164ms\n",
            "672:\tlearn: 0.4730473\ttotal: 337ms\tremaining: 164ms\n",
            "673:\tlearn: 0.4729235\ttotal: 337ms\tremaining: 163ms\n",
            "674:\tlearn: 0.4727641\ttotal: 338ms\tremaining: 163ms\n",
            "675:\tlearn: 0.4726265\ttotal: 338ms\tremaining: 162ms\n",
            "676:\tlearn: 0.4723970\ttotal: 339ms\tremaining: 162ms\n",
            "677:\tlearn: 0.4722892\ttotal: 339ms\tremaining: 161ms\n",
            "678:\tlearn: 0.4722835\ttotal: 340ms\tremaining: 161ms\n",
            "679:\tlearn: 0.4722510\ttotal: 340ms\tremaining: 160ms\n",
            "680:\tlearn: 0.4721308\ttotal: 340ms\tremaining: 159ms\n",
            "681:\tlearn: 0.4720791\ttotal: 341ms\tremaining: 159ms\n",
            "682:\tlearn: 0.4719350\ttotal: 341ms\tremaining: 158ms\n",
            "683:\tlearn: 0.4719257\ttotal: 342ms\tremaining: 158ms\n",
            "684:\tlearn: 0.4718415\ttotal: 342ms\tremaining: 157ms\n",
            "685:\tlearn: 0.4718340\ttotal: 343ms\tremaining: 157ms\n",
            "686:\tlearn: 0.4716311\ttotal: 343ms\tremaining: 156ms\n",
            "687:\tlearn: 0.4715894\ttotal: 343ms\tremaining: 156ms\n",
            "688:\tlearn: 0.4713440\ttotal: 344ms\tremaining: 155ms\n",
            "689:\tlearn: 0.4712936\ttotal: 344ms\tremaining: 155ms\n",
            "690:\tlearn: 0.4712910\ttotal: 345ms\tremaining: 154ms\n",
            "691:\tlearn: 0.4712505\ttotal: 345ms\tremaining: 154ms\n",
            "692:\tlearn: 0.4710426\ttotal: 346ms\tremaining: 153ms\n",
            "693:\tlearn: 0.4708708\ttotal: 346ms\tremaining: 153ms\n",
            "694:\tlearn: 0.4708462\ttotal: 346ms\tremaining: 152ms\n",
            "695:\tlearn: 0.4707322\ttotal: 347ms\tremaining: 152ms\n",
            "696:\tlearn: 0.4704677\ttotal: 347ms\tremaining: 151ms\n",
            "697:\tlearn: 0.4703800\ttotal: 348ms\tremaining: 151ms\n",
            "698:\tlearn: 0.4703254\ttotal: 348ms\tremaining: 150ms\n",
            "699:\tlearn: 0.4703011\ttotal: 349ms\tremaining: 149ms\n",
            "700:\tlearn: 0.4701718\ttotal: 349ms\tremaining: 149ms\n",
            "701:\tlearn: 0.4700633\ttotal: 350ms\tremaining: 148ms\n",
            "702:\tlearn: 0.4699427\ttotal: 350ms\tremaining: 148ms\n",
            "703:\tlearn: 0.4699407\ttotal: 351ms\tremaining: 147ms\n",
            "704:\tlearn: 0.4698372\ttotal: 351ms\tremaining: 147ms\n",
            "705:\tlearn: 0.4695859\ttotal: 351ms\tremaining: 146ms\n",
            "706:\tlearn: 0.4693690\ttotal: 352ms\tremaining: 146ms\n",
            "707:\tlearn: 0.4692405\ttotal: 352ms\tremaining: 145ms\n",
            "708:\tlearn: 0.4691575\ttotal: 353ms\tremaining: 145ms\n",
            "709:\tlearn: 0.4689378\ttotal: 353ms\tremaining: 144ms\n",
            "710:\tlearn: 0.4688172\ttotal: 354ms\tremaining: 144ms\n",
            "711:\tlearn: 0.4686478\ttotal: 354ms\tremaining: 143ms\n",
            "712:\tlearn: 0.4686056\ttotal: 355ms\tremaining: 143ms\n",
            "713:\tlearn: 0.4684013\ttotal: 355ms\tremaining: 142ms\n",
            "714:\tlearn: 0.4682394\ttotal: 356ms\tremaining: 142ms\n",
            "715:\tlearn: 0.4681827\ttotal: 356ms\tremaining: 141ms\n",
            "716:\tlearn: 0.4681431\ttotal: 357ms\tremaining: 141ms\n",
            "717:\tlearn: 0.4679798\ttotal: 357ms\tremaining: 140ms\n",
            "718:\tlearn: 0.4677666\ttotal: 357ms\tremaining: 140ms\n",
            "719:\tlearn: 0.4676800\ttotal: 358ms\tremaining: 139ms\n",
            "720:\tlearn: 0.4676316\ttotal: 358ms\tremaining: 139ms\n",
            "721:\tlearn: 0.4675949\ttotal: 359ms\tremaining: 138ms\n",
            "722:\tlearn: 0.4673840\ttotal: 359ms\tremaining: 138ms\n",
            "723:\tlearn: 0.4671306\ttotal: 360ms\tremaining: 137ms\n",
            "724:\tlearn: 0.4669488\ttotal: 360ms\tremaining: 137ms\n",
            "725:\tlearn: 0.4667921\ttotal: 361ms\tremaining: 136ms\n",
            "726:\tlearn: 0.4667714\ttotal: 361ms\tremaining: 136ms\n",
            "727:\tlearn: 0.4665505\ttotal: 362ms\tremaining: 135ms\n",
            "728:\tlearn: 0.4663891\ttotal: 362ms\tremaining: 135ms\n",
            "729:\tlearn: 0.4662899\ttotal: 362ms\tremaining: 134ms\n",
            "730:\tlearn: 0.4660047\ttotal: 363ms\tremaining: 134ms\n",
            "731:\tlearn: 0.4658360\ttotal: 363ms\tremaining: 133ms\n",
            "732:\tlearn: 0.4657674\ttotal: 364ms\tremaining: 133ms\n",
            "733:\tlearn: 0.4655893\ttotal: 364ms\tremaining: 132ms\n",
            "734:\tlearn: 0.4653920\ttotal: 365ms\tremaining: 132ms\n",
            "735:\tlearn: 0.4651902\ttotal: 365ms\tremaining: 131ms\n",
            "736:\tlearn: 0.4650037\ttotal: 366ms\tremaining: 131ms\n",
            "737:\tlearn: 0.4648598\ttotal: 366ms\tremaining: 130ms\n",
            "738:\tlearn: 0.4646071\ttotal: 367ms\tremaining: 130ms\n",
            "739:\tlearn: 0.4644502\ttotal: 367ms\tremaining: 129ms\n",
            "740:\tlearn: 0.4644402\ttotal: 368ms\tremaining: 128ms\n",
            "741:\tlearn: 0.4642109\ttotal: 368ms\tremaining: 128ms\n",
            "742:\tlearn: 0.4641735\ttotal: 368ms\tremaining: 127ms\n",
            "743:\tlearn: 0.4641255\ttotal: 369ms\tremaining: 127ms\n",
            "744:\tlearn: 0.4639806\ttotal: 369ms\tremaining: 126ms\n",
            "745:\tlearn: 0.4638526\ttotal: 370ms\tremaining: 126ms\n",
            "746:\tlearn: 0.4636966\ttotal: 370ms\tremaining: 125ms\n",
            "747:\tlearn: 0.4636114\ttotal: 371ms\tremaining: 125ms\n",
            "748:\tlearn: 0.4634731\ttotal: 371ms\tremaining: 124ms\n",
            "749:\tlearn: 0.4632905\ttotal: 372ms\tremaining: 124ms\n",
            "750:\tlearn: 0.4632039\ttotal: 372ms\tremaining: 123ms\n",
            "751:\tlearn: 0.4631904\ttotal: 372ms\tremaining: 123ms\n",
            "752:\tlearn: 0.4630627\ttotal: 373ms\tremaining: 122ms\n",
            "753:\tlearn: 0.4630280\ttotal: 373ms\tremaining: 122ms\n",
            "754:\tlearn: 0.4628161\ttotal: 374ms\tremaining: 121ms\n",
            "755:\tlearn: 0.4627118\ttotal: 374ms\tremaining: 121ms\n",
            "756:\tlearn: 0.4626490\ttotal: 375ms\tremaining: 120ms\n",
            "757:\tlearn: 0.4625514\ttotal: 375ms\tremaining: 120ms\n",
            "758:\tlearn: 0.4625134\ttotal: 376ms\tremaining: 119ms\n",
            "759:\tlearn: 0.4624202\ttotal: 376ms\tremaining: 119ms\n",
            "760:\tlearn: 0.4624113\ttotal: 376ms\tremaining: 118ms\n",
            "761:\tlearn: 0.4622177\ttotal: 377ms\tremaining: 118ms\n",
            "762:\tlearn: 0.4621157\ttotal: 377ms\tremaining: 117ms\n",
            "763:\tlearn: 0.4621063\ttotal: 378ms\tremaining: 117ms\n",
            "764:\tlearn: 0.4620465\ttotal: 378ms\tremaining: 116ms\n",
            "765:\tlearn: 0.4617466\ttotal: 378ms\tremaining: 116ms\n",
            "766:\tlearn: 0.4617406\ttotal: 379ms\tremaining: 115ms\n",
            "767:\tlearn: 0.4616252\ttotal: 379ms\tremaining: 115ms\n",
            "768:\tlearn: 0.4614305\ttotal: 380ms\tremaining: 114ms\n",
            "769:\tlearn: 0.4613295\ttotal: 380ms\tremaining: 114ms\n",
            "770:\tlearn: 0.4612706\ttotal: 381ms\tremaining: 113ms\n",
            "771:\tlearn: 0.4610958\ttotal: 381ms\tremaining: 113ms\n",
            "772:\tlearn: 0.4610015\ttotal: 382ms\tremaining: 112ms\n",
            "773:\tlearn: 0.4609069\ttotal: 382ms\tremaining: 112ms\n",
            "774:\tlearn: 0.4608376\ttotal: 382ms\tremaining: 111ms\n",
            "775:\tlearn: 0.4607677\ttotal: 383ms\tremaining: 111ms\n",
            "776:\tlearn: 0.4607019\ttotal: 383ms\tremaining: 110ms\n",
            "777:\tlearn: 0.4606743\ttotal: 384ms\tremaining: 110ms\n",
            "778:\tlearn: 0.4604873\ttotal: 384ms\tremaining: 109ms\n",
            "779:\tlearn: 0.4604299\ttotal: 385ms\tremaining: 109ms\n",
            "780:\tlearn: 0.4602662\ttotal: 385ms\tremaining: 108ms\n",
            "781:\tlearn: 0.4602579\ttotal: 386ms\tremaining: 107ms\n",
            "782:\tlearn: 0.4600684\ttotal: 386ms\tremaining: 107ms\n",
            "783:\tlearn: 0.4600010\ttotal: 386ms\tremaining: 106ms\n",
            "784:\tlearn: 0.4598801\ttotal: 387ms\tremaining: 106ms\n",
            "785:\tlearn: 0.4598677\ttotal: 387ms\tremaining: 105ms\n",
            "786:\tlearn: 0.4598615\ttotal: 388ms\tremaining: 105ms\n",
            "787:\tlearn: 0.4597283\ttotal: 388ms\tremaining: 104ms\n",
            "788:\tlearn: 0.4595850\ttotal: 389ms\tremaining: 104ms\n",
            "789:\tlearn: 0.4594348\ttotal: 389ms\tremaining: 103ms\n",
            "790:\tlearn: 0.4593830\ttotal: 390ms\tremaining: 103ms\n",
            "791:\tlearn: 0.4592516\ttotal: 390ms\tremaining: 102ms\n",
            "792:\tlearn: 0.4590961\ttotal: 391ms\tremaining: 102ms\n",
            "793:\tlearn: 0.4589332\ttotal: 391ms\tremaining: 101ms\n",
            "794:\tlearn: 0.4588430\ttotal: 391ms\tremaining: 101ms\n",
            "795:\tlearn: 0.4587990\ttotal: 392ms\tremaining: 100ms\n",
            "796:\tlearn: 0.4587330\ttotal: 392ms\tremaining: 99.9ms\n",
            "797:\tlearn: 0.4586354\ttotal: 393ms\tremaining: 99.4ms\n",
            "798:\tlearn: 0.4584505\ttotal: 393ms\tremaining: 98.9ms\n",
            "799:\tlearn: 0.4583397\ttotal: 394ms\tremaining: 98.4ms\n",
            "800:\tlearn: 0.4582471\ttotal: 394ms\tremaining: 97.9ms\n",
            "801:\tlearn: 0.4582393\ttotal: 395ms\tremaining: 97.4ms\n",
            "802:\tlearn: 0.4580887\ttotal: 395ms\tremaining: 96.9ms\n",
            "803:\tlearn: 0.4578315\ttotal: 395ms\tremaining: 96.4ms\n",
            "804:\tlearn: 0.4577905\ttotal: 396ms\tremaining: 95.9ms\n",
            "805:\tlearn: 0.4575843\ttotal: 396ms\tremaining: 95.4ms\n",
            "806:\tlearn: 0.4574798\ttotal: 397ms\tremaining: 94.9ms\n",
            "807:\tlearn: 0.4572572\ttotal: 397ms\tremaining: 94.4ms\n",
            "808:\tlearn: 0.4571653\ttotal: 398ms\tremaining: 93.9ms\n",
            "809:\tlearn: 0.4571635\ttotal: 398ms\tremaining: 93.4ms\n",
            "810:\tlearn: 0.4570342\ttotal: 399ms\tremaining: 92.9ms\n",
            "811:\tlearn: 0.4569196\ttotal: 399ms\tremaining: 92.4ms\n",
            "812:\tlearn: 0.4569058\ttotal: 399ms\tremaining: 91.9ms\n",
            "813:\tlearn: 0.4567961\ttotal: 400ms\tremaining: 91.4ms\n",
            "814:\tlearn: 0.4567320\ttotal: 400ms\tremaining: 90.9ms\n",
            "815:\tlearn: 0.4567294\ttotal: 401ms\tremaining: 90.4ms\n",
            "816:\tlearn: 0.4566731\ttotal: 401ms\tremaining: 89.9ms\n",
            "817:\tlearn: 0.4565382\ttotal: 402ms\tremaining: 89.4ms\n",
            "818:\tlearn: 0.4563591\ttotal: 402ms\tremaining: 88.9ms\n",
            "819:\tlearn: 0.4562314\ttotal: 403ms\tremaining: 88.4ms\n",
            "820:\tlearn: 0.4561938\ttotal: 403ms\tremaining: 87.9ms\n",
            "821:\tlearn: 0.4561564\ttotal: 403ms\tremaining: 87.4ms\n",
            "822:\tlearn: 0.4559870\ttotal: 404ms\tremaining: 86.9ms\n",
            "823:\tlearn: 0.4558607\ttotal: 404ms\tremaining: 86.4ms\n",
            "824:\tlearn: 0.4557011\ttotal: 405ms\tremaining: 85.9ms\n",
            "825:\tlearn: 0.4556500\ttotal: 405ms\tremaining: 85.3ms\n",
            "826:\tlearn: 0.4556249\ttotal: 406ms\tremaining: 84.8ms\n",
            "827:\tlearn: 0.4554624\ttotal: 406ms\tremaining: 84.3ms\n",
            "828:\tlearn: 0.4553695\ttotal: 407ms\tremaining: 83.9ms\n",
            "829:\tlearn: 0.4552229\ttotal: 407ms\tremaining: 83.4ms\n",
            "830:\tlearn: 0.4551862\ttotal: 407ms\tremaining: 82.9ms\n",
            "831:\tlearn: 0.4550577\ttotal: 408ms\tremaining: 82.4ms\n",
            "832:\tlearn: 0.4549533\ttotal: 408ms\tremaining: 81.9ms\n",
            "833:\tlearn: 0.4549508\ttotal: 409ms\tremaining: 81.4ms\n",
            "834:\tlearn: 0.4548070\ttotal: 409ms\tremaining: 80.9ms\n",
            "835:\tlearn: 0.4547024\ttotal: 410ms\tremaining: 80.4ms\n",
            "836:\tlearn: 0.4545296\ttotal: 410ms\tremaining: 79.9ms\n",
            "837:\tlearn: 0.4543859\ttotal: 411ms\tremaining: 79.4ms\n",
            "838:\tlearn: 0.4541724\ttotal: 411ms\tremaining: 78.9ms\n",
            "839:\tlearn: 0.4541404\ttotal: 412ms\tremaining: 78.4ms\n",
            "840:\tlearn: 0.4540722\ttotal: 412ms\tremaining: 77.9ms\n",
            "841:\tlearn: 0.4540478\ttotal: 412ms\tremaining: 77.4ms\n",
            "842:\tlearn: 0.4538150\ttotal: 413ms\tremaining: 76.9ms\n",
            "843:\tlearn: 0.4537163\ttotal: 413ms\tremaining: 76.4ms\n",
            "844:\tlearn: 0.4535748\ttotal: 414ms\tremaining: 75.9ms\n",
            "845:\tlearn: 0.4534392\ttotal: 414ms\tremaining: 75.4ms\n",
            "846:\tlearn: 0.4534162\ttotal: 415ms\tremaining: 74.9ms\n",
            "847:\tlearn: 0.4534028\ttotal: 415ms\tremaining: 74.4ms\n",
            "848:\tlearn: 0.4532841\ttotal: 416ms\tremaining: 73.9ms\n",
            "849:\tlearn: 0.4531327\ttotal: 416ms\tremaining: 73.4ms\n",
            "850:\tlearn: 0.4531309\ttotal: 416ms\tremaining: 72.9ms\n",
            "851:\tlearn: 0.4531252\ttotal: 417ms\tremaining: 72.4ms\n",
            "852:\tlearn: 0.4531226\ttotal: 417ms\tremaining: 71.9ms\n",
            "853:\tlearn: 0.4530591\ttotal: 418ms\tremaining: 71.4ms\n",
            "854:\tlearn: 0.4529831\ttotal: 418ms\tremaining: 70.9ms\n",
            "855:\tlearn: 0.4529633\ttotal: 418ms\tremaining: 70.4ms\n",
            "856:\tlearn: 0.4529280\ttotal: 419ms\tremaining: 69.9ms\n",
            "857:\tlearn: 0.4527958\ttotal: 419ms\tremaining: 69.4ms\n",
            "858:\tlearn: 0.4526456\ttotal: 420ms\tremaining: 68.9ms\n",
            "859:\tlearn: 0.4525562\ttotal: 420ms\tremaining: 68.4ms\n",
            "860:\tlearn: 0.4525317\ttotal: 421ms\tremaining: 67.9ms\n",
            "861:\tlearn: 0.4523826\ttotal: 421ms\tremaining: 67.4ms\n",
            "862:\tlearn: 0.4522366\ttotal: 422ms\tremaining: 66.9ms\n",
            "863:\tlearn: 0.4522011\ttotal: 422ms\tremaining: 66.4ms\n",
            "864:\tlearn: 0.4520997\ttotal: 423ms\tremaining: 65.9ms\n",
            "865:\tlearn: 0.4520753\ttotal: 423ms\tremaining: 65.4ms\n",
            "866:\tlearn: 0.4519792\ttotal: 423ms\tremaining: 64.9ms\n",
            "867:\tlearn: 0.4519666\ttotal: 424ms\tremaining: 64.4ms\n",
            "868:\tlearn: 0.4519134\ttotal: 424ms\tremaining: 63.9ms\n",
            "869:\tlearn: 0.4518289\ttotal: 425ms\tremaining: 63.4ms\n",
            "870:\tlearn: 0.4515990\ttotal: 425ms\tremaining: 63ms\n",
            "871:\tlearn: 0.4515148\ttotal: 426ms\tremaining: 62.5ms\n",
            "872:\tlearn: 0.4513426\ttotal: 426ms\tremaining: 62ms\n",
            "873:\tlearn: 0.4512646\ttotal: 426ms\tremaining: 61.5ms\n",
            "874:\tlearn: 0.4511411\ttotal: 427ms\tremaining: 61ms\n",
            "875:\tlearn: 0.4511393\ttotal: 427ms\tremaining: 60.5ms\n",
            "876:\tlearn: 0.4510987\ttotal: 428ms\tremaining: 60ms\n",
            "877:\tlearn: 0.4510417\ttotal: 428ms\tremaining: 59.5ms\n",
            "878:\tlearn: 0.4509363\ttotal: 429ms\tremaining: 59ms\n",
            "879:\tlearn: 0.4508308\ttotal: 429ms\tremaining: 58.5ms\n",
            "880:\tlearn: 0.4506379\ttotal: 430ms\tremaining: 58ms\n",
            "881:\tlearn: 0.4504585\ttotal: 430ms\tremaining: 57.5ms\n",
            "882:\tlearn: 0.4504560\ttotal: 430ms\tremaining: 57ms\n",
            "883:\tlearn: 0.4503735\ttotal: 431ms\tremaining: 56.5ms\n",
            "884:\tlearn: 0.4502677\ttotal: 431ms\tremaining: 56.1ms\n",
            "885:\tlearn: 0.4501522\ttotal: 432ms\tremaining: 55.6ms\n",
            "886:\tlearn: 0.4500166\ttotal: 432ms\tremaining: 55.1ms\n",
            "887:\tlearn: 0.4500092\ttotal: 433ms\tremaining: 54.6ms\n",
            "888:\tlearn: 0.4498948\ttotal: 433ms\tremaining: 54.1ms\n",
            "889:\tlearn: 0.4497757\ttotal: 434ms\tremaining: 53.6ms\n",
            "890:\tlearn: 0.4496138\ttotal: 434ms\tremaining: 53.1ms\n",
            "891:\tlearn: 0.4494395\ttotal: 435ms\tremaining: 52.6ms\n",
            "892:\tlearn: 0.4494369\ttotal: 435ms\tremaining: 52.1ms\n",
            "893:\tlearn: 0.4493498\ttotal: 436ms\tremaining: 51.7ms\n",
            "894:\tlearn: 0.4491684\ttotal: 436ms\tremaining: 51.2ms\n",
            "895:\tlearn: 0.4490383\ttotal: 437ms\tremaining: 50.7ms\n",
            "896:\tlearn: 0.4489315\ttotal: 437ms\tremaining: 50.2ms\n",
            "897:\tlearn: 0.4488727\ttotal: 437ms\tremaining: 49.7ms\n",
            "898:\tlearn: 0.4487864\ttotal: 438ms\tremaining: 49.2ms\n",
            "899:\tlearn: 0.4487432\ttotal: 438ms\tremaining: 48.7ms\n",
            "900:\tlearn: 0.4486827\ttotal: 439ms\tremaining: 48.2ms\n",
            "901:\tlearn: 0.4486537\ttotal: 439ms\tremaining: 47.7ms\n",
            "902:\tlearn: 0.4486515\ttotal: 440ms\tremaining: 47.2ms\n",
            "903:\tlearn: 0.4485445\ttotal: 440ms\tremaining: 46.7ms\n",
            "904:\tlearn: 0.4484960\ttotal: 440ms\tremaining: 46.2ms\n",
            "905:\tlearn: 0.4484674\ttotal: 441ms\tremaining: 45.7ms\n",
            "906:\tlearn: 0.4484493\ttotal: 441ms\tremaining: 45.3ms\n",
            "907:\tlearn: 0.4484398\ttotal: 442ms\tremaining: 44.8ms\n",
            "908:\tlearn: 0.4483559\ttotal: 442ms\tremaining: 44.3ms\n",
            "909:\tlearn: 0.4481082\ttotal: 443ms\tremaining: 43.8ms\n",
            "910:\tlearn: 0.4480522\ttotal: 443ms\tremaining: 43.3ms\n",
            "911:\tlearn: 0.4479712\ttotal: 444ms\tremaining: 42.8ms\n",
            "912:\tlearn: 0.4479651\ttotal: 444ms\tremaining: 42.3ms\n",
            "913:\tlearn: 0.4478760\ttotal: 444ms\tremaining: 41.8ms\n",
            "914:\tlearn: 0.4478169\ttotal: 445ms\tremaining: 41.3ms\n",
            "915:\tlearn: 0.4478144\ttotal: 445ms\tremaining: 40.8ms\n",
            "916:\tlearn: 0.4477219\ttotal: 446ms\tremaining: 40.3ms\n",
            "917:\tlearn: 0.4475254\ttotal: 446ms\tremaining: 39.9ms\n",
            "918:\tlearn: 0.4474154\ttotal: 447ms\tremaining: 39.4ms\n",
            "919:\tlearn: 0.4472709\ttotal: 447ms\tremaining: 38.9ms\n",
            "920:\tlearn: 0.4472414\ttotal: 448ms\tremaining: 38.4ms\n",
            "921:\tlearn: 0.4470653\ttotal: 448ms\tremaining: 37.9ms\n",
            "922:\tlearn: 0.4469718\ttotal: 448ms\tremaining: 37.4ms\n",
            "923:\tlearn: 0.4469693\ttotal: 449ms\tremaining: 36.9ms\n",
            "924:\tlearn: 0.4469504\ttotal: 449ms\tremaining: 36.4ms\n",
            "925:\tlearn: 0.4467881\ttotal: 450ms\tremaining: 35.9ms\n",
            "926:\tlearn: 0.4465944\ttotal: 450ms\tremaining: 35.4ms\n",
            "927:\tlearn: 0.4464567\ttotal: 451ms\tremaining: 35ms\n",
            "928:\tlearn: 0.4464514\ttotal: 451ms\tremaining: 34.5ms\n",
            "929:\tlearn: 0.4463066\ttotal: 451ms\tremaining: 34ms\n",
            "930:\tlearn: 0.4461106\ttotal: 452ms\tremaining: 33.5ms\n",
            "931:\tlearn: 0.4460034\ttotal: 452ms\tremaining: 33ms\n",
            "932:\tlearn: 0.4459000\ttotal: 453ms\tremaining: 32.5ms\n",
            "933:\tlearn: 0.4457697\ttotal: 453ms\tremaining: 32ms\n",
            "934:\tlearn: 0.4457638\ttotal: 454ms\tremaining: 31.5ms\n",
            "935:\tlearn: 0.4456432\ttotal: 454ms\tremaining: 31.1ms\n",
            "936:\tlearn: 0.4456422\ttotal: 455ms\tremaining: 30.6ms\n",
            "937:\tlearn: 0.4455400\ttotal: 455ms\tremaining: 30.1ms\n",
            "938:\tlearn: 0.4453622\ttotal: 456ms\tremaining: 29.6ms\n",
            "939:\tlearn: 0.4452714\ttotal: 456ms\tremaining: 29.1ms\n",
            "940:\tlearn: 0.4451462\ttotal: 456ms\tremaining: 28.6ms\n",
            "941:\tlearn: 0.4450726\ttotal: 457ms\tremaining: 28.1ms\n",
            "942:\tlearn: 0.4449916\ttotal: 457ms\tremaining: 27.6ms\n",
            "943:\tlearn: 0.4448764\ttotal: 458ms\tremaining: 27.2ms\n",
            "944:\tlearn: 0.4447352\ttotal: 458ms\tremaining: 26.7ms\n",
            "945:\tlearn: 0.4447266\ttotal: 459ms\tremaining: 26.2ms\n",
            "946:\tlearn: 0.4445953\ttotal: 459ms\tremaining: 25.7ms\n",
            "947:\tlearn: 0.4444971\ttotal: 460ms\tremaining: 25.2ms\n",
            "948:\tlearn: 0.4444179\ttotal: 460ms\tremaining: 24.7ms\n",
            "949:\tlearn: 0.4443153\ttotal: 461ms\tremaining: 24.2ms\n",
            "950:\tlearn: 0.4442842\ttotal: 461ms\tremaining: 23.8ms\n",
            "951:\tlearn: 0.4441767\ttotal: 462ms\tremaining: 23.3ms\n",
            "952:\tlearn: 0.4441154\ttotal: 462ms\tremaining: 22.8ms\n",
            "953:\tlearn: 0.4440666\ttotal: 462ms\tremaining: 22.3ms\n",
            "954:\tlearn: 0.4439496\ttotal: 463ms\tremaining: 21.8ms\n",
            "955:\tlearn: 0.4438378\ttotal: 463ms\tremaining: 21.3ms\n",
            "956:\tlearn: 0.4437326\ttotal: 464ms\tremaining: 20.8ms\n",
            "957:\tlearn: 0.4436671\ttotal: 464ms\tremaining: 20.4ms\n",
            "958:\tlearn: 0.4435685\ttotal: 465ms\tremaining: 19.9ms\n",
            "959:\tlearn: 0.4434303\ttotal: 465ms\tremaining: 19.4ms\n",
            "960:\tlearn: 0.4434239\ttotal: 466ms\tremaining: 18.9ms\n",
            "961:\tlearn: 0.4433414\ttotal: 466ms\tremaining: 18.4ms\n",
            "962:\tlearn: 0.4431719\ttotal: 467ms\tremaining: 17.9ms\n",
            "963:\tlearn: 0.4430932\ttotal: 467ms\tremaining: 17.4ms\n",
            "964:\tlearn: 0.4429528\ttotal: 468ms\tremaining: 17ms\n",
            "965:\tlearn: 0.4428074\ttotal: 468ms\tremaining: 16.5ms\n",
            "966:\tlearn: 0.4427993\ttotal: 468ms\tremaining: 16ms\n",
            "967:\tlearn: 0.4426804\ttotal: 469ms\tremaining: 15.5ms\n",
            "968:\tlearn: 0.4426736\ttotal: 469ms\tremaining: 15ms\n",
            "969:\tlearn: 0.4426639\ttotal: 470ms\tremaining: 14.5ms\n",
            "970:\tlearn: 0.4425191\ttotal: 470ms\tremaining: 14ms\n",
            "971:\tlearn: 0.4424969\ttotal: 471ms\tremaining: 13.6ms\n",
            "972:\tlearn: 0.4424124\ttotal: 471ms\tremaining: 13.1ms\n",
            "973:\tlearn: 0.4423839\ttotal: 471ms\tremaining: 12.6ms\n",
            "974:\tlearn: 0.4422631\ttotal: 472ms\tremaining: 12.1ms\n",
            "975:\tlearn: 0.4421409\ttotal: 472ms\tremaining: 11.6ms\n",
            "976:\tlearn: 0.4420078\ttotal: 473ms\tremaining: 11.1ms\n",
            "977:\tlearn: 0.4419655\ttotal: 473ms\tremaining: 10.6ms\n",
            "978:\tlearn: 0.4418794\ttotal: 474ms\tremaining: 10.2ms\n",
            "979:\tlearn: 0.4418629\ttotal: 474ms\tremaining: 9.68ms\n",
            "980:\tlearn: 0.4418564\ttotal: 475ms\tremaining: 9.19ms\n",
            "981:\tlearn: 0.4418429\ttotal: 475ms\tremaining: 8.71ms\n",
            "982:\tlearn: 0.4418245\ttotal: 475ms\tremaining: 8.22ms\n",
            "983:\tlearn: 0.4417456\ttotal: 476ms\tremaining: 7.74ms\n",
            "984:\tlearn: 0.4415932\ttotal: 476ms\tremaining: 7.25ms\n",
            "985:\tlearn: 0.4415206\ttotal: 477ms\tremaining: 6.77ms\n",
            "986:\tlearn: 0.4414753\ttotal: 477ms\tremaining: 6.29ms\n",
            "987:\tlearn: 0.4414295\ttotal: 478ms\tremaining: 5.8ms\n",
            "988:\tlearn: 0.4414157\ttotal: 478ms\tremaining: 5.32ms\n",
            "989:\tlearn: 0.4413041\ttotal: 479ms\tremaining: 4.83ms\n",
            "990:\tlearn: 0.4411772\ttotal: 479ms\tremaining: 4.35ms\n",
            "991:\tlearn: 0.4409856\ttotal: 480ms\tremaining: 3.87ms\n",
            "992:\tlearn: 0.4408692\ttotal: 480ms\tremaining: 3.38ms\n",
            "993:\tlearn: 0.4408083\ttotal: 481ms\tremaining: 2.9ms\n",
            "994:\tlearn: 0.4408007\ttotal: 481ms\tremaining: 2.42ms\n",
            "995:\tlearn: 0.4407600\ttotal: 481ms\tremaining: 1.93ms\n",
            "996:\tlearn: 0.4406530\ttotal: 482ms\tremaining: 1.45ms\n",
            "997:\tlearn: 0.4405696\ttotal: 482ms\tremaining: 966us\n",
            "998:\tlearn: 0.4405499\ttotal: 483ms\tremaining: 483us\n",
            "999:\tlearn: 0.4404633\ttotal: 483ms\tremaining: 0us\n",
            "              precision    recall  f1-score   support\n",
            "\n",
            "           0       0.88      0.70      0.78        10\n",
            "           1       0.73      0.89      0.80         9\n",
            "\n",
            "    accuracy                           0.79        19\n",
            "   macro avg       0.80      0.79      0.79        19\n",
            "weighted avg       0.81      0.79      0.79        19\n",
            "\n"
          ],
          "name": "stdout"
        }
      ]
    },
    {
      "cell_type": "code",
      "metadata": {
        "id": "tjHMIfSVsRVM"
      },
      "source": [
        "catb_params = {\r\n",
        "    'iterations': [200,500],\r\n",
        "    'learning_rate': [0.01,0.05, 0.1],\r\n",
        "    'depth': [3,5,8] }\r\n"
      ],
      "execution_count": 31,
      "outputs": []
    },
    {
      "cell_type": "code",
      "metadata": {
        "colab": {
          "base_uri": "https://localhost:8080/"
        },
        "id": "1ArjcOvxt5eX",
        "outputId": "664e1fc6-2b69-430f-d4d3-6beae7bbce76"
      },
      "source": [
        "catb = CatBoostClassifier(random_state=11)\r\n",
        "catb_cv_model = GridSearchCV(catb, catb_params, cv=5, n_jobs = -1, verbose = 2)\r\n",
        "catb_cv_model.fit(X_train_selection, y_train)\r\n"
      ],
      "execution_count": 32,
      "outputs": [
        {
          "output_type": "stream",
          "text": [
            "Fitting 5 folds for each of 18 candidates, totalling 90 fits\n"
          ],
          "name": "stdout"
        },
        {
          "output_type": "stream",
          "text": [
            "[Parallel(n_jobs=-1)]: Using backend LokyBackend with 2 concurrent workers.\n",
            "[Parallel(n_jobs=-1)]: Done  37 tasks      | elapsed:    8.0s\n"
          ],
          "name": "stderr"
        },
        {
          "output_type": "stream",
          "text": [
            "0:\tlearn: 0.6771339\ttotal: 765us\tremaining: 152ms\n",
            "1:\tlearn: 0.6708191\ttotal: 1.58ms\tremaining: 157ms\n",
            "2:\tlearn: 0.6616039\ttotal: 2.14ms\tremaining: 141ms\n",
            "3:\tlearn: 0.6480780\ttotal: 2.94ms\tremaining: 144ms\n",
            "4:\tlearn: 0.6317321\ttotal: 3.77ms\tremaining: 147ms\n",
            "5:\tlearn: 0.6231814\ttotal: 4.45ms\tremaining: 144ms\n",
            "6:\tlearn: 0.6174295\ttotal: 4.87ms\tremaining: 134ms\n",
            "7:\tlearn: 0.6111954\ttotal: 5.24ms\tremaining: 126ms\n",
            "8:\tlearn: 0.6044808\ttotal: 5.65ms\tremaining: 120ms\n",
            "9:\tlearn: 0.6013049\ttotal: 5.99ms\tremaining: 114ms\n",
            "10:\tlearn: 0.5899507\ttotal: 6.58ms\tremaining: 113ms\n",
            "11:\tlearn: 0.5828491\ttotal: 7.2ms\tremaining: 113ms\n",
            "12:\tlearn: 0.5805592\ttotal: 7.59ms\tremaining: 109ms\n",
            "13:\tlearn: 0.5735580\ttotal: 8.12ms\tremaining: 108ms\n",
            "14:\tlearn: 0.5677639\ttotal: 8.65ms\tremaining: 107ms\n",
            "15:\tlearn: 0.5652982\ttotal: 9.12ms\tremaining: 105ms\n",
            "16:\tlearn: 0.5607152\ttotal: 9.64ms\tremaining: 104ms\n",
            "17:\tlearn: 0.5538088\ttotal: 10.2ms\tremaining: 103ms\n",
            "18:\tlearn: 0.5508006\ttotal: 10.7ms\tremaining: 101ms\n",
            "19:\tlearn: 0.5501751\ttotal: 11ms\tremaining: 99.3ms\n",
            "20:\tlearn: 0.5475781\ttotal: 11.5ms\tremaining: 98ms\n",
            "21:\tlearn: 0.5415445\ttotal: 12.1ms\tremaining: 98.2ms\n",
            "22:\tlearn: 0.5391962\ttotal: 12.6ms\tremaining: 96.6ms\n",
            "23:\tlearn: 0.5347291\ttotal: 13ms\tremaining: 95.6ms\n",
            "24:\tlearn: 0.5339181\ttotal: 13.5ms\tremaining: 94.2ms\n",
            "25:\tlearn: 0.5275687\ttotal: 14ms\tremaining: 93.9ms\n",
            "26:\tlearn: 0.5220272\ttotal: 14.6ms\tremaining: 93.4ms\n",
            "27:\tlearn: 0.5218309\ttotal: 15ms\tremaining: 92ms\n",
            "28:\tlearn: 0.5150952\ttotal: 15.5ms\tremaining: 91.6ms\n",
            "29:\tlearn: 0.5093931\ttotal: 16.1ms\tremaining: 91.3ms\n",
            "30:\tlearn: 0.5067449\ttotal: 16.6ms\tremaining: 90.3ms\n",
            "31:\tlearn: 0.5045656\ttotal: 17ms\tremaining: 89.3ms\n",
            "32:\tlearn: 0.5033795\ttotal: 17.4ms\tremaining: 87.9ms\n",
            "33:\tlearn: 0.4980070\ttotal: 18ms\tremaining: 87.7ms\n",
            "34:\tlearn: 0.4957242\ttotal: 18.5ms\tremaining: 87ms\n",
            "35:\tlearn: 0.4921965\ttotal: 19ms\tremaining: 86.5ms\n",
            "36:\tlearn: 0.4917470\ttotal: 19.4ms\tremaining: 85.4ms\n",
            "37:\tlearn: 0.4887591\ttotal: 20ms\tremaining: 85.4ms\n",
            "38:\tlearn: 0.4866715\ttotal: 20.7ms\tremaining: 85.5ms\n",
            "39:\tlearn: 0.4853981\ttotal: 21.2ms\tremaining: 84.7ms\n",
            "40:\tlearn: 0.4847922\ttotal: 21.6ms\tremaining: 83.8ms\n",
            "41:\tlearn: 0.4810242\ttotal: 22.2ms\tremaining: 83.5ms\n",
            "42:\tlearn: 0.4809608\ttotal: 22.6ms\tremaining: 82.5ms\n",
            "43:\tlearn: 0.4803379\ttotal: 23ms\tremaining: 81.5ms\n",
            "44:\tlearn: 0.4775637\ttotal: 23.6ms\tremaining: 81.3ms\n",
            "45:\tlearn: 0.4767137\ttotal: 24ms\tremaining: 80.4ms\n",
            "46:\tlearn: 0.4723634\ttotal: 24.6ms\tremaining: 80.1ms\n",
            "47:\tlearn: 0.4709449\ttotal: 25.1ms\tremaining: 79.4ms\n",
            "48:\tlearn: 0.4704386\ttotal: 25.5ms\tremaining: 78.5ms\n",
            "49:\tlearn: 0.4702328\ttotal: 25.9ms\tremaining: 77.6ms\n",
            "50:\tlearn: 0.4669291\ttotal: 26.5ms\tremaining: 77.4ms\n",
            "51:\tlearn: 0.4667747\ttotal: 26.9ms\tremaining: 76.5ms\n",
            "52:\tlearn: 0.4628437\ttotal: 27.6ms\tremaining: 76.6ms\n",
            "53:\tlearn: 0.4617820\ttotal: 28.1ms\tremaining: 76.1ms\n",
            "54:\tlearn: 0.4605287\ttotal: 28.6ms\tremaining: 75.4ms\n",
            "55:\tlearn: 0.4604641\ttotal: 29ms\tremaining: 74.7ms\n",
            "56:\tlearn: 0.4585721\ttotal: 29.5ms\tremaining: 74ms\n",
            "57:\tlearn: 0.4585626\ttotal: 30.2ms\tremaining: 74ms\n",
            "58:\tlearn: 0.4571502\ttotal: 30.8ms\tremaining: 73.6ms\n",
            "59:\tlearn: 0.4567971\ttotal: 31.5ms\tremaining: 73.4ms\n",
            "60:\tlearn: 0.4554938\ttotal: 32.2ms\tremaining: 73.3ms\n",
            "61:\tlearn: 0.4540205\ttotal: 32.7ms\tremaining: 72.8ms\n",
            "62:\tlearn: 0.4536211\ttotal: 33.2ms\tremaining: 72.1ms\n",
            "63:\tlearn: 0.4520372\ttotal: 33.7ms\tremaining: 71.7ms\n",
            "64:\tlearn: 0.4513145\ttotal: 34.3ms\tremaining: 71.3ms\n",
            "65:\tlearn: 0.4483665\ttotal: 35.2ms\tremaining: 71.5ms\n",
            "66:\tlearn: 0.4477519\ttotal: 35.7ms\tremaining: 70.9ms\n",
            "67:\tlearn: 0.4460749\ttotal: 36.4ms\tremaining: 70.6ms\n",
            "68:\tlearn: 0.4451473\ttotal: 36.8ms\tremaining: 69.9ms\n",
            "69:\tlearn: 0.4451046\ttotal: 37.2ms\tremaining: 69.1ms\n",
            "70:\tlearn: 0.4427126\ttotal: 37.7ms\tremaining: 68.5ms\n",
            "71:\tlearn: 0.4419402\ttotal: 38.1ms\tremaining: 67.8ms\n",
            "72:\tlearn: 0.4402620\ttotal: 38.6ms\tremaining: 67.1ms\n",
            "73:\tlearn: 0.4382281\ttotal: 39.2ms\tremaining: 66.7ms\n",
            "74:\tlearn: 0.4371681\ttotal: 39.7ms\tremaining: 66.1ms\n",
            "75:\tlearn: 0.4353201\ttotal: 40.3ms\tremaining: 65.8ms\n",
            "76:\tlearn: 0.4340994\ttotal: 40.8ms\tremaining: 65.1ms\n",
            "77:\tlearn: 0.4313668\ttotal: 41.4ms\tremaining: 64.8ms\n",
            "78:\tlearn: 0.4300355\ttotal: 42ms\tremaining: 64.4ms\n",
            "79:\tlearn: 0.4286787\ttotal: 42.6ms\tremaining: 63.8ms\n",
            "80:\tlearn: 0.4284293\ttotal: 43ms\tremaining: 63.2ms\n",
            "81:\tlearn: 0.4268651\ttotal: 43.5ms\tremaining: 62.6ms\n",
            "82:\tlearn: 0.4263121\ttotal: 44ms\tremaining: 62ms\n",
            "83:\tlearn: 0.4259876\ttotal: 44.4ms\tremaining: 61.3ms\n",
            "84:\tlearn: 0.4253535\ttotal: 44.8ms\tremaining: 60.6ms\n",
            "85:\tlearn: 0.4245763\ttotal: 45.3ms\tremaining: 60ms\n",
            "86:\tlearn: 0.4237761\ttotal: 45.8ms\tremaining: 59.5ms\n",
            "87:\tlearn: 0.4222569\ttotal: 46.3ms\tremaining: 58.9ms\n",
            "88:\tlearn: 0.4207590\ttotal: 46.9ms\tremaining: 58.5ms\n",
            "89:\tlearn: 0.4207365\ttotal: 47.4ms\tremaining: 58ms\n",
            "90:\tlearn: 0.4195208\ttotal: 48ms\tremaining: 57.5ms\n",
            "91:\tlearn: 0.4180991\ttotal: 48.7ms\tremaining: 57.2ms\n",
            "92:\tlearn: 0.4169603\ttotal: 49.4ms\tremaining: 56.8ms\n",
            "93:\tlearn: 0.4165410\ttotal: 49.9ms\tremaining: 56.2ms\n",
            "94:\tlearn: 0.4150076\ttotal: 50.4ms\tremaining: 55.7ms\n",
            "95:\tlearn: 0.4134085\ttotal: 51ms\tremaining: 55.3ms\n",
            "96:\tlearn: 0.4123666\ttotal: 51.6ms\tremaining: 54.8ms\n",
            "97:\tlearn: 0.4120131\ttotal: 52ms\tremaining: 54.2ms\n",
            "98:\tlearn: 0.4117050\ttotal: 52.4ms\tremaining: 53.5ms\n",
            "99:\tlearn: 0.4100638\ttotal: 53ms\tremaining: 53ms\n",
            "100:\tlearn: 0.4090165\ttotal: 53.6ms\tremaining: 52.5ms\n",
            "101:\tlearn: 0.4090006\ttotal: 53.9ms\tremaining: 51.8ms\n",
            "102:\tlearn: 0.4088702\ttotal: 54.7ms\tremaining: 51.5ms\n",
            "103:\tlearn: 0.4077545\ttotal: 55.5ms\tremaining: 51.3ms\n",
            "104:\tlearn: 0.4071880\ttotal: 56ms\tremaining: 50.7ms\n",
            "105:\tlearn: 0.4068095\ttotal: 56.7ms\tremaining: 50.3ms\n",
            "106:\tlearn: 0.4065822\ttotal: 57.3ms\tremaining: 49.8ms\n",
            "107:\tlearn: 0.4052168\ttotal: 58.1ms\tremaining: 49.5ms\n",
            "108:\tlearn: 0.4038746\ttotal: 58.8ms\tremaining: 49.1ms\n",
            "109:\tlearn: 0.4029712\ttotal: 59.7ms\tremaining: 48.8ms\n",
            "110:\tlearn: 0.4024851\ttotal: 60.2ms\tremaining: 48.2ms\n",
            "111:\tlearn: 0.4021940\ttotal: 60.6ms\tremaining: 47.6ms\n",
            "112:\tlearn: 0.4007265\ttotal: 61.3ms\tremaining: 47.2ms\n",
            "113:\tlearn: 0.3997711\ttotal: 62.3ms\tremaining: 47ms\n",
            "114:\tlearn: 0.3991066\ttotal: 63ms\tremaining: 46.6ms\n",
            "115:\tlearn: 0.3982204\ttotal: 63.7ms\tremaining: 46.1ms\n",
            "116:\tlearn: 0.3980104\ttotal: 64.3ms\tremaining: 45.6ms\n",
            "117:\tlearn: 0.3969165\ttotal: 65.2ms\tremaining: 45.3ms\n",
            "118:\tlearn: 0.3966337\ttotal: 65.9ms\tremaining: 44.8ms\n",
            "119:\tlearn: 0.3955559\ttotal: 66.6ms\tremaining: 44.4ms\n",
            "120:\tlearn: 0.3945444\ttotal: 67.7ms\tremaining: 44.2ms\n",
            "121:\tlearn: 0.3934590\ttotal: 68.4ms\tremaining: 43.7ms\n",
            "122:\tlearn: 0.3934201\ttotal: 69ms\tremaining: 43.2ms\n",
            "123:\tlearn: 0.3925542\ttotal: 69.7ms\tremaining: 42.7ms\n",
            "124:\tlearn: 0.3914393\ttotal: 70.5ms\tremaining: 42.3ms\n",
            "125:\tlearn: 0.3914327\ttotal: 71ms\tremaining: 41.7ms\n",
            "126:\tlearn: 0.3903796\ttotal: 71.7ms\tremaining: 41.2ms\n",
            "127:\tlearn: 0.3900139\ttotal: 72.2ms\tremaining: 40.6ms\n",
            "128:\tlearn: 0.3889814\ttotal: 73ms\tremaining: 40.2ms\n",
            "129:\tlearn: 0.3879503\ttotal: 73.9ms\tremaining: 39.8ms\n",
            "130:\tlearn: 0.3872527\ttotal: 74.6ms\tremaining: 39.3ms\n",
            "131:\tlearn: 0.3862384\ttotal: 75.4ms\tremaining: 38.8ms\n",
            "132:\tlearn: 0.3859950\ttotal: 75.8ms\tremaining: 38.2ms\n",
            "133:\tlearn: 0.3851175\ttotal: 76.5ms\tremaining: 37.7ms\n",
            "134:\tlearn: 0.3843600\ttotal: 77.3ms\tremaining: 37.2ms\n",
            "135:\tlearn: 0.3835587\ttotal: 78ms\tremaining: 36.7ms\n",
            "136:\tlearn: 0.3827754\ttotal: 78.7ms\tremaining: 36.2ms\n",
            "137:\tlearn: 0.3821347\ttotal: 79.5ms\tremaining: 35.7ms\n",
            "138:\tlearn: 0.3812518\ttotal: 80.2ms\tremaining: 35.2ms\n",
            "139:\tlearn: 0.3812298\ttotal: 80.7ms\tremaining: 34.6ms\n",
            "140:\tlearn: 0.3807656\ttotal: 81.3ms\tremaining: 34ms\n",
            "141:\tlearn: 0.3799870\ttotal: 82.1ms\tremaining: 33.5ms\n",
            "142:\tlearn: 0.3793819\ttotal: 82.8ms\tremaining: 33ms\n",
            "143:\tlearn: 0.3785583\ttotal: 83.5ms\tremaining: 32.5ms\n",
            "144:\tlearn: 0.3778289\ttotal: 84.2ms\tremaining: 31.9ms\n",
            "145:\tlearn: 0.3771368\ttotal: 84.9ms\tremaining: 31.4ms\n",
            "146:\tlearn: 0.3764894\ttotal: 85.7ms\tremaining: 30.9ms\n",
            "147:\tlearn: 0.3759661\ttotal: 86.4ms\tremaining: 30.4ms\n",
            "148:\tlearn: 0.3752552\ttotal: 87.2ms\tremaining: 29.8ms\n",
            "149:\tlearn: 0.3745738\ttotal: 87.9ms\tremaining: 29.3ms\n",
            "150:\tlearn: 0.3740206\ttotal: 88.7ms\tremaining: 28.8ms\n",
            "151:\tlearn: 0.3734237\ttotal: 89.5ms\tremaining: 28.3ms\n",
            "152:\tlearn: 0.3728824\ttotal: 90.2ms\tremaining: 27.7ms\n",
            "153:\tlearn: 0.3727975\ttotal: 90.7ms\tremaining: 27.1ms\n",
            "154:\tlearn: 0.3723119\ttotal: 91.3ms\tremaining: 26.5ms\n",
            "155:\tlearn: 0.3717742\ttotal: 92ms\tremaining: 25.9ms\n",
            "156:\tlearn: 0.3712624\ttotal: 92.6ms\tremaining: 25.4ms\n",
            "157:\tlearn: 0.3707265\ttotal: 93.2ms\tremaining: 24.8ms\n",
            "158:\tlearn: 0.3702085\ttotal: 93.9ms\tremaining: 24.2ms\n",
            "159:\tlearn: 0.3697075\ttotal: 94.5ms\tremaining: 23.6ms\n",
            "160:\tlearn: 0.3692316\ttotal: 95.1ms\tremaining: 23ms\n",
            "161:\tlearn: 0.3687573\ttotal: 95.8ms\tremaining: 22.5ms\n",
            "162:\tlearn: 0.3682884\ttotal: 96.4ms\tremaining: 21.9ms\n",
            "163:\tlearn: 0.3677943\ttotal: 97ms\tremaining: 21.3ms\n",
            "164:\tlearn: 0.3673505\ttotal: 97.6ms\tremaining: 20.7ms\n",
            "165:\tlearn: 0.3673350\ttotal: 98ms\tremaining: 20.1ms\n",
            "166:\tlearn: 0.3673202\ttotal: 98.4ms\tremaining: 19.4ms\n",
            "167:\tlearn: 0.3668610\ttotal: 99ms\tremaining: 18.9ms\n",
            "168:\tlearn: 0.3664861\ttotal: 99.6ms\tremaining: 18.3ms\n",
            "169:\tlearn: 0.3661259\ttotal: 100ms\tremaining: 17.7ms\n",
            "170:\tlearn: 0.3657225\ttotal: 101ms\tremaining: 17.1ms\n",
            "171:\tlearn: 0.3653332\ttotal: 102ms\tremaining: 16.5ms\n",
            "172:\tlearn: 0.3649850\ttotal: 102ms\tremaining: 15.9ms\n",
            "173:\tlearn: 0.3646039\ttotal: 103ms\tremaining: 15.4ms\n",
            "174:\tlearn: 0.3642594\ttotal: 103ms\tremaining: 14.8ms\n",
            "175:\tlearn: 0.3639829\ttotal: 104ms\tremaining: 14.2ms\n",
            "176:\tlearn: 0.3637257\ttotal: 105ms\tremaining: 13.6ms\n",
            "177:\tlearn: 0.3633799\ttotal: 105ms\tremaining: 13ms\n",
            "178:\tlearn: 0.3630607\ttotal: 106ms\tremaining: 12.4ms\n",
            "179:\tlearn: 0.3627526\ttotal: 107ms\tremaining: 11.8ms\n",
            "180:\tlearn: 0.3624688\ttotal: 107ms\tremaining: 11.3ms\n",
            "181:\tlearn: 0.3621435\ttotal: 108ms\tremaining: 10.7ms\n",
            "182:\tlearn: 0.3618462\ttotal: 108ms\tremaining: 10.1ms\n",
            "183:\tlearn: 0.3615280\ttotal: 109ms\tremaining: 9.48ms\n",
            "184:\tlearn: 0.3612725\ttotal: 110ms\tremaining: 8.89ms\n",
            "185:\tlearn: 0.3609472\ttotal: 110ms\tremaining: 8.3ms\n",
            "186:\tlearn: 0.3606642\ttotal: 111ms\tremaining: 7.71ms\n",
            "187:\tlearn: 0.3603752\ttotal: 112ms\tremaining: 7.12ms\n",
            "188:\tlearn: 0.3603348\ttotal: 112ms\tremaining: 6.52ms\n",
            "189:\tlearn: 0.3600589\ttotal: 113ms\tremaining: 5.92ms\n",
            "190:\tlearn: 0.3597967\ttotal: 113ms\tremaining: 5.33ms\n",
            "191:\tlearn: 0.3595216\ttotal: 114ms\tremaining: 4.74ms\n",
            "192:\tlearn: 0.3592613\ttotal: 114ms\tremaining: 4.15ms\n",
            "193:\tlearn: 0.3589998\ttotal: 115ms\tremaining: 3.56ms\n",
            "194:\tlearn: 0.3587668\ttotal: 116ms\tremaining: 2.97ms\n",
            "195:\tlearn: 0.3584755\ttotal: 116ms\tremaining: 2.37ms\n",
            "196:\tlearn: 0.3581931\ttotal: 117ms\tremaining: 1.78ms\n",
            "197:\tlearn: 0.3579232\ttotal: 120ms\tremaining: 1.21ms\n",
            "198:\tlearn: 0.3576542\ttotal: 121ms\tremaining: 606us\n",
            "199:\tlearn: 0.3574289\ttotal: 121ms\tremaining: 0us\n"
          ],
          "name": "stdout"
        },
        {
          "output_type": "stream",
          "text": [
            "[Parallel(n_jobs=-1)]: Done  90 out of  90 | elapsed:   20.3s finished\n"
          ],
          "name": "stderr"
        },
        {
          "output_type": "execute_result",
          "data": {
            "text/plain": [
              "GridSearchCV(cv=5, error_score=nan,\n",
              "             estimator=<catboost.core.CatBoostClassifier object at 0x7f3e42e43198>,\n",
              "             iid='deprecated', n_jobs=-1,\n",
              "             param_grid={'depth': [3, 5, 8], 'iterations': [200, 500],\n",
              "                         'learning_rate': [0.01, 0.05, 0.1]},\n",
              "             pre_dispatch='2*n_jobs', refit=True, return_train_score=False,\n",
              "             scoring=None, verbose=2)"
            ]
          },
          "metadata": {
            "tags": []
          },
          "execution_count": 32
        }
      ]
    },
    {
      "cell_type": "code",
      "metadata": {
        "colab": {
          "base_uri": "https://localhost:8080/"
        },
        "id": "m-r6dObpt5_v",
        "outputId": "4167e01a-9d14-4b5d-be25-7bec8fad3ff4"
      },
      "source": [
        "catb_cv_model.best_params_"
      ],
      "execution_count": 33,
      "outputs": [
        {
          "output_type": "execute_result",
          "data": {
            "text/plain": [
              "{'depth': 8, 'iterations': 200, 'learning_rate': 0.05}"
            ]
          },
          "metadata": {
            "tags": []
          },
          "execution_count": 33
        }
      ]
    },
    {
      "cell_type": "code",
      "metadata": {
        "id": "3O-OqDyQt59N"
      },
      "source": [
        "catb = CatBoostClassifier(iterations = 300, \r\n",
        "                          learning_rate = 0.01, \r\n",
        "                          depth = 8)"
      ],
      "execution_count": 39,
      "outputs": []
    },
    {
      "cell_type": "code",
      "metadata": {
        "colab": {
          "base_uri": "https://localhost:8080/"
        },
        "id": "NAWU6nL7t565",
        "outputId": "f1c43787-2f2e-4f44-a3bd-54499bcb74fd"
      },
      "source": [
        "catb_tuned = catb.fit(X_train_selection, y_train)\r\n",
        "y_pred = catb_tuned.predict(X_test_selection)\r\n",
        "accuracy_score(y_test, y_pred)"
      ],
      "execution_count": 40,
      "outputs": [
        {
          "output_type": "stream",
          "text": [
            "0:\tlearn: 0.6903140\ttotal: 3.18ms\tremaining: 951ms\n",
            "1:\tlearn: 0.6891098\ttotal: 4.11ms\tremaining: 612ms\n",
            "2:\tlearn: 0.6858659\ttotal: 4.69ms\tremaining: 464ms\n",
            "3:\tlearn: 0.6834774\ttotal: 5.33ms\tremaining: 394ms\n",
            "4:\tlearn: 0.6805973\ttotal: 5.83ms\tremaining: 344ms\n",
            "5:\tlearn: 0.6786589\ttotal: 6.27ms\tremaining: 307ms\n",
            "6:\tlearn: 0.6768352\ttotal: 6.68ms\tremaining: 280ms\n",
            "7:\tlearn: 0.6750424\ttotal: 7.2ms\tremaining: 263ms\n",
            "8:\tlearn: 0.6730573\ttotal: 7.65ms\tremaining: 247ms\n",
            "9:\tlearn: 0.6712024\ttotal: 8.15ms\tremaining: 236ms\n",
            "10:\tlearn: 0.6681128\ttotal: 8.66ms\tremaining: 228ms\n",
            "11:\tlearn: 0.6650885\ttotal: 9.23ms\tremaining: 222ms\n",
            "12:\tlearn: 0.6637723\ttotal: 9.68ms\tremaining: 214ms\n",
            "13:\tlearn: 0.6619004\ttotal: 10.1ms\tremaining: 207ms\n",
            "14:\tlearn: 0.6601276\ttotal: 10.6ms\tremaining: 201ms\n",
            "15:\tlearn: 0.6576482\ttotal: 11ms\tremaining: 195ms\n",
            "16:\tlearn: 0.6566261\ttotal: 11.4ms\tremaining: 191ms\n",
            "17:\tlearn: 0.6549500\ttotal: 11.9ms\tremaining: 187ms\n",
            "18:\tlearn: 0.6521365\ttotal: 12.5ms\tremaining: 185ms\n",
            "19:\tlearn: 0.6491205\ttotal: 13ms\tremaining: 182ms\n",
            "20:\tlearn: 0.6479163\ttotal: 13.4ms\tremaining: 179ms\n",
            "21:\tlearn: 0.6458128\ttotal: 14ms\tremaining: 177ms\n",
            "22:\tlearn: 0.6430679\ttotal: 14.6ms\tremaining: 176ms\n",
            "23:\tlearn: 0.6401799\ttotal: 15.3ms\tremaining: 176ms\n",
            "24:\tlearn: 0.6377247\ttotal: 15.9ms\tremaining: 175ms\n",
            "25:\tlearn: 0.6358572\ttotal: 16.4ms\tremaining: 173ms\n",
            "26:\tlearn: 0.6343141\ttotal: 17.2ms\tremaining: 173ms\n",
            "27:\tlearn: 0.6332353\ttotal: 17.7ms\tremaining: 172ms\n",
            "28:\tlearn: 0.6316181\ttotal: 18.4ms\tremaining: 172ms\n",
            "29:\tlearn: 0.6301179\ttotal: 18.9ms\tremaining: 170ms\n",
            "30:\tlearn: 0.6278747\ttotal: 19.6ms\tremaining: 170ms\n",
            "31:\tlearn: 0.6272643\ttotal: 20ms\tremaining: 168ms\n",
            "32:\tlearn: 0.6244820\ttotal: 20.6ms\tremaining: 167ms\n",
            "33:\tlearn: 0.6225714\ttotal: 21.2ms\tremaining: 166ms\n",
            "34:\tlearn: 0.6202871\ttotal: 21.7ms\tremaining: 164ms\n",
            "35:\tlearn: 0.6188008\ttotal: 22.1ms\tremaining: 162ms\n",
            "36:\tlearn: 0.6177560\ttotal: 22.6ms\tremaining: 160ms\n",
            "37:\tlearn: 0.6156875\ttotal: 23.2ms\tremaining: 160ms\n",
            "38:\tlearn: 0.6141929\ttotal: 24.1ms\tremaining: 161ms\n",
            "39:\tlearn: 0.6131508\ttotal: 25ms\tremaining: 163ms\n",
            "40:\tlearn: 0.6124185\ttotal: 25.6ms\tremaining: 161ms\n",
            "41:\tlearn: 0.6103937\ttotal: 26.4ms\tremaining: 162ms\n",
            "42:\tlearn: 0.6088160\ttotal: 26.9ms\tremaining: 161ms\n",
            "43:\tlearn: 0.6068523\ttotal: 27.5ms\tremaining: 160ms\n",
            "44:\tlearn: 0.6048466\ttotal: 28.1ms\tremaining: 159ms\n",
            "45:\tlearn: 0.6025005\ttotal: 28.8ms\tremaining: 159ms\n",
            "46:\tlearn: 0.6003700\ttotal: 29.3ms\tremaining: 158ms\n",
            "47:\tlearn: 0.5979134\ttotal: 29.9ms\tremaining: 157ms\n",
            "48:\tlearn: 0.5959902\ttotal: 30.5ms\tremaining: 156ms\n",
            "49:\tlearn: 0.5939757\ttotal: 31.1ms\tremaining: 155ms\n",
            "50:\tlearn: 0.5923333\ttotal: 31.6ms\tremaining: 154ms\n",
            "51:\tlearn: 0.5904017\ttotal: 32.1ms\tremaining: 153ms\n",
            "52:\tlearn: 0.5887516\ttotal: 32.7ms\tremaining: 152ms\n",
            "53:\tlearn: 0.5866383\ttotal: 33.6ms\tremaining: 153ms\n",
            "54:\tlearn: 0.5856037\ttotal: 34.3ms\tremaining: 153ms\n",
            "55:\tlearn: 0.5849578\ttotal: 34.8ms\tremaining: 152ms\n",
            "56:\tlearn: 0.5834278\ttotal: 35.4ms\tremaining: 151ms\n",
            "57:\tlearn: 0.5813901\ttotal: 35.9ms\tremaining: 150ms\n",
            "58:\tlearn: 0.5807927\ttotal: 36.3ms\tremaining: 148ms\n",
            "59:\tlearn: 0.5805285\ttotal: 36.9ms\tremaining: 147ms\n",
            "60:\tlearn: 0.5790485\ttotal: 37.4ms\tremaining: 146ms\n",
            "61:\tlearn: 0.5772590\ttotal: 38.2ms\tremaining: 147ms\n",
            "62:\tlearn: 0.5769685\ttotal: 38.6ms\tremaining: 145ms\n",
            "63:\tlearn: 0.5752161\ttotal: 41.9ms\tremaining: 155ms\n",
            "64:\tlearn: 0.5736231\ttotal: 42.6ms\tremaining: 154ms\n",
            "65:\tlearn: 0.5724145\ttotal: 43.8ms\tremaining: 155ms\n",
            "66:\tlearn: 0.5713604\ttotal: 44.7ms\tremaining: 155ms\n",
            "67:\tlearn: 0.5694368\ttotal: 47ms\tremaining: 160ms\n",
            "68:\tlearn: 0.5693787\ttotal: 47.3ms\tremaining: 159ms\n",
            "69:\tlearn: 0.5677101\ttotal: 48.1ms\tremaining: 158ms\n",
            "70:\tlearn: 0.5668001\ttotal: 48.4ms\tremaining: 156ms\n",
            "71:\tlearn: 0.5648136\ttotal: 49ms\tremaining: 155ms\n",
            "72:\tlearn: 0.5638039\ttotal: 49.7ms\tremaining: 155ms\n",
            "73:\tlearn: 0.5620589\ttotal: 50.2ms\tremaining: 153ms\n",
            "74:\tlearn: 0.5611795\ttotal: 50.7ms\tremaining: 152ms\n",
            "75:\tlearn: 0.5596748\ttotal: 51.3ms\tremaining: 151ms\n",
            "76:\tlearn: 0.5585006\ttotal: 51.9ms\tremaining: 150ms\n",
            "77:\tlearn: 0.5577542\ttotal: 52.4ms\tremaining: 149ms\n",
            "78:\tlearn: 0.5561257\ttotal: 53ms\tremaining: 148ms\n",
            "79:\tlearn: 0.5552410\ttotal: 53.4ms\tremaining: 147ms\n",
            "80:\tlearn: 0.5547537\ttotal: 53.8ms\tremaining: 145ms\n",
            "81:\tlearn: 0.5538368\ttotal: 54.3ms\tremaining: 144ms\n",
            "82:\tlearn: 0.5533645\ttotal: 54.7ms\tremaining: 143ms\n",
            "83:\tlearn: 0.5515478\ttotal: 55.2ms\tremaining: 142ms\n",
            "84:\tlearn: 0.5499829\ttotal: 55.9ms\tremaining: 141ms\n",
            "85:\tlearn: 0.5495416\ttotal: 56.7ms\tremaining: 141ms\n",
            "86:\tlearn: 0.5483030\ttotal: 57.4ms\tremaining: 141ms\n",
            "87:\tlearn: 0.5480568\ttotal: 58.1ms\tremaining: 140ms\n",
            "88:\tlearn: 0.5464416\ttotal: 58.8ms\tremaining: 140ms\n",
            "89:\tlearn: 0.5459364\ttotal: 59.3ms\tremaining: 138ms\n",
            "90:\tlearn: 0.5452998\ttotal: 59.8ms\tremaining: 137ms\n",
            "91:\tlearn: 0.5445605\ttotal: 60.3ms\tremaining: 136ms\n",
            "92:\tlearn: 0.5433024\ttotal: 60.7ms\tremaining: 135ms\n",
            "93:\tlearn: 0.5426944\ttotal: 61.2ms\tremaining: 134ms\n",
            "94:\tlearn: 0.5418490\ttotal: 61.7ms\tremaining: 133ms\n",
            "95:\tlearn: 0.5416311\ttotal: 62.1ms\tremaining: 132ms\n",
            "96:\tlearn: 0.5415941\ttotal: 62.5ms\tremaining: 131ms\n",
            "97:\tlearn: 0.5410960\ttotal: 62.9ms\tremaining: 130ms\n",
            "98:\tlearn: 0.5395639\ttotal: 63.4ms\tremaining: 129ms\n",
            "99:\tlearn: 0.5391795\ttotal: 63.8ms\tremaining: 128ms\n",
            "100:\tlearn: 0.5388957\ttotal: 64.2ms\tremaining: 126ms\n",
            "101:\tlearn: 0.5378624\ttotal: 64.6ms\tremaining: 125ms\n",
            "102:\tlearn: 0.5377875\ttotal: 65ms\tremaining: 124ms\n",
            "103:\tlearn: 0.5366093\ttotal: 65.6ms\tremaining: 124ms\n",
            "104:\tlearn: 0.5351397\ttotal: 66.2ms\tremaining: 123ms\n",
            "105:\tlearn: 0.5344880\ttotal: 66.8ms\tremaining: 122ms\n",
            "106:\tlearn: 0.5338167\ttotal: 67.2ms\tremaining: 121ms\n",
            "107:\tlearn: 0.5335446\ttotal: 67.5ms\tremaining: 120ms\n",
            "108:\tlearn: 0.5327154\ttotal: 68ms\tremaining: 119ms\n",
            "109:\tlearn: 0.5312200\ttotal: 68.6ms\tremaining: 119ms\n",
            "110:\tlearn: 0.5308634\ttotal: 69.1ms\tremaining: 118ms\n",
            "111:\tlearn: 0.5303716\ttotal: 69.5ms\tremaining: 117ms\n",
            "112:\tlearn: 0.5299366\ttotal: 70ms\tremaining: 116ms\n",
            "113:\tlearn: 0.5290801\ttotal: 70.5ms\tremaining: 115ms\n",
            "114:\tlearn: 0.5289956\ttotal: 71.1ms\tremaining: 114ms\n",
            "115:\tlearn: 0.5277161\ttotal: 71.8ms\tremaining: 114ms\n",
            "116:\tlearn: 0.5262743\ttotal: 72.3ms\tremaining: 113ms\n",
            "117:\tlearn: 0.5256134\ttotal: 72.8ms\tremaining: 112ms\n",
            "118:\tlearn: 0.5248579\ttotal: 73.3ms\tremaining: 111ms\n",
            "119:\tlearn: 0.5239470\ttotal: 73.8ms\tremaining: 111ms\n",
            "120:\tlearn: 0.5231159\ttotal: 74.3ms\tremaining: 110ms\n",
            "121:\tlearn: 0.5226495\ttotal: 74.9ms\tremaining: 109ms\n",
            "122:\tlearn: 0.5217802\ttotal: 75.4ms\tremaining: 108ms\n",
            "123:\tlearn: 0.5210563\ttotal: 75.8ms\tremaining: 108ms\n",
            "124:\tlearn: 0.5200819\ttotal: 76.5ms\tremaining: 107ms\n",
            "125:\tlearn: 0.5191472\ttotal: 76.9ms\tremaining: 106ms\n",
            "126:\tlearn: 0.5176816\ttotal: 77.6ms\tremaining: 106ms\n",
            "127:\tlearn: 0.5172764\ttotal: 78ms\tremaining: 105ms\n",
            "128:\tlearn: 0.5169874\ttotal: 78.4ms\tremaining: 104ms\n",
            "129:\tlearn: 0.5163214\ttotal: 79ms\tremaining: 103ms\n",
            "130:\tlearn: 0.5161554\ttotal: 79.4ms\tremaining: 102ms\n",
            "131:\tlearn: 0.5157560\ttotal: 79.9ms\tremaining: 102ms\n",
            "132:\tlearn: 0.5145675\ttotal: 80.4ms\tremaining: 101ms\n",
            "133:\tlearn: 0.5140286\ttotal: 80.8ms\tremaining: 100ms\n",
            "134:\tlearn: 0.5138530\ttotal: 81.2ms\tremaining: 99.3ms\n",
            "135:\tlearn: 0.5135195\ttotal: 81.7ms\tremaining: 98.5ms\n",
            "136:\tlearn: 0.5132134\ttotal: 82.1ms\tremaining: 97.7ms\n",
            "137:\tlearn: 0.5131429\ttotal: 82.8ms\tremaining: 97.2ms\n",
            "138:\tlearn: 0.5122858\ttotal: 83.4ms\tremaining: 96.6ms\n",
            "139:\tlearn: 0.5116193\ttotal: 83.8ms\tremaining: 95.8ms\n",
            "140:\tlearn: 0.5115029\ttotal: 84.4ms\tremaining: 95.2ms\n",
            "141:\tlearn: 0.5107997\ttotal: 84.9ms\tremaining: 94.5ms\n",
            "142:\tlearn: 0.5101282\ttotal: 85.4ms\tremaining: 93.7ms\n",
            "143:\tlearn: 0.5096884\ttotal: 85.8ms\tremaining: 93ms\n",
            "144:\tlearn: 0.5090872\ttotal: 86.4ms\tremaining: 92.3ms\n",
            "145:\tlearn: 0.5085248\ttotal: 86.8ms\tremaining: 91.5ms\n",
            "146:\tlearn: 0.5075133\ttotal: 87.4ms\tremaining: 91ms\n",
            "147:\tlearn: 0.5071559\ttotal: 87.9ms\tremaining: 90.2ms\n",
            "148:\tlearn: 0.5067434\ttotal: 88.4ms\tremaining: 89.6ms\n",
            "149:\tlearn: 0.5059107\ttotal: 89ms\tremaining: 89ms\n",
            "150:\tlearn: 0.5049607\ttotal: 89.6ms\tremaining: 88.4ms\n",
            "151:\tlearn: 0.5046407\ttotal: 90ms\tremaining: 87.6ms\n",
            "152:\tlearn: 0.5035367\ttotal: 90.5ms\tremaining: 87ms\n",
            "153:\tlearn: 0.5027945\ttotal: 91ms\tremaining: 86.3ms\n",
            "154:\tlearn: 0.5016535\ttotal: 91.7ms\tremaining: 85.8ms\n",
            "155:\tlearn: 0.5011336\ttotal: 92.2ms\tremaining: 85.1ms\n",
            "156:\tlearn: 0.5006358\ttotal: 92.9ms\tremaining: 84.6ms\n",
            "157:\tlearn: 0.5000610\ttotal: 93.3ms\tremaining: 83.9ms\n",
            "158:\tlearn: 0.4992130\ttotal: 93.8ms\tremaining: 83.2ms\n",
            "159:\tlearn: 0.4986746\ttotal: 94.3ms\tremaining: 82.5ms\n",
            "160:\tlearn: 0.4978764\ttotal: 94.8ms\tremaining: 81.8ms\n",
            "161:\tlearn: 0.4974560\ttotal: 95.2ms\tremaining: 81.1ms\n",
            "162:\tlearn: 0.4969076\ttotal: 95.9ms\tremaining: 80.6ms\n",
            "163:\tlearn: 0.4966412\ttotal: 96.3ms\tremaining: 79.8ms\n",
            "164:\tlearn: 0.4954991\ttotal: 96.9ms\tremaining: 79.3ms\n",
            "165:\tlearn: 0.4954000\ttotal: 97.3ms\tremaining: 78.6ms\n",
            "166:\tlearn: 0.4944953\ttotal: 97.9ms\tremaining: 78ms\n",
            "167:\tlearn: 0.4940661\ttotal: 98.3ms\tremaining: 77.3ms\n",
            "168:\tlearn: 0.4935197\ttotal: 98.8ms\tremaining: 76.6ms\n",
            "169:\tlearn: 0.4925540\ttotal: 99.4ms\tremaining: 76ms\n",
            "170:\tlearn: 0.4915019\ttotal: 100ms\tremaining: 75.5ms\n",
            "171:\tlearn: 0.4912578\ttotal: 100ms\tremaining: 74.8ms\n",
            "172:\tlearn: 0.4909301\ttotal: 101ms\tremaining: 74.2ms\n",
            "173:\tlearn: 0.4901893\ttotal: 102ms\tremaining: 73.6ms\n",
            "174:\tlearn: 0.4896318\ttotal: 102ms\tremaining: 73ms\n",
            "175:\tlearn: 0.4887764\ttotal: 103ms\tremaining: 72.4ms\n",
            "176:\tlearn: 0.4883351\ttotal: 103ms\tremaining: 71.7ms\n",
            "177:\tlearn: 0.4877234\ttotal: 104ms\tremaining: 71.1ms\n",
            "178:\tlearn: 0.4873260\ttotal: 104ms\tremaining: 70.5ms\n",
            "179:\tlearn: 0.4867217\ttotal: 105ms\tremaining: 70ms\n",
            "180:\tlearn: 0.4860712\ttotal: 105ms\tremaining: 69.3ms\n",
            "181:\tlearn: 0.4855052\ttotal: 106ms\tremaining: 68.6ms\n",
            "182:\tlearn: 0.4847119\ttotal: 106ms\tremaining: 68.1ms\n",
            "183:\tlearn: 0.4838492\ttotal: 107ms\tremaining: 67.5ms\n",
            "184:\tlearn: 0.4837880\ttotal: 107ms\tremaining: 66.8ms\n",
            "185:\tlearn: 0.4831896\ttotal: 108ms\tremaining: 66.3ms\n",
            "186:\tlearn: 0.4830277\ttotal: 109ms\tremaining: 65.7ms\n",
            "187:\tlearn: 0.4829557\ttotal: 109ms\tremaining: 65ms\n",
            "188:\tlearn: 0.4823934\ttotal: 110ms\tremaining: 64.4ms\n",
            "189:\tlearn: 0.4820088\ttotal: 110ms\tremaining: 63.8ms\n",
            "190:\tlearn: 0.4819915\ttotal: 111ms\tremaining: 63.1ms\n",
            "191:\tlearn: 0.4814495\ttotal: 111ms\tremaining: 62.5ms\n",
            "192:\tlearn: 0.4814184\ttotal: 112ms\tremaining: 61.8ms\n",
            "193:\tlearn: 0.4807585\ttotal: 112ms\tremaining: 61.3ms\n",
            "194:\tlearn: 0.4806065\ttotal: 113ms\tremaining: 60.6ms\n",
            "195:\tlearn: 0.4799753\ttotal: 113ms\tremaining: 60ms\n",
            "196:\tlearn: 0.4791178\ttotal: 114ms\tremaining: 59.4ms\n",
            "197:\tlearn: 0.4789350\ttotal: 114ms\tremaining: 58.8ms\n",
            "198:\tlearn: 0.4782539\ttotal: 115ms\tremaining: 58.2ms\n",
            "199:\tlearn: 0.4781657\ttotal: 115ms\tremaining: 57.5ms\n",
            "200:\tlearn: 0.4775900\ttotal: 116ms\tremaining: 56.9ms\n",
            "201:\tlearn: 0.4771298\ttotal: 116ms\tremaining: 56.4ms\n",
            "202:\tlearn: 0.4761274\ttotal: 117ms\tremaining: 55.8ms\n",
            "203:\tlearn: 0.4760377\ttotal: 117ms\tremaining: 55.2ms\n",
            "204:\tlearn: 0.4751673\ttotal: 118ms\tremaining: 54.6ms\n",
            "205:\tlearn: 0.4751113\ttotal: 118ms\tremaining: 53.9ms\n",
            "206:\tlearn: 0.4748154\ttotal: 119ms\tremaining: 53.3ms\n",
            "207:\tlearn: 0.4742975\ttotal: 119ms\tremaining: 52.7ms\n",
            "208:\tlearn: 0.4742406\ttotal: 120ms\tremaining: 52.1ms\n",
            "209:\tlearn: 0.4735810\ttotal: 120ms\tremaining: 51.4ms\n",
            "210:\tlearn: 0.4727829\ttotal: 121ms\tremaining: 51ms\n",
            "211:\tlearn: 0.4726532\ttotal: 121ms\tremaining: 50.4ms\n",
            "212:\tlearn: 0.4722774\ttotal: 122ms\tremaining: 49.8ms\n",
            "213:\tlearn: 0.4721776\ttotal: 122ms\tremaining: 49.2ms\n",
            "214:\tlearn: 0.4719977\ttotal: 123ms\tremaining: 48.6ms\n",
            "215:\tlearn: 0.4714637\ttotal: 124ms\tremaining: 48ms\n",
            "216:\tlearn: 0.4710692\ttotal: 124ms\tremaining: 47.5ms\n",
            "217:\tlearn: 0.4710135\ttotal: 125ms\tremaining: 46.8ms\n",
            "218:\tlearn: 0.4709961\ttotal: 125ms\tremaining: 46.2ms\n",
            "219:\tlearn: 0.4704809\ttotal: 126ms\tremaining: 45.7ms\n",
            "220:\tlearn: 0.4703881\ttotal: 126ms\tremaining: 45.1ms\n",
            "221:\tlearn: 0.4699889\ttotal: 127ms\tremaining: 44.6ms\n",
            "222:\tlearn: 0.4699636\ttotal: 128ms\tremaining: 44.1ms\n",
            "223:\tlearn: 0.4699536\ttotal: 128ms\tremaining: 43.4ms\n",
            "224:\tlearn: 0.4693362\ttotal: 129ms\tremaining: 42.9ms\n",
            "225:\tlearn: 0.4693329\ttotal: 129ms\tremaining: 42.2ms\n",
            "226:\tlearn: 0.4689584\ttotal: 129ms\tremaining: 41.6ms\n",
            "227:\tlearn: 0.4686092\ttotal: 130ms\tremaining: 41ms\n",
            "228:\tlearn: 0.4681860\ttotal: 130ms\tremaining: 40.4ms\n",
            "229:\tlearn: 0.4676818\ttotal: 131ms\tremaining: 39.9ms\n",
            "230:\tlearn: 0.4675302\ttotal: 131ms\tremaining: 39.3ms\n",
            "231:\tlearn: 0.4671889\ttotal: 132ms\tremaining: 38.7ms\n",
            "232:\tlearn: 0.4671459\ttotal: 132ms\tremaining: 38.1ms\n",
            "233:\tlearn: 0.4666942\ttotal: 133ms\tremaining: 37.5ms\n",
            "234:\tlearn: 0.4661429\ttotal: 133ms\tremaining: 36.9ms\n",
            "235:\tlearn: 0.4660020\ttotal: 134ms\tremaining: 36.3ms\n",
            "236:\tlearn: 0.4652735\ttotal: 134ms\tremaining: 35.7ms\n",
            "237:\tlearn: 0.4647081\ttotal: 135ms\tremaining: 35.2ms\n",
            "238:\tlearn: 0.4643646\ttotal: 135ms\tremaining: 34.6ms\n",
            "239:\tlearn: 0.4643358\ttotal: 136ms\tremaining: 34ms\n",
            "240:\tlearn: 0.4635419\ttotal: 136ms\tremaining: 33.4ms\n",
            "241:\tlearn: 0.4632398\ttotal: 137ms\tremaining: 32.8ms\n",
            "242:\tlearn: 0.4631334\ttotal: 137ms\tremaining: 32.2ms\n",
            "243:\tlearn: 0.4627743\ttotal: 138ms\tremaining: 31.7ms\n",
            "244:\tlearn: 0.4626852\ttotal: 138ms\tremaining: 31.1ms\n",
            "245:\tlearn: 0.4619708\ttotal: 139ms\tremaining: 30.5ms\n",
            "246:\tlearn: 0.4617480\ttotal: 139ms\tremaining: 29.9ms\n",
            "247:\tlearn: 0.4612872\ttotal: 140ms\tremaining: 29.4ms\n",
            "248:\tlearn: 0.4607302\ttotal: 141ms\tremaining: 28.8ms\n",
            "249:\tlearn: 0.4601253\ttotal: 141ms\tremaining: 28.2ms\n",
            "250:\tlearn: 0.4600000\ttotal: 142ms\tremaining: 27.6ms\n",
            "251:\tlearn: 0.4599801\ttotal: 142ms\tremaining: 27ms\n",
            "252:\tlearn: 0.4599229\ttotal: 142ms\tremaining: 26.4ms\n",
            "253:\tlearn: 0.4596088\ttotal: 143ms\tremaining: 25.9ms\n",
            "254:\tlearn: 0.4591254\ttotal: 143ms\tremaining: 25.3ms\n",
            "255:\tlearn: 0.4589781\ttotal: 144ms\tremaining: 24.7ms\n",
            "256:\tlearn: 0.4588743\ttotal: 144ms\tremaining: 24.1ms\n",
            "257:\tlearn: 0.4583358\ttotal: 145ms\tremaining: 23.6ms\n",
            "258:\tlearn: 0.4583303\ttotal: 145ms\tremaining: 23ms\n",
            "259:\tlearn: 0.4579447\ttotal: 146ms\tremaining: 22.4ms\n",
            "260:\tlearn: 0.4573850\ttotal: 146ms\tremaining: 21.9ms\n",
            "261:\tlearn: 0.4573750\ttotal: 147ms\tremaining: 21.3ms\n",
            "262:\tlearn: 0.4572469\ttotal: 147ms\tremaining: 20.7ms\n",
            "263:\tlearn: 0.4569022\ttotal: 148ms\tremaining: 20.2ms\n",
            "264:\tlearn: 0.4568416\ttotal: 149ms\tremaining: 19.6ms\n",
            "265:\tlearn: 0.4563262\ttotal: 149ms\tremaining: 19.1ms\n",
            "266:\tlearn: 0.4559088\ttotal: 150ms\tremaining: 18.5ms\n",
            "267:\tlearn: 0.4558981\ttotal: 150ms\tremaining: 17.9ms\n",
            "268:\tlearn: 0.4555589\ttotal: 151ms\tremaining: 17.4ms\n",
            "269:\tlearn: 0.4553323\ttotal: 151ms\tremaining: 16.8ms\n",
            "270:\tlearn: 0.4549451\ttotal: 152ms\tremaining: 16.2ms\n",
            "271:\tlearn: 0.4545917\ttotal: 152ms\tremaining: 15.7ms\n",
            "272:\tlearn: 0.4543554\ttotal: 153ms\tremaining: 15.1ms\n",
            "273:\tlearn: 0.4538986\ttotal: 153ms\tremaining: 14.6ms\n",
            "274:\tlearn: 0.4536095\ttotal: 154ms\tremaining: 14ms\n",
            "275:\tlearn: 0.4534187\ttotal: 154ms\tremaining: 13.4ms\n",
            "276:\tlearn: 0.4531131\ttotal: 155ms\tremaining: 12.9ms\n",
            "277:\tlearn: 0.4530040\ttotal: 155ms\tremaining: 12.3ms\n",
            "278:\tlearn: 0.4527071\ttotal: 156ms\tremaining: 11.7ms\n",
            "279:\tlearn: 0.4524335\ttotal: 156ms\tremaining: 11.2ms\n",
            "280:\tlearn: 0.4524235\ttotal: 157ms\tremaining: 10.6ms\n",
            "281:\tlearn: 0.4523653\ttotal: 157ms\tremaining: 10ms\n",
            "282:\tlearn: 0.4523207\ttotal: 157ms\tremaining: 9.45ms\n",
            "283:\tlearn: 0.4522371\ttotal: 158ms\tremaining: 8.9ms\n",
            "284:\tlearn: 0.4522284\ttotal: 158ms\tremaining: 8.34ms\n",
            "285:\tlearn: 0.4518705\ttotal: 159ms\tremaining: 7.79ms\n",
            "286:\tlearn: 0.4512650\ttotal: 160ms\tremaining: 7.24ms\n",
            "287:\tlearn: 0.4507975\ttotal: 161ms\tremaining: 6.7ms\n",
            "288:\tlearn: 0.4503035\ttotal: 161ms\tremaining: 6.14ms\n",
            "289:\tlearn: 0.4502957\ttotal: 162ms\tremaining: 5.58ms\n",
            "290:\tlearn: 0.4500474\ttotal: 163ms\tremaining: 5.03ms\n",
            "291:\tlearn: 0.4498491\ttotal: 163ms\tremaining: 4.47ms\n",
            "292:\tlearn: 0.4498423\ttotal: 163ms\tremaining: 3.9ms\n",
            "293:\tlearn: 0.4496888\ttotal: 164ms\tremaining: 3.35ms\n",
            "294:\tlearn: 0.4491049\ttotal: 165ms\tremaining: 2.79ms\n",
            "295:\tlearn: 0.4484806\ttotal: 165ms\tremaining: 2.23ms\n",
            "296:\tlearn: 0.4480480\ttotal: 166ms\tremaining: 1.67ms\n",
            "297:\tlearn: 0.4478034\ttotal: 167ms\tremaining: 1.12ms\n",
            "298:\tlearn: 0.4475557\ttotal: 168ms\tremaining: 560us\n",
            "299:\tlearn: 0.4469280\ttotal: 168ms\tremaining: 0us\n"
          ],
          "name": "stdout"
        },
        {
          "output_type": "execute_result",
          "data": {
            "text/plain": [
              "0.7894736842105263"
            ]
          },
          "metadata": {
            "tags": []
          },
          "execution_count": 40
        }
      ]
    },
    {
      "cell_type": "code",
      "metadata": {
        "id": "-tLfJ4bCu8Y4"
      },
      "source": [
        ""
      ],
      "execution_count": null,
      "outputs": []
    }
  ]
}